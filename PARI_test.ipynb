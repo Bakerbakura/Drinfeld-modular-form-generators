{
 "cells": [
  {
   "cell_type": "code",
   "execution_count": 30,
   "metadata": {
    "vscode": {
     "languageId": "python"
    }
   },
   "outputs": [
    {
     "name": "stderr",
     "output_type": "stream",
     "text": [
      "  ***   Warning: new stack size = 1073741824 (1024.000 Mbytes).\n"
     ]
    }
   ],
   "source": [
    "default(parisize,2^30) \\\\ 1 GB"
   ]
  },
  {
   "cell_type": "code",
   "execution_count": 1,
   "metadata": {
    "vscode": {
     "languageId": "python"
    }
   },
   "outputs": [
    {
     "data": {
      "text/plain": [
       "Mod(1, 2)"
      ]
     },
     "execution_count": 1,
     "metadata": {},
     "output_type": "execute_result"
    }
   ],
   "source": [
    "Mod(5,2)"
   ]
  },
  {
   "cell_type": "code",
   "execution_count": 30,
   "metadata": {
    "vscode": {
     "languageId": "python"
    }
   },
   "outputs": [
    {
     "data": {
      "text/plain": [
       "21"
      ]
     },
     "execution_count": 30,
     "metadata": {},
     "output_type": "execute_result"
    }
   ],
   "source": [
    "q = 2\n",
    "N = T^2+T\n",
    "charac = concat([\"q = \", q, \", N = \", N, \".txt\"])\n",
    "primphi = Mod(read(concat(\"primPhiA/\",charac)), 2)\n",
    "mat = Mod(Mod(read(concat(\"matrices/\",charac)),2),primphi)\n",
    "matrank(mat)"
   ]
  },
  {
   "cell_type": "code",
   "execution_count": null,
   "metadata": {
    "vscode": {
     "languageId": "python"
    }
   },
   "outputs": [],
   "source": []
  }
 ],
 "metadata": {
  "kernelspec": {
   "display_name": "PARI/GP",
   "language": "gp",
   "name": "pari_jupyter"
  },
  "language_info": {
   "file_extension": ".gp",
   "mimetype": "text/x-pari-gp",
   "name": "gp"
  }
 },
 "nbformat": 4,
 "nbformat_minor": 2
}
