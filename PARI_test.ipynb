{
 "cells": [
  {
   "cell_type": "code",
   "execution_count": null,
   "metadata": {},
   "outputs": [
    {
     "name": "stdout",
     "output_type": "stream",
     "text": [
      "\n"
     ]
    },
    {
     "name": "stderr",
     "output_type": "stream",
     "text": [
      "  ***   Warning: new stack size = 34359738368 (32768.000 Mbytes).\n"
     ]
    }
   ],
   "source": [
    "default(parisize,2^35)\n",
    "default(threadsizemax,2^30)"
   ]
  },
  {
   "cell_type": "code",
   "execution_count": null,
   "metadata": {},
   "outputs": [],
   "source": [
    "my(hypo_rank);\n",
    "hypo_rank(q,N) = {\n",
    "  my(charac, primphi, mat, rank);\n",
    "  charac = concat([\"q = \", q, \", N = \", N, \".txt\"]);\n",
    "  primphi = Mod(read(concat(\"primPhiA/\",charac)), q);\n",
    "  mat = Mod(Mod(read(concat([\"matrices_hypo/\",charac,\".gz\"])), q), primphi);\n",
    "  rank = matrank(mat);\n",
    "  if(rank == matsize(mat)[1],\n",
    "    print(concat([\"Success for q = \", q, \", N = \", N])),\n",
    "    print(concat([\"Failure for q = \", q, \", N = \", N])));\n",
    "  return(rank);\n",
    "}\n",
    "export(hypo_rank, T, e)"
   ]
  },
  {
   "cell_type": "code",
   "execution_count": 1,
   "metadata": {},
   "outputs": [
    {
     "name": "stdout",
     "output_type": "stream",
     "text": [
      "Success for q = 2, N = T^2 + T\n"
     ]
    },
    {
     "data": {
      "text/plain": [
       "21"
      ]
     },
     "execution_count": 1,
     "metadata": {},
     "output_type": "execute_result"
    }
   ],
   "source": [
    "hypo_rank(2,T^2+T)"
   ]
  },
  {
   "cell_type": "markdown",
   "metadata": {},
   "source": [
    "# $q = 2$"
   ]
  },
  {
   "cell_type": "markdown",
   "metadata": {},
   "source": [
    "## $\\deg(N) = 2$"
   ]
  },
  {
   "cell_type": "code",
   "execution_count": 1,
   "metadata": {},
   "outputs": [
    {
     "name": "stdout",
     "output_type": "stream",
     "text": [
      "Success for q = 2, N = T^2 + T\n",
      "Success for q = 2, N = T^2 + 1\n",
      "Success for q = 2, N = T^2\n",
      "Success for q = 2, N = T^2 + T + 1\n"
     ]
    }
   ],
   "source": [
    "q2N2 = [T^2 + 1, T^2 + T + 1, T^2 + T, T^2];\n",
    "export(q2N2);\n",
    "parforeach(q2N2, N, hypo_rank(2,N))"
   ]
  },
  {
   "cell_type": "markdown",
   "metadata": {},
   "source": [
    "## $\\deg(N) = 3$"
   ]
  },
  {
   "cell_type": "code",
   "execution_count": null,
   "metadata": {},
   "outputs": [
    {
     "name": "stdout",
     "output_type": "stream",
     "text": [
      "Success for q = 2, N = T^3 + 1\n",
      "Success for q = 2, N = T^3 + T + 1\n",
      "Success for q = 2, N = T^3 + T\n",
      "Success for q = 2, N = T^3 + T^2 + 1\n",
      "Success for q = 2, N = T^3 + T^2 + T + 1\n",
      "Success for q = 2, N = T^3 + T^2 + T\n",
      "Success for q = 2, N = T^3 + T^2\n",
      "Success for q = 2, N = T^3\n"
     ]
    }
   ],
   "source": [
    "q2N3 = [T^3 + 1, T^3 + T + 1, T^3 + T, T^3 + T^2 + 1, T^3 + T^2 + T + 1, T^3 + T^2 + T, T^3 + T^2, T^3];\n",
    "export(q2N3);\n",
    "foreach(q2N3, N, hypo_rank(2,N))"
   ]
  },
  {
   "cell_type": "markdown",
   "metadata": {},
   "source": [
    "## $\\deg(N) = 4$"
   ]
  },
  {
   "cell_type": "code",
   "execution_count": 25,
   "metadata": {},
   "outputs": [
    {
     "ename": "",
     "evalue": "",
     "output_type": "error",
     "traceback": [
      "\u001b[1;31mThe Kernel crashed while executing code in the current cell or a previous cell. \n",
      "\u001b[1;31mPlease review the code in the cell(s) to identify a possible cause of the failure. \n",
      "\u001b[1;31mClick <a href='https://aka.ms/vscodeJupyterKernelCrash'>here</a> for more info. \n",
      "\u001b[1;31mView Jupyter <a href='command:jupyter.viewOutput'>log</a> for further details."
     ]
    }
   ],
   "source": [
    "q2N4 = [T^4 + 1, T^4 + T, T^4 + T^2 + 1, T^4 + T^2 + T, T^4 + T^2, T^4 + T^3 + 1, T^4 + T^3 + T, T^4 + T^3 + T^2 + 1, T^4 + T^3 + T^2 + T, T^4 + T^3 + T^2, T^4 + T^3, T^4];\n",
    "foreach(q2N4, N, hypo_rank(2,N))"
   ]
  },
  {
   "cell_type": "markdown",
   "metadata": {},
   "source": [
    "# $q = 3$"
   ]
  },
  {
   "cell_type": "markdown",
   "metadata": {},
   "source": [
    "## $\\deg(N) = 2$"
   ]
  },
  {
   "cell_type": "code",
   "execution_count": null,
   "metadata": {},
   "outputs": [
    {
     "name": "stdout",
     "output_type": "stream",
     "text": [
      "Success for q = 3, N = T^2\n",
      "Success for q = 3, N = T^2 + T\n",
      "Success for q = 3, N = T^2 - T\n",
      "Success for q = 3, N = T^2 + 1\n",
      "Success for q = 3, N = T^2 + T + 1\n",
      "Success for q = 3, N = T^2 - T + 1\n",
      "Success for q = 3, N = T^2 - 1\n",
      "Success for q = 3, N = T^2 + T - 1\n",
      "Success for q = 3, N = T^2 - T - 1\n"
     ]
    }
   ],
   "source": [
    "q3N2 = [T^2, T^2 + T, T^2 - T, T^2 + 1, T^2 + T + 1, T^2 - T + 1, T^2 - 1, T^2 + T -1, T^2 - T - 1];\n",
    "export(q3N2);\n",
    "foreach(q3N2, N, hypo_rank(3,N))"
   ]
  },
  {
   "cell_type": "markdown",
   "metadata": {},
   "source": [
    "## $\\deg(N) = 3$"
   ]
  },
  {
   "cell_type": "code",
   "execution_count": 3,
   "metadata": {},
   "outputs": [
    {
     "ename": "",
     "evalue": "",
     "output_type": "error",
     "traceback": [
      "\u001b[1;31mThe Kernel crashed while executing code in the current cell or a previous cell. \n",
      "\u001b[1;31mPlease review the code in the cell(s) to identify a possible cause of the failure. \n",
      "\u001b[1;31mClick <a href='https://aka.ms/vscodeJupyterKernelCrash'>here</a> for more info. \n",
      "\u001b[1;31mView Jupyter <a href='command:jupyter.viewOutput'>log</a> for further details."
     ]
    }
   ],
   "source": [
    "q3N3 = [T^3, T^3 + T^2, T^3 - T^2, T^3 + T, T^3 + T^2 + T, T^3 - T^2 + T, T^3 - T, T^3 + T^2 - T, T^3 - T^2 - T, T^3 + 1, T^3 + T^2 + 1, T^3 - T^2 + 1, T^3 + T + 1, T^3 + T^2 + T + 1, T^3 - T^2 + T + 1, T^3 - T + 1, T^3 + T^2 - T + 1, T^3 - T^2 - T + 1, T^3 - 1, T^3 + T^2 - 1, T^3 - T^2 - 1, T^3 + T - 1, T^3 + T^2 + T - 1, T^3 - T^2 + T - 1, T^3 - T - 1, T^3 + T^2 - T - 1, T^3 - T^2 - T - 1]\n",
    "foreach(q3N3, N, hypo_rank(3,N))"
   ]
  }
 ],
 "metadata": {
  "kernelspec": {
   "display_name": "PARI/GP",
   "language": "gp",
   "name": "pari_jupyter"
  },
  "language_info": {
   "file_extension": ".gp",
   "mimetype": "text/x-pari-gp",
   "name": "gp"
  }
 },
 "nbformat": 4,
 "nbformat_minor": 2
}
