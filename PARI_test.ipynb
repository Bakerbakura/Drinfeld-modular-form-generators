{
 "cells": [
  {
   "cell_type": "code",
   "execution_count": null,
   "metadata": {},
   "outputs": [
    {
     "name": "stderr",
     "output_type": "stream",
     "text": [
      "  ***   Warning: new stack size = 8589934592 (8192.000 Mbytes).\n"
     ]
    }
   ],
   "source": [
    "default(parisize,2^33)"
   ]
  },
  {
   "cell_type": "code",
   "execution_count": null,
   "metadata": {},
   "outputs": [
    {
     "data": {
      "text/plain": [
       "130"
      ]
     },
     "execution_count": 3,
     "metadata": {},
     "output_type": "execute_result"
    }
   ],
   "source": [
    "q = 3\n",
    "N = T^2+1\n",
    "charac = concat([\"q = \", q, \", N = \", N, \".txt\"])\n",
    "primphi = Mod(read(concat(\"primPhiA/\",charac)), q)\n",
    "mat = Mod(Mod(read(concat(\"matrices/\",charac)), q), primphi)\n",
    "matrank(mat)"
   ]
  },
  {
   "cell_type": "code",
   "execution_count": 8,
   "metadata": {},
   "outputs": [],
   "source": [
    "hypo_rank(q,N) = {\n",
    "  my(charac = concat([\"q = \", q, \", N = \", N, \".txt\"]));\n",
    "  my(primphi = Mod(read(concat(\"primPhiA/\",charac)), q));\n",
    "  my(mat = Mod(Mod(read(concat([\"matrices_hypo/\",charac,\".gz\"])), q), primphi));\n",
    "  my(rank = matrank(mat));\n",
    "  if(rank == matsize(mat)[1],\n",
    "    print(\"Success!\"),\n",
    "    print(concat([\"Failure for q = \", q, \", N = \", N])));\n",
    "  return(rank);\n",
    "}\n",
    "export(hypo_rank)"
   ]
  },
  {
   "cell_type": "code",
   "execution_count": 9,
   "metadata": {},
   "outputs": [
    {
     "data": {
      "text/plain": [
       "21"
      ]
     },
     "execution_count": 9,
     "metadata": {},
     "output_type": "execute_result"
    },
    {
     "name": "stdout",
     "output_type": "stream",
     "text": [
      "Success!\n"
     ]
    }
   ],
   "source": [
    "hypo_rank(2,T^2+T)"
   ]
  },
  {
   "cell_type": "code",
   "execution_count": 8,
   "metadata": {},
   "outputs": [
    {
     "name": "stdout",
     "output_type": "stream",
     "text": [
      "\n"
     ]
    },
    {
     "name": "stderr",
     "output_type": "stream",
     "text": [
      "  ***   at top-level: parforeach(q2N2,N,hypo_rank(2,N))\n",
      "  ***                 ^---------------------------------\n",
      "  *** parforeach: mt: please use export(e)."
     ]
    }
   ],
   "source": [
    "q2N2 = [T^2 + 1, T^2 + T + 1, T^2 + T, T^2]\n",
    "parforeach(q2N2, N, hypo_rank(2,N))"
   ]
  },
  {
   "cell_type": "code",
   "execution_count": null,
   "metadata": {},
   "outputs": [],
   "source": [
    "q2N3 = [T^3 + 1, T^3 + T + 1, T^3 + T, T^3 + T^2 + 1, T^3 + T^2 + T + 1, T^3 + T^2 + T, T^3 + T^2, T^3]"
   ]
  },
  {
   "cell_type": "code",
   "execution_count": null,
   "metadata": {},
   "outputs": [],
   "source": [
    "q2N4 = [T^4 + 1, T^4 + T, T^4 + T^2 + 1, T^4 + T^2 + T, T^4 + T^2, T^4 + T^3 + 1, T^4 + T^3 + T, T^4 + T^3 + T^2 + 1, T^4 + T^3 + T^2 + T, T^4 + T^3 + T^2, T^4 + T^3, T^4]"
   ]
  }
 ],
 "metadata": {
  "kernelspec": {
   "display_name": "PARI/GP",
   "language": "gp",
   "name": "pari_jupyter"
  },
  "language_info": {
   "file_extension": ".gp",
   "mimetype": "text/x-pari-gp",
   "name": "gp"
  }
 },
 "nbformat": 4,
 "nbformat_minor": 2
}
