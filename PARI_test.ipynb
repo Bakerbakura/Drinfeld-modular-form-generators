{
 "cells": [
  {
   "cell_type": "code",
   "execution_count": 2,
   "metadata": {},
   "outputs": [
    {
     "name": "stdout",
     "output_type": "stream",
     "text": [
      "\n"
     ]
    },
    {
     "name": "stderr",
     "output_type": "stream",
     "text": [
      "  ***   Warning: new stack size = 17179869184 (16384.000 Mbytes).\n"
     ]
    }
   ],
   "source": [
    "default(parisize,2^34)"
   ]
  },
  {
   "cell_type": "code",
   "execution_count": 3,
   "metadata": {},
   "outputs": [
    {
     "data": {
      "text/plain": [
       "130"
      ]
     },
     "execution_count": 3,
     "metadata": {},
     "output_type": "execute_result"
    }
   ],
   "source": [
    "q = 3\n",
    "N = T^2+1\n",
    "charac = concat([\"q = \", q, \", N = \", N, \".txt\"])\n",
    "primphi = Mod(read(concat(\"primPhiA/\",charac)), q)\n",
    "mat = Mod(Mod(read(concat(\"matrices/\",charac)), q), primphi)\n",
    "matrank(mat)"
   ]
  },
  {
   "cell_type": "code",
   "execution_count": null,
   "metadata": {},
   "outputs": [],
   "source": [
    "rank(q, N) = {\n",
    "  charac = concat([\"q = \", q, \", N = \", N, \".txt\"]);\n",
    "  primphi = Mod(read(concat(\"primPhiA/\",charac)), q);\n",
    "  mat = Mod(Mod(read(concat(\"matrices/\",charac)), q), primphi);\n",
    "  matrank(mat)\n",
    "}"
   ]
  }
 ],
 "metadata": {
  "kernelspec": {
   "display_name": "PARI/GP",
   "language": "gp",
   "name": "pari_jupyter"
  },
  "language_info": {
   "file_extension": ".gp",
   "mimetype": "text/x-pari-gp",
   "name": "gp"
  }
 },
 "nbformat": 4,
 "nbformat_minor": 2
}
