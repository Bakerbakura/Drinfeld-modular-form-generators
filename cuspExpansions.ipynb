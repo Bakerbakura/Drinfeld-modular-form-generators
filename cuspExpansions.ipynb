{
 "cells": [
  {
   "cell_type": "markdown",
   "metadata": {},
   "source": [
    "# Defining the field $\\mathbb{F}_q$ and the polynomial ring $\\mathbb{F}_q[T]$"
   ]
  },
  {
   "cell_type": "markdown",
   "metadata": {},
   "source": [
    "Define base field:"
   ]
  },
  {
   "cell_type": "code",
   "execution_count": 1,
   "metadata": {},
   "outputs": [],
   "source": [
    "# Define base field by prime power:\n",
    "q = 2"
   ]
  },
  {
   "cell_type": "markdown",
   "metadata": {},
   "source": [
    "Calculate the field $F_q$:\n",
    "\n",
    "($g$ is a generator of the multiplicative group of $F_q$)"
   ]
  },
  {
   "cell_type": "code",
   "execution_count": 2,
   "metadata": {},
   "outputs": [],
   "source": [
    "Fq = GF(q,'g')\n",
    "g = Fq.gen()"
   ]
  },
  {
   "cell_type": "markdown",
   "metadata": {},
   "source": [
    "Define the polynomial rings $\\mathbb{F}_q[T]$, $\\mathbb{F}_q[T,X]$, and $\\mathbb{F}_q[T][X]$:"
   ]
  },
  {
   "cell_type": "code",
   "execution_count": 3,
   "metadata": {},
   "outputs": [],
   "source": [
    "FqT.<T> = Fq[]\n",
    "FFqT.<T> = FunctionField(Fq)\n",
    "FqTX.<T,X> = Fq[]\n",
    "FFqT_X.<X> = FFqT[]\n",
    "sep_TX = FqTX.hom([T,X],FFqT_X)"
   ]
  },
  {
   "cell_type": "markdown",
   "metadata": {},
   "source": [
    "# Helper Functions"
   ]
  },
  {
   "cell_type": "markdown",
   "metadata": {},
   "source": [
    "## Polynomial algebra and number theory"
   ]
  },
  {
   "cell_type": "markdown",
   "metadata": {},
   "source": [
    "### Factors of a polynomial"
   ]
  },
  {
   "cell_type": "code",
   "execution_count": 4,
   "metadata": {},
   "outputs": [],
   "source": [
    "def prime_factors(p):\r\n",
    "    return set(pr for pr,n in list(p.factor()))\r\n",
    "def cross_multiply(l):\r\n",
    "    if len(l) == 0:\r\n",
    "        return set(1)\r\n",
    "    else:\r\n",
    "        return set(p*q for p in l[0] for q in cross_multiply(l[1:]))\r\n",
    "def all_factors(p):\r\n",
    "    list_of_powers = [set(pr^i for i in range(n+1)) for pr,n in list(p.factor())]\r\n",
    "    return cross_multiply(list_of_powers)\r\n",
    "def is_monicList(l):\r\n",
    "    for p in l:\r\n",
    "        if p != 0:\r\n",
    "            return p.is_monic()\r\n",
    "    return False"
   ]
  },
  {
   "cell_type": "markdown",
   "metadata": {},
   "source": [
    "### Euler $\\varphi$ function"
   ]
  },
  {
   "cell_type": "code",
   "execution_count": 5,
   "metadata": {},
   "outputs": [],
   "source": [
    "from functools import reduce\n",
    "\n",
    "def qNorm(p):\n",
    "    return q^p.degree()\n",
    "def product(iterable):\n",
    "    return reduce(operator.mul, iterable, 1)\n",
    "def EulerPhi(n, p):\n",
    "    pfs = prime_factors(p)\n",
    "    pf_norms = [qNorm(pf) for pf in pfs]\n",
    "    return qNorm(p)^n * product(1-pfn^(-n) for pfn in pf_norms)"
   ]
  },
  {
   "cell_type": "markdown",
   "metadata": {},
   "source": [
    "### Extended gcd of a list of polynomials"
   ]
  },
  {
   "cell_type": "code",
   "execution_count": 6,
   "metadata": {},
   "outputs": [],
   "source": [
    "def my_xgcd(l):\r\n",
    "    if len(l) < 2:\r\n",
    "        raise ValueError\r\n",
    "    elif len(l) == 2:\r\n",
    "        return l[0].xgcd(l[1])\r\n",
    "    else: # len(l) > 2\r\n",
    "        xgcd_rest = my_xgcd(l[1:])\r\n",
    "        pgcd = l[0].xgcd(xgcd_rest[0])\r\n",
    "        # + here is tuple concatenation:\r\n",
    "        return pgcd[:2] + tuple(pgcd[2]*xgcd_rest[i] for i in range(1,len(l)))\r\n"
   ]
  },
  {
   "cell_type": "markdown",
   "metadata": {},
   "source": [
    "### List of polynomials modulo a polynomial"
   ]
  },
  {
   "cell_type": "code",
   "execution_count": 7,
   "metadata": {
    "tags": []
   },
   "outputs": [],
   "source": [
    "@cached_function\r\n",
    "def numsMod_deg(n):\r\n",
    "    if n == 0:\r\n",
    "        return [0]\r\n",
    "    elif n > 0:\r\n",
    "        highMonos = [c*FqT(T)^(n-1) for c in Fq]\r\n",
    "        return [hm+num for hm in highMonos for num in numsMod_deg(n-1)]\r\n",
    "    else:\r\n",
    "        raise ValueError\r\n",
    "def numsMod(p):\r\n",
    "    p = FqT(p)\r\n",
    "    return numsMod_deg(p.degree())\r\n",
    "\r\n",
    "# numsMod(T^2+T)"
   ]
  },
  {
   "cell_type": "markdown",
   "metadata": {},
   "source": [
    "### Lists of pairs modulo a polynomial"
   ]
  },
  {
   "cell_type": "code",
   "execution_count": 8,
   "metadata": {},
   "outputs": [],
   "source": [
    "@cached_function\r\n",
    "def pairsMod_deg(n):\r\n",
    "    nums = numsMod_deg(n)\r\n",
    "    return [(n1,n2) for n1 in nums for n2 in nums]\r\n",
    "def pairsMod(p):\r\n",
    "    p = FqT(p)\r\n",
    "    return pairsMod_deg(p.degree())\r\n",
    "\r\n",
    "def nonzeroPairs_deg(n):\r\n",
    "    return [(n1,n2) for n1,n2 in pairsMod_deg(n) if (n1,n2) != (0,0)]\r\n",
    "def nonzeroPairs(p):\r\n",
    "    p = FqT(p)\r\n",
    "    return nonzeroPairs_deg(p.degree())\r\n",
    "\r\n",
    "@cached_function\r\n",
    "def monicPairs_deg(n):\r\n",
    "    return [pair for pair in nonzeroPairs_deg(n) if is_monicList(pair)]\r\n",
    "def monicPairs(p):\r\n",
    "    p = FqT(p)\r\n",
    "    return monicPairs_deg(p.degree())"
   ]
  },
  {
   "cell_type": "markdown",
   "metadata": {},
   "source": [
    "### Lists of cusps"
   ]
  },
  {
   "cell_type": "code",
   "execution_count": 9,
   "metadata": {},
   "outputs": [],
   "source": [
    "@cached_function\r\n",
    "def cusps(p):\r\n",
    "  p = FqT(p)\r\n",
    "  return [(p1,p2) for p1,p2 in monicPairs(p) if p.gcd(p1).gcd(p2) == 1]\r\n",
    "    \r\n",
    "@cached_function\r\n",
    "def biCusps(p):\r\n",
    "  p = FqT(p)\r\n",
    "  cc = cusps(p)\r\n",
    "  xgcd_coeffs = [my_xgcd(c+(p,))[1:] for c in cc]\r\n",
    "  return [(c,(-x[1],x[0])) for c,x in zip(cc,xgcd_coeffs)]\r\n",
    "\r\n",
    "# biCusps(T^2+T)"
   ]
  },
  {
   "cell_type": "markdown",
   "metadata": {},
   "source": [
    "### List of pairs congruent to another pair modulo a divisor of a polynomial"
   ]
  },
  {
   "cell_type": "code",
   "execution_count": 10,
   "metadata": {},
   "outputs": [],
   "source": [
    "# list of all pairs mod `p` which are congruent to the pair `r` modulo `m`,\r\n",
    "# where `m` is a divisor of `p`\r\n",
    "def pairsCongruentMod(r, m, p):\r\n",
    "\tm, p = FqT(m), FqT(p)\r\n",
    "\tif p % m != 0: raise ValueError\r\n",
    "\tn = FqT(p/m)\r\n",
    "\treturn [(m*t1+r[0], m*t2+r[1]) for t1,t2 in pairsMod(n)]\r\n",
    "\r\n",
    "# pairsCongruentMod((1,0), T, T^2+T)"
   ]
  },
  {
   "cell_type": "markdown",
   "metadata": {},
   "source": [
    "## Reduction of list of Eisenstein pairs using known relations"
   ]
  },
  {
   "cell_type": "code",
   "execution_count": 36,
   "metadata": {},
   "outputs": [],
   "source": [
    "import itertools\r\n",
    "\r\n",
    "def reducedTwoPairs(p):\r\n",
    "\tp = FqT(p)\r\n",
    "\t# list of (indices of) Eisenstein series of weight 1\r\n",
    "\tnnzPairs = nonzeroPairs(p)\r\n",
    "\t# list of products of two Eisenstein series of weight 1\r\n",
    "\tnnzTwoPairs = list(itertools.product(nnzPairs,repeat=2))\r\n",
    "\t\r\n",
    "\t# passing between products of two Eisenstein series and columns\r\n",
    "\tto_idx_dict = dict(zip(nnzTwoPairs,range(len(nnzTwoPairs))))\r\n",
    "\tto_twoPair_dict = dict(zip(range(len(nnzTwoPairs)),nnzTwoPairs))\r\n",
    "\t\r\n",
    "\t# constants\r\n",
    "\tzero, one = FqT.zero(), FqT.one()\r\n",
    "\t\r\n",
    "\t# dict-form of matrix of relations\r\n",
    "\tmatrix_dict = {}\r\n",
    "\tr = 0\r\n",
    "\tdef add_row(d): # `d` is a dict mapping twoPairs to matrix entries\r\n",
    "\t\tnonlocal r\r\n",
    "\t\tfor k,v in d.items():\r\n",
    "\t\t\tmatrix_dict[(r,to_idx_dict[k])] = v\r\n",
    "\t\tr += 1\r\n",
    "\t\r\n",
    "\t# scaling of left and right elements of product\r\n",
    "\tfor l in Fq:\r\n",
    "\t\tif l != zero and l != one:\r\n",
    "\t\t\tfor p1,p2 in nnzTwoPairs:\r\n",
    "\t\t\t\tlp1 = (l*p1[0], l*p1[1]) # l * p1\r\n",
    "\t\t\t\tadd_row({(lp1,p2): l, (p1,p2): -one})\r\n",
    "\t# print(r+1, \"scaling relations\")\r\n",
    "\t\r\n",
    "\t# swapping of elements of products of distinct elements\r\n",
    "\tfor p1,p2 in itertools.combinations(nnzPairs,2):\r\n",
    "\t\tadd_row({(p1,p2): one, (p2,p1): -one})\r\n",
    "\t# print(r+1, \"with swapping relations\")\r\n",
    "\t\r\n",
    "\t# relations arising from additivity of e_Lambda(z)\r\n",
    "\tfor pa,pb in nnzTwoPairs:\r\n",
    "\t\tpab = (pa[0]+pb[0], pa[1]+pb[1]) # pa + pb\r\n",
    "\t\tif pab == (zero, zero): continue\r\n",
    "\r\n",
    "\t\tif pa == pb:\r\n",
    "\t\t\tadd_row({(pa,pb): one, (pab,pb): -one-one})\r\n",
    "\t\telse:\r\n",
    "\t\t\tadd_row({(pa,pb): one, (pab,pb): -one, (pab,pa): -one})\r\n",
    "\t# print(r+1, \"with adding relations\")\r\n",
    "\t\r\n",
    "\t# linear relations arising from factorisation of `p`\r\n",
    "\tfor m in prime_factors(p):\r\n",
    "\t\tn = FqT(p/m)\r\n",
    "\t\tfor s in nonzeroPairs(n):\r\n",
    "\t\t\tfor k in nnzPairs:\r\n",
    "\t\t\t\td = {}\r\n",
    "\t\t\t\tfor t in pairsCongruentMod(s, n, p):\r\n",
    "\t\t\t\t\td[(t,k)] = one\r\n",
    "\t\t\t\r\n",
    "\t\t\t\tms = (m*s[0],m*s[1]) # m * s\r\n",
    "\t\t\t\tif (ms,k) in d.keys():\r\n",
    "\t\t\t\t\td[(ms,k)] = d[(ms,k)] - m\r\n",
    "\t\t\t\telse:\r\n",
    "\t\t\t\t\td[(ms,k)] = -m\r\n",
    "\t\t\t\r\n",
    "\t\t\t\tadd_row(d)\r\n",
    "\t# print(r+1, \"with linear factor relations\")\r\n",
    "\t\r\n",
    "\t# square quadratic relations arising from factorisation of `p`\r\n",
    "\tfor m in prime_factors(p):\r\n",
    "\t\tn = FqT(p/m)\r\n",
    "\t\tfor s in nonzeroPairs(n):\r\n",
    "\t\t\td = {}\r\n",
    "\t\t\tfor t in pairsCongruentMod(s, n, p):\r\n",
    "\t\t\t\td[(t,t)] = one\r\n",
    "\t\t\t\r\n",
    "\t\t\tms = (m*s[0],m*s[1]) # m * s\r\n",
    "\t\t\tif (ms,ms) in d.keys():\r\n",
    "\t\t\t\td[(ms,ms)] = d[(ms,ms)] - m^2\r\n",
    "\t\t\telse:\r\n",
    "\t\t\t\td[(ms,ms)] = -m^2\r\n",
    "\t\t\t\r\n",
    "\t\t\tadd_row(d)\r\n",
    "\r\n",
    "\t# other quadratic relations arising from factorisation of `p`, for `q = 2`\r\n",
    "\tif q == 2:\r\n",
    "\t\tfor m in prime_factors(p):\r\n",
    "\t\t\tn = FqT(p/m)\r\n",
    "\t\t\tfor s in nonzeroPairs(n):\r\n",
    "\t\t\t\td = {}\r\n",
    "\t\t\t\tfor t1,t2 in itertools.combinations(pairsCongruentMod(s, n, p), 2):\r\n",
    "\t\t\t\t\td[(t1,t2)] = one\r\n",
    "\t\t\t\t\r\n",
    "\t\t\t\tms = (m*s[0],m*s[1]) # m * s\r\n",
    "\t\t\t\tfor u in nonzeroPairs(m):\r\n",
    "\t\t\t\t\tnu = (n*u[0],n*u[1]) # n * u\r\n",
    "\t\t\t\t\tif (ms,nu) in d.keys():\r\n",
    "\t\t\t\t\t\td[(ms,nu)] = d[(ms,nu)] - m\r\n",
    "\t\t\t\t\telse:\r\n",
    "\t\t\t\t\t\td[(ms,nu)] = -m\r\n",
    "\t\t\t\t\r\n",
    "\t\t\t\tadd_row(d)\r\n",
    "\t\r\n",
    "\tnrows, ncols = r+1, len(nnzTwoPairs)\r\n",
    "\t# print(\"Matrix of relations dimensions:\", nrows, ncols)\r\n",
    "\tmat = matrix(FFqT, nrows, ncols, matrix_dict, sparse=True)\r\n",
    "\t# those which are not pivot columns of the echelonised form:\r\n",
    "\t# print(\"Calculating nonpivots:\")\r\n",
    "\tnon_pivots = mat.nonpivots()\r\n",
    "\tnon_pivot_twoPairs = [to_twoPair_dict[col] for col in non_pivots]\r\n",
    "\treturn non_pivot_twoPairs\r\n",
    "\r\n",
    "# reducedTwoPairs(T^2)"
   ]
  },
  {
   "cell_type": "markdown",
   "metadata": {},
   "source": [
    "## Drinfeld module functions"
   ]
  },
  {
   "cell_type": "markdown",
   "metadata": {},
   "source": [
    "Frobenius endomorphism and ring of skew polynomials:"
   ]
  },
  {
   "cell_type": "code",
   "execution_count": 12,
   "metadata": {},
   "outputs": [],
   "source": [
    "frob = FqTX.hom([FqTX(T)^q,FqTX(X)^q])\n",
    "frob\n",
    "SkewTX.<tau> = FqTX['tau',frob]\n",
    "# SkewTX\n",
    "# phiaT = T +T*tau +tau^2; phiaT(T)"
   ]
  },
  {
   "cell_type": "markdown",
   "metadata": {},
   "source": [
    "$\\varphi^{\\pi A}_p(x)$ for a polynomial $p \\in \\mathbb{F}_q[T]$, output in $\\mathbb{F}_q(T)[X]$:"
   ]
  },
  {
   "cell_type": "code",
   "execution_count": 13,
   "metadata": {},
   "outputs": [],
   "source": [
    "phi_hom = FqT.hom([T+tau],SkewTX)\n",
    "\n",
    "@cached_function\n",
    "def phiA(p):\n",
    "    return sep_TX(phi_hom(FqT(p)).operator_eval(X))\n",
    "\n",
    "# (phiA(T^2+T)/phiA(T+1)/phiA(T)*phiA(1))(1/X).parent()"
   ]
  },
  {
   "cell_type": "markdown",
   "metadata": {},
   "source": [
    "Most primitive factor of $\\varphi_p^{\\pi A}(x)$, output in $\\mathbb{F}_q(T)[X]$:"
   ]
  },
  {
   "cell_type": "code",
   "execution_count": 14,
   "metadata": {},
   "outputs": [],
   "source": [
    "@cached_function\n",
    "def primPhiA(p):\n",
    "    p = FqT(p)\n",
    "    primes = list(prime_factors(p))\n",
    "    return FFqT_X(phiA_inclExcl_div(p,primes))\n",
    "\n",
    "def phiA_inclExcl_div(p,l):\n",
    "    if len(l) == 0:\n",
    "        return phiA(p)\n",
    "    else:\n",
    "        first, rest = l[0], l[1:]\n",
    "        num = phiA_inclExcl_div(p,rest)\n",
    "        denom = phiA_inclExcl_div(p/first,rest)\n",
    "        return num / denom\n",
    "\n",
    "# primPhiA(T^2+T) == phiA(T^2+T) / phiA(T+1) / phiA(T) * phiA(1)\n",
    "# primPhiA(T^2+T).parent()"
   ]
  },
  {
   "cell_type": "markdown",
   "metadata": {},
   "source": [
    "$\\pi e_A \\left(\\frac{r}{N}\\right) = e_{\\pi a} \\left(\\frac{\\pi r}{N}\\right)$"
   ]
  },
  {
   "cell_type": "code",
   "execution_count": 15,
   "metadata": {},
   "outputs": [],
   "source": [
    "@cached_function\n",
    "def FqT_adj(N):\n",
    "    # ext = FFqT_X.quotient(primPhiA(N), 'e1')\n",
    "    why.<e> = FFqT[]\n",
    "    poly = primPhiA(N)(e)\n",
    "    ext.<e> = FFqT.extension(poly)\n",
    "    return ext, e\n",
    "\n",
    "# FqT_N, e = FqT_adj(T^2+T); FqT_N"
   ]
  },
  {
   "cell_type": "code",
   "execution_count": 16,
   "metadata": {},
   "outputs": [],
   "source": [
    "@cached_function\n",
    "def eA(r,N):\n",
    "    ext, e1 = FqT_adj(N)\n",
    "    return phiA(r % N)(e1)\n",
    "\n",
    "\n",
    "# eA(T^3+T^2-T, T^2+T)\n",
    "# eA(T^3+T^2-T, T^2+T).parent()"
   ]
  },
  {
   "cell_type": "markdown",
   "metadata": {},
   "source": [
    "## Expansions of Eisenstein series"
   ]
  },
  {
   "cell_type": "markdown",
   "metadata": {},
   "source": [
    "### Integrality factor"
   ]
  },
  {
   "cell_type": "code",
   "execution_count": 17,
   "metadata": {},
   "outputs": [],
   "source": [
    "@cached_function\n",
    "def int_factor(N):\n",
    "    return FqT(N).radical()\n",
    "\n",
    "# int_factor(T^2+T).parent()"
   ]
  },
  {
   "cell_type": "markdown",
   "metadata": {},
   "source": [
    "### Expansion of an Eisenstein series at $\\infty$"
   ]
  },
  {
   "cell_type": "code",
   "execution_count": 18,
   "metadata": {},
   "outputs": [],
   "source": [
    "# X-expansion of an Eisenstein series at infinity to order 'omax',\n",
    "# exclusive; currently only works if omax < |N|\n",
    "# 1 / (eA(r2,N) + phiA(r1,1/X))\n",
    "@cached_function\n",
    "def E2SeriesInfinity(r,omax,N):\n",
    "    r1,r2 = r\n",
    "    r1 %= N; r2 %= N\n",
    "    deg, lc = r1.degree(), r1.lc()\n",
    "\n",
    "    radical = int_factor(N)\n",
    "\n",
    "    if omax > qNorm(N):\n",
    "        print(\n",
    "            \"Warning: incomplete E-series expansion since omax,\"\n",
    "            f\"{omax}, is greater than the norm of N, {qNorm(N)}.\"\n",
    "        )\n",
    "    \n",
    "    if deg == -1: # r1 == 0 mod N\n",
    "        return radical / eA(r2,N)\n",
    "    else:\n",
    "        frac = 1 -X^(q^deg) * (eA(r2,N)+phiA(r1)(1/X)) / lc\n",
    "        # return from fraction field to polynomial ring\n",
    "        fracfield = frac.parent()\n",
    "        sect = fracfield.coerce_map_from(fracfield.ring()).section()\n",
    "        frac = sect(frac)\n",
    "        imax = omax - q^deg\n",
    "        inexp = 0\n",
    "        for i in range(imax+1):\n",
    "            inexp += frac^i\n",
    "        return radical * X^(q^deg) * inexp / lc +O(X^omax)\n",
    "\n",
    "# E2SeriesInfinity((1,T), 6, T^2)\n",
    "# E2SeriesInfinity((1,T), 6, T^2).parent()"
   ]
  },
  {
   "cell_type": "markdown",
   "metadata": {},
   "source": [
    "### Series expansion of a product of Eisenstein series at a cusp"
   ]
  },
  {
   "cell_type": "code",
   "execution_count": 19,
   "metadata": {},
   "outputs": [],
   "source": [
    "@cached_function\n",
    "def E2Series(r,biCusp,N):\n",
    "    ab,cd = biCusp; a,b = ab; c,d = cd\n",
    "    R = [((a*r1+c*r2) % N, (b*r1+d*r2) % N) for r1,r2 in r]\n",
    "    omax = (len(r) * qNorm(N) / (q+1) +1).floor()\n",
    "    p = product(E2SeriesInfinity(rbc,omax,N) for rbc in R) +O(X^omax)\n",
    "    return p\n",
    "\n",
    "def E2Series_list(r,biCusp,N,deg):\n",
    "    series = E2Series(r,biCusp,N)\n",
    "    l = series.list()\n",
    "    if len(l) >= deg:\n",
    "        return l[:deg]\n",
    "    else: # len(l) < deg\n",
    "        return l +[0]*(deg-len(l))\n",
    "\n",
    "# E2Series([(1,0),(T,2),(2,T+1)], ((0,1),(-1,0)), T^2+T)\n",
    "# E2Series_list(((1,0),(T,2),(2,T+1)), ((0,1),(-1,0)), T^2+T, 15)\n"
   ]
  },
  {
   "cell_type": "markdown",
   "metadata": {},
   "source": [
    "# Main function"
   ]
  },
  {
   "cell_type": "code",
   "execution_count": 20,
   "metadata": {},
   "outputs": [],
   "source": [
    "import time\r\n",
    "import datetime\r\n",
    "log_level = 1\r\n",
    "mPrintFreq = 5\r\n",
    "\r\n",
    "def printTemp(n,*args):\r\n",
    "    if log_level >= n:\r\n",
    "        print(\"\\r\", *args, sep='', end='')\r\n",
    "\r\n",
    "def stats(N):\r\n",
    "    start = time.time()\r\n",
    "\r\n",
    "    N = FqT(N)\r\n",
    "    printTemp(1, \"Beginning calculation of statistics for\", N)\r\n",
    "\r\n",
    "    printTemp(1, \"Forming set of Eisenstein pairs\")\r\n",
    "    redTwoPairs = reducedTwoPairs(N)\r\n",
    "\r\n",
    "    printTemp(1, \"Calculating t-expansions of Eisenstein pairs\")\r\n",
    "    series_cutoff = ceil(2 * qNorm(N) / (q+1))\r\n",
    "    lists = [\r\n",
    "        [E2Series_list(r,bc,N,series_cutoff) for bc in biCusps(N)]\r\n",
    "        for r in redTwoPairs\r\n",
    "    ]\r\n",
    "    printTemp(1, \"Transposing nested sublists of coefficients\")\r\n",
    "    trans = [map(list, zip(*l)) for l in lists]\r\n",
    "    printTemp(1, \"Flattening nested sublists of coefficients\")\r\n",
    "    flats = [(coeff for il in mat for coeff in il) for mat in trans]\r\n",
    "    printTemp(1, \"Truncating flattened sublists\")\r\n",
    "    cutoff = 2 * qNorm(N) * EulerPhi(2,N) / (q^2-1)\r\n",
    "    cuts = [list(l)[:cutoff] for l in flats]\r\n",
    "    # c_cuts = [list(l) for l in c_flats]\r\n",
    "    printTemp(1, \"Creating final matrix of coefficients\")\r\n",
    "    mat = matrix(cuts)\r\n",
    "    r, c = mat.nrows(), mat.ncols()\r\n",
    "    printTemp(1, f\"Matrix has dimensions {r}×{c}\")\r\n",
    "\r\n",
    "    printTemp(1, \"Calculating full rank of weight 2 D-modular forms\")\r\n",
    "    W2rank = qNorm(N) * EulerPhi(2,N) / (q^2-1) + EulerPhi(2,N) / (q-1)\r\n",
    "    printTemp(1, f\"Rank of all weight 2 modular forms is {W2rank}\\n\")\r\n",
    "\r\n",
    "    printTemp(1,\r\n",
    "                \"Calculating rank of the matrix of coefficients, \",\r\n",
    "                f\"with {mat.nrows()} rows and {mat.ncols()} columns\")\r\n",
    "    rank = mat.rank()\r\n",
    "    printTemp(1, f\"Rank of matrix is {rank}\\n\")\r\n",
    "\r\n",
    "    n_nnz = sum(map(\r\n",
    "        lambda row: sum(map(lambda entry: entry != 0, row)),\r\n",
    "        mat\r\n",
    "    ))\r\n",
    "\r\n",
    "    end = time.time()\r\n",
    "\r\n",
    "\r\n",
    "    return {\r\n",
    "        \"q\": q,\r\n",
    "        \"N\": N,\r\n",
    "        \"N, factored\": N.factor(),\r\n",
    "        \"number of cusps\": len(biCusps(N)),\r\n",
    "        \"finalMatrix\": mat,\r\n",
    "        \"number of nonzero entries\": n_nnz,\r\n",
    "        \"fraction of nonzero entries\": n_nnz / (mat.nrows()*mat.ncols()),\r\n",
    "        \"rank\": rank,\r\n",
    "        \"full rank of weight 2 D-modular forms\": W2rank,\r\n",
    "        \"time taken\": str(datetime.timedelta(seconds=end-start))\r\n",
    "    }"
   ]
  },
  {
   "cell_type": "markdown",
   "metadata": {},
   "source": [
    "# Results"
   ]
  },
  {
   "cell_type": "markdown",
   "metadata": {},
   "source": [
    "## $q = 2$, $\\deg N = 2$"
   ]
  },
  {
   "cell_type": "code",
   "execution_count": 29,
   "metadata": {},
   "outputs": [
    {
     "name": "stdout",
     "output_type": "stream",
     "text": [
      "Forming set of Eisenstein pairsprime T\n",
      "s (0, 1)\n",
      "s (1, 0)\n",
      "s (1, 1)\n",
      "Matrix of relations dimensions: 361 225\n",
      "Calculating nonpivots:\n",
      "Rank of all weight 2 modular forms is 28\n",
      "Rank of matrix is 27\n"
     ]
    },
    {
     "data": {
      "text/plain": "{'q': 2,\n 'N': T^2,\n 'N, factored': T^2,\n 'number of cusps': 12,\n 'finalMatrix': 44 x 32 dense matrix over Function field in e defined by e^2 + T*e + T,\n 'number of nonzero entries': 192,\n 'fraction of nonzero entries': 0.13636363636363635,\n 'rank': 27,\n 'full rank of weight 2 D-modular forms': 28,\n 'time taken': '0:00:00.623985'}"
     },
     "execution_count": 29,
     "metadata": {},
     "output_type": "execute_result"
    }
   ],
   "source": [
    "stats(T^2)"
   ]
  },
  {
   "cell_type": "code",
   "execution_count": 26,
   "metadata": {},
   "outputs": [
    {
     "name": "stdout",
     "output_type": "stream",
     "text": [
      "Rank of all weight 2 modular forms is 21\n",
      "Rank of matrix is 14\n"
     ]
    },
    {
     "data": {
      "text/plain": "{'q': 2,\n 'N': T^2 + T,\n 'N, factored': T * (T + 1),\n 'number of cusps': 9,\n 'finalMatrix': 21 x 24 dense matrix over Function field in e defined by e + 1,\n 'number of nonzero entries': 59,\n 'fraction of nonzero entries': 0.11706349206349206,\n 'rank': 14,\n 'full rank of weight 2 D-modular forms': 21,\n 'time taken': '0:00:01.124266'}"
     },
     "execution_count": 26,
     "metadata": {},
     "output_type": "execute_result"
    }
   ],
   "source": [
    "stats(T^2+T)"
   ]
  },
  {
   "cell_type": "markdown",
   "metadata": {},
   "source": [
    "## $q = 2$, $\\deg N = 3$"
   ]
  },
  {
   "cell_type": "code",
   "execution_count": 39,
   "metadata": {},
   "outputs": [
    {
     "name": "stdout",
     "output_type": "stream",
     "text": [
      "Rank of all weight 2 modular forms is 176\n",
      "Rank of matrix is 176\n"
     ]
    },
    {
     "data": {
      "text/plain": "{'q': 2,\n 'N': T^3,\n 'N, factored': T^3,\n 'number of cusps': 48,\n 'finalMatrix': 560 x 256 dense matrix over Function field in e defined by e^4 + (T^2 + T)*e^2 + T^2*e + T,\n 'number of nonzero entries': 19179,\n 'fraction of nonzero entries': 0.13378208705357142,\n 'rank': 176,\n 'full rank of weight 2 D-modular forms': 176,\n 'time taken': '0:49:11.688175'}"
     },
     "execution_count": 39,
     "metadata": {},
     "output_type": "execute_result"
    }
   ],
   "source": [
    "stats(T^3)"
   ]
  },
  {
   "cell_type": "code",
   "execution_count": 38,
   "metadata": {},
   "outputs": [
    {
     "name": "stdout",
     "output_type": "stream",
     "text": [
      "Rank of all weight 2 modular forms is 165\n",
      "Rank of matrix is 165\n"
     ]
    },
    {
     "data": {
      "text/plain": "{'q': 2,\n 'N': T^3 + 1,\n 'N, factored': (T + 1) * (T^2 + T + 1),\n 'number of cusps': 45,\n 'finalMatrix': 425 x 240 dense matrix over Function field in e defined by e^3 + (T + 1)*e^2 + T*e + 1,\n 'number of nonzero entries': 12554,\n 'fraction of nonzero entries': 0.12307843137254902,\n 'rank': 165,\n 'full rank of weight 2 D-modular forms': 165,\n 'time taken': '1:08:46.759680'}"
     },
     "execution_count": 38,
     "metadata": {},
     "output_type": "execute_result"
    }
   ],
   "source": [
    "stats(T^3+1)"
   ]
  },
  {
   "cell_type": "code",
   "execution_count": 37,
   "metadata": {},
   "outputs": [
    {
     "name": "stdout",
     "output_type": "stream",
     "text": [
      "Rank of all weight 2 modular forms is 132\n",
      "Rank of matrix is 131\n"
     ]
    },
    {
     "data": {
      "text/plain": "{'q': 2,\n 'N': T^3 + T^2,\n 'N, factored': (T + 1) * T^2,\n 'number of cusps': 36,\n 'finalMatrix': 228 x 192 dense matrix over Function field in e defined by e^2 + T*e + 1,\n 'number of nonzero entries': 5101,\n 'fraction of nonzero entries': 0.1165250365497076,\n 'rank': 131,\n 'full rank of weight 2 D-modular forms': 132,\n 'time taken': '1:09:42.154271'}"
     },
     "execution_count": 37,
     "metadata": {},
     "output_type": "execute_result"
    }
   ],
   "source": [
    "stats(T^3+T^2)"
   ]
  },
  {
   "cell_type": "code",
   "execution_count": 40,
   "metadata": {},
   "outputs": [
    {
     "name": "stdout",
     "output_type": "stream",
     "text": [
      "Rank of all weight 2 modular forms is 231\n",
      "Calculating rank of the matrix of coefficients, with 1365 rows and 336 columns"
     ]
    }
   ],
   "source": [
    "stats(T^3+T^2+1)"
   ]
  },
  {
   "cell_type": "markdown",
   "metadata": {},
   "source": [
    "## $q = 2$, $\\deg N = 4$"
   ]
  },
  {
   "cell_type": "code",
   "execution_count": null,
   "metadata": {},
   "outputs": [],
   "source": [
    "stats(T*(T+1)*(T^2+T+1))"
   ]
  },
  {
   "cell_type": "markdown",
   "metadata": {},
   "source": [
    "## $q = 3$, $\\deg N = 2$"
   ]
  },
  {
   "cell_type": "code",
   "execution_count": 23,
   "metadata": {},
   "outputs": [
    {
     "name": "stdout",
     "output_type": "stream",
     "text": [
      "Full rank of weight 2 modular forms is 117\n",
      "Rank of matrix is 116\n"
     ]
    },
    {
     "data": {
      "text/plain": [
       "{'q': 3,\n",
       " 'N': T^2,\n",
       " 'N, factored': T^2,\n",
       " 'number of cusps': 36,\n",
       " 'finalMatrix': 430 x 162 dense matrix over Function field in e defined by e^6 + 2*T*e^4 + T^2*e^2 + T,\n",
       " 'number of nonzero entries': 8522,\n",
       " 'fraction of nonzero entries': 0.12233706574791846,\n",
       " 'rank': 116,\n",
       " 'full rank of weight 2 D-modular forms': 117,\n",
       " 'time taken': '0:00:47.419983'}"
      ]
     },
     "execution_count": 23,
     "metadata": {},
     "output_type": "execute_result"
    }
   ],
   "source": [
    "stats(T^2)"
   ]
  },
  {
   "cell_type": "code",
   "execution_count": 24,
   "metadata": {},
   "outputs": [
    {
     "name": "stdout",
     "output_type": "stream",
     "text": [
      "Full rank of weight 2 modular forms is 104\n",
      "Rank of matrix is 90\n"
     ]
    },
    {
     "data": {
      "text/plain": [
       "{'q': 3,\n",
       " 'N': T^2 + T,\n",
       " 'N, factored': T * (T + 1),\n",
       " 'number of cusps': 32,\n",
       " 'finalMatrix': 430 x 144 dense matrix over Function field in e defined by e^4 + (T + 2)*e^2 + 1,\n",
       " 'number of nonzero entries': 7429,\n",
       " 'fraction of nonzero entries': 0.11997739018087855,\n",
       " 'rank': 90,\n",
       " 'full rank of weight 2 D-modular forms': 104,\n",
       " 'time taken': '0:00:20.484308'}"
      ]
     },
     "execution_count": 24,
     "metadata": {},
     "output_type": "execute_result"
    }
   ],
   "source": [
    "stats(T^2+T)"
   ]
  },
  {
   "cell_type": "code",
   "execution_count": 25,
   "metadata": {},
   "outputs": [
    {
     "name": "stdout",
     "output_type": "stream",
     "text": [
      "Full rank of weight 2 modular forms is 130\n",
      "Rank of matrix is 130\n"
     ]
    },
    {
     "data": {
      "text/plain": [
       "{'q': 3,\n",
       " 'N': T^2 + 1,\n",
       " 'N, factored': T^2 + 1,\n",
       " 'number of cusps': 40,\n",
       " 'finalMatrix': 430 x 180 dense matrix over Function field in e defined by e^8 + (T^3 + T)*e^2 + T^2 + 1,\n",
       " 'number of nonzero entries': 9563,\n",
       " 'fraction of nonzero entries': 0.1235529715762274,\n",
       " 'rank': 130,\n",
       " 'full rank of weight 2 D-modular forms': 130,\n",
       " 'time taken': '0:04:30.281822'}"
      ]
     },
     "execution_count": 25,
     "metadata": {},
     "output_type": "execute_result"
    }
   ],
   "source": [
    "stats(T^2+1)"
   ]
  },
  {
   "cell_type": "markdown",
   "metadata": {},
   "source": [
    "## $q = 4$, $\\deg N = 2$"
   ]
  },
  {
   "cell_type": "code",
   "execution_count": null,
   "metadata": {},
   "outputs": [],
   "source": [
    "stats(T^2)"
   ]
  },
  {
   "cell_type": "code",
   "execution_count": null,
   "metadata": {},
   "outputs": [],
   "source": [
    "stats(T^2+g)"
   ]
  },
  {
   "cell_type": "code",
   "execution_count": null,
   "metadata": {},
   "outputs": [],
   "source": [
    "stats(T^2+T)"
   ]
  },
  {
   "cell_type": "code",
   "execution_count": null,
   "metadata": {},
   "outputs": [],
   "source": [
    "stats(T^2+T+g)"
   ]
  },
  {
   "cell_type": "code",
   "execution_count": null,
   "metadata": {},
   "outputs": [],
   "source": [
    "stats(T^2+g*T)"
   ]
  },
  {
   "cell_type": "code",
   "execution_count": null,
   "metadata": {},
   "outputs": [],
   "source": [
    "stats(T^2+g*T+g)"
   ]
  },
  {
   "cell_type": "code",
   "execution_count": null,
   "metadata": {},
   "outputs": [],
   "source": [
    "stats(T^2+(g+1)*T)"
   ]
  },
  {
   "cell_type": "code",
   "execution_count": null,
   "metadata": {},
   "outputs": [],
   "source": [
    "stats(T^2+(g+1)*T+g)"
   ]
  },
  {
   "cell_type": "markdown",
   "metadata": {},
   "source": [
    "# Rough Work"
   ]
  },
  {
   "cell_type": "code",
   "execution_count": null,
   "metadata": {},
   "outputs": [],
   "source": []
  }
 ],
 "metadata": {
  "kernelspec": {
   "display_name": "SageMath 9.1 for VSCode",
   "language": "python",
   "name": "sagemath-vscode"
  },
  "language_info": {
   "codemirror_mode": {
    "name": "ipython",
    "version": 3
   },
   "file_extension": ".py",
   "mimetype": "text/x-python",
   "name": "python",
   "nbconvert_exporter": "python",
   "pygments_lexer": "ipython3",
   "version": "3.7.3"
  }
 },
 "nbformat": 4,
 "nbformat_minor": 4
}