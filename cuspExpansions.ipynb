{
 "cells": [
  {
   "cell_type": "markdown",
   "metadata": {},
   "source": [
    "# Defining the field $\\mathbb{F}_q$ and the polynomial ring $\\mathbb{F}_q[T]$"
   ]
  },
  {
   "cell_type": "markdown",
   "metadata": {},
   "source": [
    "Define base field:"
   ]
  },
  {
   "cell_type": "code",
   "execution_count": 2,
   "metadata": {},
   "outputs": [],
   "source": [
    "# Define base field by prime power:\n",
    "q = 2"
   ]
  },
  {
   "cell_type": "markdown",
   "metadata": {},
   "source": [
    "Calculate the field $F_q$:\n",
    "\n",
    "($g$ is a generator of the multiplicative group of $F_q$)"
   ]
  },
  {
   "cell_type": "code",
   "execution_count": 3,
   "metadata": {},
   "outputs": [],
   "source": [
    "Fq = GF(q,'g')\n",
    "g = Fq.gen()"
   ]
  },
  {
   "cell_type": "markdown",
   "metadata": {},
   "source": [
    "Define the polynomial rings $\\mathbb{F}_q[T]$, $\\mathbb{F}_q[T,X]$, and $\\mathbb{F}_q[T][X]$:"
   ]
  },
  {
   "cell_type": "code",
   "execution_count": 4,
   "metadata": {},
   "outputs": [],
   "source": [
    "FqT.<T> = Fq[]\n",
    "FFqT.<T> = FunctionField(Fq)\n",
    "FqTX.<T,X> = Fq[]\n",
    "FFqT_X.<X> = FFqT[]\n",
    "sep_TX = FqTX.hom([T,X],FFqT_X)"
   ]
  },
  {
   "cell_type": "markdown",
   "metadata": {},
   "source": [
    "# Helper Functions"
   ]
  },
  {
   "cell_type": "markdown",
   "metadata": {},
   "source": [
    "## Polynomial algebra and number theory"
   ]
  },
  {
   "cell_type": "markdown",
   "metadata": {},
   "source": [
    "### Factors of a polynomial"
   ]
  },
  {
   "cell_type": "code",
   "execution_count": 5,
   "metadata": {},
   "outputs": [],
   "source": [
    "def prime_factors(p):\n",
    "    return set(pr for pr,n in list(p.factor()))\n",
    "def cross_multiply(l):\n",
    "    if len(l) == 0:\n",
    "        return set(1)\n",
    "    else:\n",
    "        return set(p*q for p in l[0] for q in cross_multiply(l[1:]))\n",
    "def all_factors(p):\n",
    "    list_of_powers = [set(pr^i for i in range(n+1)) for pr,n in list(p.factor())]\n",
    "    return cross_multiply(list_of_powers)\n",
    "def is_monicList(l):\n",
    "    for p in l:\n",
    "        if p != 0:\n",
    "            return p.is_monic()\n",
    "    return False"
   ]
  },
  {
   "cell_type": "markdown",
   "metadata": {},
   "source": [
    "### Euler $\\varphi$ function"
   ]
  },
  {
   "cell_type": "code",
   "execution_count": 6,
   "metadata": {},
   "outputs": [],
   "source": [
    "from functools import reduce\n",
    "\n",
    "def qNorm(p):\n",
    "    return q^p.degree()\n",
    "def product(iterable):\n",
    "    return reduce(operator.mul, iterable, 1)\n",
    "def EulerPhi(n, p):\n",
    "    pfs = prime_factors(p)\n",
    "    pf_norms = [qNorm(pf) for pf in pfs]\n",
    "    return qNorm(p)^n * product(1-pfn^(-n) for pfn in pf_norms)"
   ]
  },
  {
   "cell_type": "markdown",
   "metadata": {},
   "source": [
    "### Extended gcd of a list of polynomials"
   ]
  },
  {
   "cell_type": "code",
   "execution_count": 7,
   "metadata": {},
   "outputs": [],
   "source": [
    "def my_xgcd(l):\n",
    "    if len(l) < 2:\n",
    "        raise ValueError\n",
    "    elif len(l) == 2:\n",
    "        return l[0].xgcd(l[1])\n",
    "    else: # len(l) > 2\n",
    "        xgcd_rest = my_xgcd(l[1:])\n",
    "        pgcd = l[0].xgcd(xgcd_rest[0])\n",
    "        # + here is tuple concatenation:\n",
    "        return pgcd[:2] + tuple(pgcd[2]*xgcd_rest[i] for i in range(1,len(l)))\n"
   ]
  },
  {
   "cell_type": "markdown",
   "metadata": {},
   "source": [
    "### List of polynomials modulo a polynomial"
   ]
  },
  {
   "cell_type": "code",
   "execution_count": 8,
   "metadata": {
    "tags": []
   },
   "outputs": [],
   "source": [
    "@cached_function\n",
    "def numsMod_deg(n):\n",
    "    if n == 0:\n",
    "        return [0]\n",
    "    elif n > 0:\n",
    "        highMonos = [c*FqT(T)^(n-1) for c in Fq]\n",
    "        return [hm+num for hm in highMonos for num in numsMod_deg(n-1)]\n",
    "    else:\n",
    "        raise ValueError\n",
    "def numsMod(p):\n",
    "    p = FqT(p)\n",
    "    return numsMod_deg(p.degree())\n",
    "\n",
    "# numsMod(T^2+T)"
   ]
  },
  {
   "cell_type": "markdown",
   "metadata": {},
   "source": [
    "### Lists of pairs modulo a polynomial"
   ]
  },
  {
   "cell_type": "code",
   "execution_count": 9,
   "metadata": {},
   "outputs": [],
   "source": [
    "@cached_function\n",
    "def pairsMod_deg(n):\n",
    "    nums = numsMod_deg(n)\n",
    "    return [(n1,n2) for n1 in nums for n2 in nums]\n",
    "def pairsMod(p):\n",
    "    p = FqT(p)\n",
    "    return pairsMod_deg(p.degree())\n",
    "\n",
    "def nonzeroPairs_deg(n):\n",
    "    return [(n1,n2) for n1,n2 in pairsMod_deg(n) if (n1,n2) != (0,0)]\n",
    "def nonzeroPairs(p):\n",
    "    p = FqT(p)\n",
    "    return nonzeroPairs_deg(p.degree())\n",
    "\n",
    "@cached_function\n",
    "def monicPairs_deg(n):\n",
    "    return [pair for pair in nonzeroPairs_deg(n) if is_monicList(pair)]\n",
    "def monicPairs(p):\n",
    "    p = FqT(p)\n",
    "    return monicPairs_deg(p.degree())"
   ]
  },
  {
   "cell_type": "markdown",
   "metadata": {},
   "source": [
    "### Lists of cusps"
   ]
  },
  {
   "cell_type": "code",
   "execution_count": 36,
   "metadata": {},
   "outputs": [
    {
     "output_type": "execute_result",
     "data": {
      "text/plain": [
       "[((0, 1), (1, 0)),\n",
       " ((0, T + 1), (T + 1, 0)),\n",
       " ((1, 0), (0, 1)),\n",
       " ((1, 1), (1, 0)),\n",
       " ((1, 0), (T, 1)),\n",
       " ((1, T + 1), (T + 1, 0)),\n",
       " ((T, 1), (1, 0)),\n",
       " ((T, T + 1), (T + 1, 0)),\n",
       " ((T + 1, 0), (0, T + 1)),\n",
       " ((T + 1, 1), (1, 0)),\n",
       " ((T + 1, 1), (T, 1)),\n",
       " ((T + 1, T + 1), (T + 1, 0))]"
      ]
     },
     "metadata": {},
     "execution_count": 36
    }
   ],
   "source": [
    "@cached_function\n",
    "def cusps(p):\n",
    "  p = FqT(p)\n",
    "  return [(p1,p2) for p1,p2 in monicPairs(p) if p.gcd(p1).gcd(p2) == 1]\n",
    "    \n",
    "@cached_function\n",
    "def biCusps(p):\n",
    "  p = FqT(p)\n",
    "  cc = cusps(p)\n",
    "  xgcd_coeffs = [my_xgcd(c+(p,))[1:] for c in cc]\n",
    "  # return [(c,(-x[1],x[0])) for c,x in zip(cc,xgcd_coeffs)]\n",
    "  return [((c[0],-x[1]),(c[1],x[0])) for c,x in zip(cc,xgcd_coeffs)]\n",
    "\n",
    "biCusps(T^2)"
   ]
  },
  {
   "cell_type": "markdown",
   "metadata": {},
   "source": [
    "### List of pairs congruent to another pair modulo a divisor of a polynomial"
   ]
  },
  {
   "cell_type": "code",
   "execution_count": 11,
   "metadata": {},
   "outputs": [],
   "source": [
    "# list of all pairs mod `p` which are congruent to the pair `r` modulo `m`,\n",
    "# where `m` is a divisor of `p`\n",
    "def pairsCongruentMod(r, m, p):\n",
    "\tm, p = FqT(m), FqT(p)\n",
    "\tif p % m != 0: raise ValueError\n",
    "\tn = FqT(p/m)\n",
    "\treturn [(m*t1+r[0], m*t2+r[1]) for t1,t2 in pairsMod(n)]\n",
    "\n",
    "# pairsCongruentMod((1,0), T, T^2+T)"
   ]
  },
  {
   "cell_type": "markdown",
   "metadata": {},
   "source": [
    "## Reduction of list of Eisenstein pairs using known relations"
   ]
  },
  {
   "cell_type": "code",
   "execution_count": 12,
   "metadata": {},
   "outputs": [],
   "source": [
    "import itertools\n",
    "\n",
    "def reducedTwoPairs(p):\n",
    "\tp = FqT(p)\n",
    "\t# list of (indices of) Eisenstein series of weight 1\n",
    "\tnnzPairs = nonzeroPairs(p)\n",
    "\t# list of products of two Eisenstein series of weight 1\n",
    "\tnnzTwoPairs = list(itertools.product(nnzPairs,repeat=2))\n",
    "\t\n",
    "\t# passing between products of two Eisenstein series and columns\n",
    "\tto_idx_dict = dict(zip(nnzTwoPairs,range(len(nnzTwoPairs))))\n",
    "\tto_twoPair_dict = dict(zip(range(len(nnzTwoPairs)),nnzTwoPairs))\n",
    "\t\n",
    "\t# constants\n",
    "\tzero, one = FqT.zero(), FqT.one()\n",
    "\t\n",
    "\t# dict-form of matrix of relations\n",
    "\tmatrix_dict = {}\n",
    "\tr = 0\n",
    "\tdef add_row(d): # `d` is a dict mapping twoPairs to matrix entries\n",
    "\t\tnonlocal r\n",
    "\t\tfor k,v in d.items():\n",
    "\t\t\tmatrix_dict[(r,to_idx_dict[k])] = v\n",
    "\t\tr += 1\n",
    "\t\n",
    "\t# scaling of left and right elements of product\n",
    "\tfor l in Fq:\n",
    "\t\tif l != zero and l != one:\n",
    "\t\t\tfor p1,p2 in nnzTwoPairs:\n",
    "\t\t\t\tlp1 = (l*p1[0], l*p1[1]) # l * p1\n",
    "\t\t\t\tadd_row({(lp1,p2): l, (p1,p2): -one})\n",
    "\t# print(r+1, \"scaling relations\")\n",
    "\t\n",
    "\t# swapping of elements of products of distinct elements\n",
    "\tfor p1,p2 in itertools.combinations(nnzPairs,2):\n",
    "\t\tadd_row({(p1,p2): one, (p2,p1): -one})\n",
    "\t# print(r+1, \"with swapping relations\")\n",
    "\t\n",
    "\t# relations arising from additivity of e_Lambda(z)\n",
    "\tfor pa,pb in nnzTwoPairs:\n",
    "\t\tpab = (pa[0]+pb[0], pa[1]+pb[1]) # pa + pb\n",
    "\t\tif pab == (zero, zero): continue\n",
    "\n",
    "\t\tif pa == pb:\n",
    "\t\t\tadd_row({(pa,pb): one, (pab,pb): -one-one})\n",
    "\t\telse:\n",
    "\t\t\tadd_row({(pa,pb): one, (pab,pb): -one, (pab,pa): -one})\n",
    "\t# print(r+1, \"with adding relations\")\n",
    "\t\n",
    "\t# linear relations arising from factorisation of `p`\n",
    "\tfor m in prime_factors(p):\n",
    "\t\tn = FqT(p/m)\n",
    "\t\tfor s in nonzeroPairs(n):\n",
    "\t\t\tfor k in nnzPairs:\n",
    "\t\t\t\td = {}\n",
    "\t\t\t\tfor t in pairsCongruentMod(s, n, p):\n",
    "\t\t\t\t\td[(t,k)] = one\n",
    "\t\t\t\n",
    "\t\t\t\tms = (m*s[0],m*s[1]) # m * s\n",
    "\t\t\t\tif (ms,k) in d.keys():\n",
    "\t\t\t\t\td[(ms,k)] = d[(ms,k)] - m\n",
    "\t\t\t\telse:\n",
    "\t\t\t\t\td[(ms,k)] = -m\n",
    "\t\t\t\n",
    "\t\t\t\tadd_row(d)\n",
    "\t# print(r+1, \"with linear factor relations\")\n",
    "\t\n",
    "\t# square quadratic relations arising from factorisation of `p`\n",
    "\tfor m in prime_factors(p):\n",
    "\t\tn = FqT(p/m)\n",
    "\t\tfor s in nonzeroPairs(n):\n",
    "\t\t\td = {}\n",
    "\t\t\tfor t in pairsCongruentMod(s, n, p):\n",
    "\t\t\t\td[(t,t)] = one\n",
    "\t\t\t\n",
    "\t\t\tms = (m*s[0],m*s[1]) # m * s\n",
    "\t\t\tif (ms,ms) in d.keys():\n",
    "\t\t\t\td[(ms,ms)] = d[(ms,ms)] - m^2\n",
    "\t\t\telse:\n",
    "\t\t\t\td[(ms,ms)] = -m^2\n",
    "\t\t\t\n",
    "\t\t\tadd_row(d)\n",
    "\n",
    "\t# other quadratic relations arising from factorisation of `p`, for `q = 2`\n",
    "\tif q == 2:\n",
    "\t\tfor m in prime_factors(p):\n",
    "\t\t\tn = FqT(p/m)\n",
    "\t\t\tfor s in nonzeroPairs(n):\n",
    "\t\t\t\td = {}\n",
    "\t\t\t\tfor t1,t2 in itertools.combinations(pairsCongruentMod(s, n, p), 2):\n",
    "\t\t\t\t\td[(t1,t2)] = one\n",
    "\t\t\t\t\n",
    "\t\t\t\tms = (m*s[0],m*s[1]) # m * s\n",
    "\t\t\t\tfor u in nonzeroPairs(m):\n",
    "\t\t\t\t\tnu = (n*u[0],n*u[1]) # n * u\n",
    "\t\t\t\t\tif (ms,nu) in d.keys():\n",
    "\t\t\t\t\t\td[(ms,nu)] = d[(ms,nu)] - m\n",
    "\t\t\t\t\telse:\n",
    "\t\t\t\t\t\td[(ms,nu)] = -m\n",
    "\t\t\t\t\n",
    "\t\t\t\tadd_row(d)\n",
    "\t\n",
    "\tnrows, ncols = r+1, len(nnzTwoPairs)\n",
    "\t# print(\"Matrix of relations dimensions:\", nrows, ncols)\n",
    "\tmat = matrix(FFqT, nrows, ncols, matrix_dict, sparse=True)\n",
    "\t# those which are not pivot columns of the echelonised form:\n",
    "\t# print(\"Calculating nonpivots:\")\n",
    "\tnon_pivots = mat.nonpivots()\n",
    "\tnon_pivot_twoPairs = [to_twoPair_dict[col] for col in non_pivots]\n",
    "\treturn non_pivot_twoPairs\n",
    "\n",
    "# reducedTwoPairs(T^2)"
   ]
  },
  {
   "cell_type": "markdown",
   "metadata": {},
   "source": [
    "## Drinfeld module functions"
   ]
  },
  {
   "cell_type": "markdown",
   "metadata": {},
   "source": [
    "### Frobenius endomorphism and ring of skew polynomials:"
   ]
  },
  {
   "cell_type": "code",
   "execution_count": 13,
   "metadata": {},
   "outputs": [],
   "source": [
    "frob = FqTX.hom([FqTX(T)^q,FqTX(X)^q])\n",
    "frob\n",
    "SkewTX.<tau> = FqTX['tau',frob]\n",
    "# SkewTX\n",
    "# phiaT = T +T*tau +tau^2; phiaT(T)"
   ]
  },
  {
   "cell_type": "markdown",
   "metadata": {},
   "source": [
    "### $\\varphi^{\\pi A}_p(x)$ for a polynomial $p \\in \\mathbb{F}_q[T]$, output in $\\mathbb{F}_q(T)[X]$:"
   ]
  },
  {
   "cell_type": "code",
   "execution_count": 14,
   "metadata": {},
   "outputs": [],
   "source": [
    "phi_hom = FqT.hom([T+tau],SkewTX)\n",
    "\n",
    "@cached_function\n",
    "def phiA(p):\n",
    "    return sep_TX(phi_hom(FqT(p)).operator_eval(X))\n",
    "\n",
    "# (phiA(T^2+T)/phiA(T+1)/phiA(T)*phiA(1))(1/X).parent()"
   ]
  },
  {
   "cell_type": "markdown",
   "metadata": {},
   "source": [
    "### Most primitive factor of $\\varphi_p^{\\pi A}(x)$, output in $\\mathbb{F}_q(T)[X]$:"
   ]
  },
  {
   "cell_type": "code",
   "execution_count": 15,
   "metadata": {},
   "outputs": [],
   "source": [
    "@cached_function\n",
    "def primPhiA(p):\n",
    "    p = FqT(p)\n",
    "    primes = list(prime_factors(p))\n",
    "    return FFqT_X(phiA_inclExcl_div(p,primes))\n",
    "\n",
    "def phiA_inclExcl_div(p,l):\n",
    "    if len(l) == 0:\n",
    "        return phiA(p)\n",
    "    else:\n",
    "        first, rest = l[0], l[1:]\n",
    "        num = phiA_inclExcl_div(p,rest)\n",
    "        denom = phiA_inclExcl_div(p/first,rest)\n",
    "        return num / denom\n",
    "\n",
    "# primPhiA(T^2+T) == phiA(T^2+T) / phiA(T+1) / phiA(T) * phiA(1)\n",
    "# primPhiA(T^2+T).parent()"
   ]
  },
  {
   "cell_type": "markdown",
   "metadata": {},
   "source": [
    "### $\\pi e_A \\left(\\frac{r}{N}\\right) = e_{\\pi a} \\left(\\frac{\\pi r}{N}\\right)$"
   ]
  },
  {
   "cell_type": "code",
   "execution_count": 16,
   "metadata": {},
   "outputs": [],
   "source": [
    "@cached_function\n",
    "def FqT_adj(N):\n",
    "    # ext = FFqT_X.quotient(primPhiA(N), 'e1')\n",
    "    why.<e> = FFqT[]\n",
    "    poly = primPhiA(N)(e)\n",
    "    ext.<e> = FFqT.extension(poly)\n",
    "    return ext, e\n",
    "\n",
    "# FqT_N, e = FqT_adj(T^2+T); FqT_N"
   ]
  },
  {
   "cell_type": "code",
   "execution_count": 17,
   "metadata": {},
   "outputs": [],
   "source": [
    "@cached_function\n",
    "def eA(r,N):\n",
    "    ext, e1 = FqT_adj(N)\n",
    "    return phiA(r % N)(e1)\n",
    "\n",
    "\n",
    "# eA(T^3+T^2-T, T^2+T)\n",
    "# eA(T^3+T^2-T, T^2+T).parent()"
   ]
  },
  {
   "cell_type": "markdown",
   "metadata": {},
   "source": [
    "## Expansions of Eisenstein series"
   ]
  },
  {
   "cell_type": "markdown",
   "metadata": {},
   "source": [
    "### Integrality factor"
   ]
  },
  {
   "cell_type": "code",
   "execution_count": 18,
   "metadata": {},
   "outputs": [],
   "source": [
    "@cached_function\n",
    "def int_factor(N):\n",
    "    return FqT(N).radical()\n",
    "\n",
    "# int_factor(T^2+T).parent()"
   ]
  },
  {
   "cell_type": "markdown",
   "metadata": {},
   "source": [
    "### Expansion of an Eisenstein series at $\\infty$"
   ]
  },
  {
   "cell_type": "code",
   "execution_count": 45,
   "metadata": {},
   "outputs": [],
   "source": [
    "# X-expansion of an Eisenstein series at infinity to order 'omax',\n",
    "# exclusive; currently only works if omax < |N|\n",
    "# 1 / (eA(r2,N) + phiA(r1,1/X))\n",
    "@cached_function\n",
    "def E2SeriesInfinity(r,N):\n",
    "    r1,r2 = r\n",
    "    r1 %= N; r2 %= N\n",
    "    deg, lc = r1.degree(), r1.lc()\n",
    "\n",
    "    radical = int_factor(N)\n",
    "    omax = qNorm(N)\n",
    "\n",
    "    if deg == -1: # r1 == 0 mod N\n",
    "        return radical / eA(r2,N)\n",
    "    else:\n",
    "        frac = 1 -X^(q^deg) * (eA(r2,N)+phiA(r1)(1/X)) / lc\n",
    "        # return from fraction field to polynomial ring\n",
    "        fracfield = frac.parent()\n",
    "        sect = fracfield.coerce_map_from(fracfield.ring()).section()\n",
    "        frac = sect(frac)\n",
    "        imax = omax - q^deg\n",
    "        inexp = 0\n",
    "        for i in range(imax+1):\n",
    "            inexp += frac^i\n",
    "        return radical * X^(q^deg) * inexp / lc +O(X^omax)\n",
    "\n",
    "# E2SeriesInfinity((T,T+1), T^2), E2SeriesInfinity((T,1), T^2)\n",
    "# E2SeriesInfinity((1,T), T^2).parent()"
   ]
  },
  {
   "cell_type": "markdown",
   "metadata": {},
   "source": [
    "### Series expansion of a product of Eisenstein series at a cusp"
   ]
  },
  {
   "cell_type": "code",
   "execution_count": 56,
   "metadata": {},
   "outputs": [],
   "source": [
    "@cached_function\n",
    "def E2Series(r,biCusp,N):\n",
    "    ((a,b),(c,d)) = biCusp\n",
    "    R = [((a*r1+c*r2) % N, (b*r1+d*r2) % N) for r1,r2 in r]\n",
    "    p = product(E2SeriesInfinity(rbc,N) for rbc in R) +O(X^qNorm(N))\n",
    "    return p\n",
    "    # return (R,p)\n",
    "\n",
    "def E2Series_list(r,biCusp,N,deg):\n",
    "    if deg > qNorm(N):\n",
    "        print (deg, qNorm(N))\n",
    "        raise ValueError(f\"series expansion to {deg} > {qNorm(N)} terms requested\")\n",
    "\n",
    "    series = E2Series(r,biCusp,N)\n",
    "    l = series.list()\n",
    "    if len(l) >= deg:\n",
    "        return l[:deg]\n",
    "    else: # len(l) < deg\n",
    "        return l +[0]*(deg-len(l))\n",
    "\n",
    "# E2Series([(1,0),(T,2),(2,T+1)], ((0,1),(-1,0)), T^2+T)\n",
    "# E2Series_list(((1,0),(T,2),(2,T+1)), ((0,1),(-1,0)), T^2+T, 15)\n"
   ]
  },
  {
   "source": [
    "### Coefficients of a product of Eisenstein series at all cusps, flattened and ordered by the exponent of the parameter at $\\infty$"
   ],
   "cell_type": "markdown",
   "metadata": {}
  },
  {
   "cell_type": "code",
   "execution_count": 44,
   "metadata": {},
   "outputs": [],
   "source": [
    "def E2SeriesAllCusps(r, N, cutoff):\n",
    "    bcs = biCusps(N)\n",
    "    # cutoff for the expansion at each cusp\n",
    "    cusp_cut = ceil(cutoff/len(bcs))\n",
    "    # dict of series expansions at each cusp\n",
    "    all = {bc:E2Series_list(r,bc,N,cusp_cut) for bc in bcs}\n",
    "    # flatten lists of coefficients and order by index/exponent\n",
    "    out = [all[bc][i] for bc in bcs for i in range(cusp_cut)][:cutoff]\n",
    "    return out"
   ]
  },
  {
   "cell_type": "markdown",
   "metadata": {},
   "source": [
    "# Rank function"
   ]
  },
  {
   "cell_type": "code",
   "execution_count": 48,
   "metadata": {},
   "outputs": [],
   "source": [
    "import time\n",
    "import datetime\n",
    "\n",
    "def printTemp(*args):\n",
    "    print(\"\\r\", *args, end='')\n",
    "\n",
    "def stats(N):\n",
    "    start = time.time()\n",
    "\n",
    "    N = FqT(N)\n",
    "    printTemp(\"Beginning calculation of statistics for\", N)\n",
    "\n",
    "    printTemp(\"Forming set of Eisenstein pairs\")\n",
    "    redTwoPairs = reducedTwoPairs(N)\n",
    "\n",
    "    printTemp(\"Calculating t-expansions of Eisenstein pairs\")\n",
    "    cutoff = 2 * qNorm(N) * EulerPhi(2,N) / (q^2-1)\n",
    "    cuts = [E2SeriesAllCusps(r, N, cutoff) for r in redTwoPairs]\n",
    "    printTemp(\"Creating final matrix of coefficients\")\n",
    "    mat = matrix(cuts)\n",
    "    r, c = mat.nrows(), mat.ncols()\n",
    "    printTemp(f\"Matrix has dimensions {r}×{c}\")\n",
    "\n",
    "    rank2 = qNorm(N) * EulerPhi(2,N) / (q^2-1) + EulerPhi(2,N) / (q-1)\n",
    "    printTemp(f\"Rank of all weight 2 modular forms is {rank2}\\n\")\n",
    "\n",
    "    printTemp(\"Calculating rank of the matrix of coefficients,\",\n",
    "              f\"with {mat.nrows()} rows and {mat.ncols()} columns\")\n",
    "    E2rank = mat.rank()\n",
    "    printTemp(f\"Rank of matrix is {E2rank}\\n\")\n",
    "\n",
    "    n_nnz = sum(map(\n",
    "        lambda row: sum(map(lambda entry: entry != 0, row)),\n",
    "        mat\n",
    "    ))\n",
    "    n_mat = mat.nrows() * mat.ncols()\n",
    "\n",
    "    end = time.time()\n",
    "\n",
    "\n",
    "    return {\n",
    "        \"q\": q,\n",
    "        \"N\": N,\n",
    "        \"N, factored\": N.factor(),\n",
    "        \"number of cusps\": len(biCusps(N)),\n",
    "        \"finalMatrix\": mat,\n",
    "        \"number of nonzero entries\": n_nnz,\n",
    "        \"fraction of nonzero entries\": n_nnz / n_mat,\n",
    "        \"rank\": E2rank,\n",
    "        \"full rank of weight 2 D-modular forms\": rank2,\n",
    "        \"time taken\": str(datetime.timedelta(seconds=end-start))\n",
    "    }"
   ]
  },
  {
   "cell_type": "markdown",
   "metadata": {},
   "source": [
    "# Rank Results"
   ]
  },
  {
   "cell_type": "markdown",
   "metadata": {},
   "source": [
    "## $q = 2$, $\\deg N = 2$"
   ]
  },
  {
   "cell_type": "code",
   "execution_count": 49,
   "metadata": {},
   "outputs": [
    {
     "output_type": "stream",
     "name": "stdout",
     "text": [
      " Rank of all weight 2 modular forms is 28\n",
      " Rank of matrix is 28\n"
     ]
    },
    {
     "output_type": "execute_result",
     "data": {
      "text/plain": [
       "{'q': 2,\n",
       " 'N': T^2,\n",
       " 'N, factored': T^2,\n",
       " 'number of cusps': 12,\n",
       " 'finalMatrix': 44 x 32 dense matrix over Function field in e defined by e^2 + T*e + T,\n",
       " 'number of nonzero entries': 231,\n",
       " 'fraction of nonzero entries': 0.1640625,\n",
       " 'rank': 28,\n",
       " 'full rank of weight 2 D-modular forms': 28,\n",
       " 'time taken': '0:00:00.702024'}"
      ]
     },
     "metadata": {},
     "execution_count": 49
    }
   ],
   "source": [
    "stats(T^2)"
   ]
  },
  {
   "cell_type": "code",
   "execution_count": 50,
   "metadata": {},
   "outputs": [
    {
     "output_type": "stream",
     "name": "stdout",
     "text": [
      " Rank of all weight 2 modular forms is 21\n",
      " Rank of matrix is 21\n"
     ]
    },
    {
     "output_type": "execute_result",
     "data": {
      "text/plain": [
       "{'q': 2,\n",
       " 'N': T^2 + T,\n",
       " 'N, factored': T * (T + 1),\n",
       " 'number of cusps': 9,\n",
       " 'finalMatrix': 21 x 24 dense matrix over Function field in e defined by e + 1,\n",
       " 'number of nonzero entries': 94,\n",
       " 'fraction of nonzero entries': 0.1865079365079365,\n",
       " 'rank': 21,\n",
       " 'full rank of weight 2 D-modular forms': 21,\n",
       " 'time taken': '0:00:00.894392'}"
      ]
     },
     "metadata": {},
     "execution_count": 50
    }
   ],
   "source": [
    "stats(T^2+T)"
   ]
  },
  {
   "cell_type": "markdown",
   "metadata": {},
   "source": [
    "## $q = 2$, $\\deg N = 3$"
   ]
  },
  {
   "cell_type": "code",
   "execution_count": 57,
   "metadata": {},
   "outputs": [
    {
     "output_type": "stream",
     "name": "stdout",
     "text": [
      " Calculating t-expansions of Eisenstein pairs"
     ]
    },
    {
     "output_type": "error",
     "ename": "ValueError",
     "evalue": "",
     "traceback": [
      "\u001b[0;31m---------------------------------------------------------------------------\u001b[0m",
      "\u001b[0;31mValueError\u001b[0m                                Traceback (most recent call last)",
      "\u001b[0;32m<ipython-input-57-f8db40d310ce>\u001b[0m in \u001b[0;36m<module>\u001b[0;34m\u001b[0m\n\u001b[0;32m----> 1\u001b[0;31m \u001b[0mstats\u001b[0m\u001b[0;34m(\u001b[0m\u001b[0mT\u001b[0m\u001b[0;34m**\u001b[0m\u001b[0mInteger\u001b[0m\u001b[0;34m(\u001b[0m\u001b[0;36m3\u001b[0m\u001b[0;34m)\u001b[0m\u001b[0;34m)\u001b[0m\u001b[0;34m\u001b[0m\u001b[0;34m\u001b[0m\u001b[0m\n\u001b[0m",
      "\u001b[0;32m<ipython-input-48-ed6d019b7bbd>\u001b[0m in \u001b[0;36mstats\u001b[0;34m(N)\u001b[0m\n\u001b[1;32m     16\u001b[0m     \u001b[0mprintTemp\u001b[0m\u001b[0;34m(\u001b[0m\u001b[0;34m\"Calculating t-expansions of Eisenstein pairs\"\u001b[0m\u001b[0;34m)\u001b[0m\u001b[0;34m\u001b[0m\u001b[0;34m\u001b[0m\u001b[0m\n\u001b[1;32m     17\u001b[0m     \u001b[0mcutoff\u001b[0m \u001b[0;34m=\u001b[0m \u001b[0mInteger\u001b[0m\u001b[0;34m(\u001b[0m\u001b[0;36m2\u001b[0m\u001b[0;34m)\u001b[0m \u001b[0;34m*\u001b[0m \u001b[0mqNorm\u001b[0m\u001b[0;34m(\u001b[0m\u001b[0mN\u001b[0m\u001b[0;34m)\u001b[0m \u001b[0;34m*\u001b[0m \u001b[0mEulerPhi\u001b[0m\u001b[0;34m(\u001b[0m\u001b[0mInteger\u001b[0m\u001b[0;34m(\u001b[0m\u001b[0;36m2\u001b[0m\u001b[0;34m)\u001b[0m\u001b[0;34m,\u001b[0m\u001b[0mN\u001b[0m\u001b[0;34m)\u001b[0m \u001b[0;34m/\u001b[0m \u001b[0;34m(\u001b[0m\u001b[0mq\u001b[0m\u001b[0;34m**\u001b[0m\u001b[0mInteger\u001b[0m\u001b[0;34m(\u001b[0m\u001b[0;36m2\u001b[0m\u001b[0;34m)\u001b[0m\u001b[0;34m-\u001b[0m\u001b[0mInteger\u001b[0m\u001b[0;34m(\u001b[0m\u001b[0;36m1\u001b[0m\u001b[0;34m)\u001b[0m\u001b[0;34m)\u001b[0m\u001b[0;34m\u001b[0m\u001b[0;34m\u001b[0m\u001b[0m\n\u001b[0;32m---> 18\u001b[0;31m     \u001b[0mcuts\u001b[0m \u001b[0;34m=\u001b[0m \u001b[0;34m[\u001b[0m\u001b[0mE2SeriesAllCusps\u001b[0m\u001b[0;34m(\u001b[0m\u001b[0mr\u001b[0m\u001b[0;34m,\u001b[0m \u001b[0mN\u001b[0m\u001b[0;34m,\u001b[0m \u001b[0mcutoff\u001b[0m\u001b[0;34m)\u001b[0m \u001b[0;32mfor\u001b[0m \u001b[0mr\u001b[0m \u001b[0;32min\u001b[0m \u001b[0mredTwoPairs\u001b[0m\u001b[0;34m]\u001b[0m\u001b[0;34m\u001b[0m\u001b[0;34m\u001b[0m\u001b[0m\n\u001b[0m\u001b[1;32m     19\u001b[0m     \u001b[0mprintTemp\u001b[0m\u001b[0;34m(\u001b[0m\u001b[0;34m\"Creating final matrix of coefficients\"\u001b[0m\u001b[0;34m)\u001b[0m\u001b[0;34m\u001b[0m\u001b[0;34m\u001b[0m\u001b[0m\n\u001b[1;32m     20\u001b[0m     \u001b[0mmat\u001b[0m \u001b[0;34m=\u001b[0m \u001b[0mmatrix\u001b[0m\u001b[0;34m(\u001b[0m\u001b[0mcuts\u001b[0m\u001b[0;34m)\u001b[0m\u001b[0;34m\u001b[0m\u001b[0;34m\u001b[0m\u001b[0m\n",
      "\u001b[0;32m<ipython-input-48-ed6d019b7bbd>\u001b[0m in \u001b[0;36m<listcomp>\u001b[0;34m(.0)\u001b[0m\n\u001b[1;32m     16\u001b[0m     \u001b[0mprintTemp\u001b[0m\u001b[0;34m(\u001b[0m\u001b[0;34m\"Calculating t-expansions of Eisenstein pairs\"\u001b[0m\u001b[0;34m)\u001b[0m\u001b[0;34m\u001b[0m\u001b[0;34m\u001b[0m\u001b[0m\n\u001b[1;32m     17\u001b[0m     \u001b[0mcutoff\u001b[0m \u001b[0;34m=\u001b[0m \u001b[0mInteger\u001b[0m\u001b[0;34m(\u001b[0m\u001b[0;36m2\u001b[0m\u001b[0;34m)\u001b[0m \u001b[0;34m*\u001b[0m \u001b[0mqNorm\u001b[0m\u001b[0;34m(\u001b[0m\u001b[0mN\u001b[0m\u001b[0;34m)\u001b[0m \u001b[0;34m*\u001b[0m \u001b[0mEulerPhi\u001b[0m\u001b[0;34m(\u001b[0m\u001b[0mInteger\u001b[0m\u001b[0;34m(\u001b[0m\u001b[0;36m2\u001b[0m\u001b[0;34m)\u001b[0m\u001b[0;34m,\u001b[0m\u001b[0mN\u001b[0m\u001b[0;34m)\u001b[0m \u001b[0;34m/\u001b[0m \u001b[0;34m(\u001b[0m\u001b[0mq\u001b[0m\u001b[0;34m**\u001b[0m\u001b[0mInteger\u001b[0m\u001b[0;34m(\u001b[0m\u001b[0;36m2\u001b[0m\u001b[0;34m)\u001b[0m\u001b[0;34m-\u001b[0m\u001b[0mInteger\u001b[0m\u001b[0;34m(\u001b[0m\u001b[0;36m1\u001b[0m\u001b[0;34m)\u001b[0m\u001b[0;34m)\u001b[0m\u001b[0;34m\u001b[0m\u001b[0;34m\u001b[0m\u001b[0m\n\u001b[0;32m---> 18\u001b[0;31m     \u001b[0mcuts\u001b[0m \u001b[0;34m=\u001b[0m \u001b[0;34m[\u001b[0m\u001b[0mE2SeriesAllCusps\u001b[0m\u001b[0;34m(\u001b[0m\u001b[0mr\u001b[0m\u001b[0;34m,\u001b[0m \u001b[0mN\u001b[0m\u001b[0;34m,\u001b[0m \u001b[0mcutoff\u001b[0m\u001b[0;34m)\u001b[0m \u001b[0;32mfor\u001b[0m \u001b[0mr\u001b[0m \u001b[0;32min\u001b[0m \u001b[0mredTwoPairs\u001b[0m\u001b[0;34m]\u001b[0m\u001b[0;34m\u001b[0m\u001b[0;34m\u001b[0m\u001b[0m\n\u001b[0m\u001b[1;32m     19\u001b[0m     \u001b[0mprintTemp\u001b[0m\u001b[0;34m(\u001b[0m\u001b[0;34m\"Creating final matrix of coefficients\"\u001b[0m\u001b[0;34m)\u001b[0m\u001b[0;34m\u001b[0m\u001b[0;34m\u001b[0m\u001b[0m\n\u001b[1;32m     20\u001b[0m     \u001b[0mmat\u001b[0m \u001b[0;34m=\u001b[0m \u001b[0mmatrix\u001b[0m\u001b[0;34m(\u001b[0m\u001b[0mcuts\u001b[0m\u001b[0;34m)\u001b[0m\u001b[0;34m\u001b[0m\u001b[0;34m\u001b[0m\u001b[0m\n",
      "\u001b[0;32m<ipython-input-44-0d6ae43296f1>\u001b[0m in \u001b[0;36mE2SeriesAllCusps\u001b[0;34m(r, N, cutoff)\u001b[0m\n\u001b[1;32m      4\u001b[0m     \u001b[0mcusp_cut\u001b[0m \u001b[0;34m=\u001b[0m \u001b[0mceil\u001b[0m\u001b[0;34m(\u001b[0m\u001b[0mcutoff\u001b[0m\u001b[0;34m/\u001b[0m\u001b[0mlen\u001b[0m\u001b[0;34m(\u001b[0m\u001b[0mbcs\u001b[0m\u001b[0;34m)\u001b[0m\u001b[0;34m)\u001b[0m\u001b[0;34m\u001b[0m\u001b[0;34m\u001b[0m\u001b[0m\n\u001b[1;32m      5\u001b[0m     \u001b[0;31m# dict of series expansions at each cusp\u001b[0m\u001b[0;34m\u001b[0m\u001b[0;34m\u001b[0m\u001b[0;34m\u001b[0m\u001b[0m\n\u001b[0;32m----> 6\u001b[0;31m     \u001b[0mall\u001b[0m \u001b[0;34m=\u001b[0m \u001b[0;34m{\u001b[0m\u001b[0mbc\u001b[0m\u001b[0;34m:\u001b[0m\u001b[0mE2Series_list\u001b[0m\u001b[0;34m(\u001b[0m\u001b[0mr\u001b[0m\u001b[0;34m,\u001b[0m\u001b[0mbc\u001b[0m\u001b[0;34m,\u001b[0m\u001b[0mN\u001b[0m\u001b[0;34m,\u001b[0m\u001b[0mcusp_cut\u001b[0m\u001b[0;34m)\u001b[0m \u001b[0;32mfor\u001b[0m \u001b[0mbc\u001b[0m \u001b[0;32min\u001b[0m \u001b[0mbcs\u001b[0m\u001b[0;34m}\u001b[0m\u001b[0;34m\u001b[0m\u001b[0;34m\u001b[0m\u001b[0m\n\u001b[0m\u001b[1;32m      7\u001b[0m     \u001b[0;31m# flatten lists of coefficients and order by index/exponent\u001b[0m\u001b[0;34m\u001b[0m\u001b[0;34m\u001b[0m\u001b[0;34m\u001b[0m\u001b[0m\n\u001b[1;32m      8\u001b[0m     \u001b[0mout\u001b[0m \u001b[0;34m=\u001b[0m \u001b[0;34m[\u001b[0m\u001b[0mall\u001b[0m\u001b[0;34m[\u001b[0m\u001b[0mbc\u001b[0m\u001b[0;34m]\u001b[0m\u001b[0;34m[\u001b[0m\u001b[0mi\u001b[0m\u001b[0;34m]\u001b[0m \u001b[0;32mfor\u001b[0m \u001b[0mbc\u001b[0m \u001b[0;32min\u001b[0m \u001b[0mbcs\u001b[0m \u001b[0;32mfor\u001b[0m \u001b[0mi\u001b[0m \u001b[0;32min\u001b[0m \u001b[0mrange\u001b[0m\u001b[0;34m(\u001b[0m\u001b[0mcusp_cut\u001b[0m\u001b[0;34m)\u001b[0m\u001b[0;34m]\u001b[0m\u001b[0;34m[\u001b[0m\u001b[0;34m:\u001b[0m\u001b[0mcutoff\u001b[0m\u001b[0;34m]\u001b[0m\u001b[0;34m\u001b[0m\u001b[0;34m\u001b[0m\u001b[0m\n",
      "\u001b[0;32m<ipython-input-44-0d6ae43296f1>\u001b[0m in \u001b[0;36m<dictcomp>\u001b[0;34m(.0)\u001b[0m\n\u001b[1;32m      4\u001b[0m     \u001b[0mcusp_cut\u001b[0m \u001b[0;34m=\u001b[0m \u001b[0mceil\u001b[0m\u001b[0;34m(\u001b[0m\u001b[0mcutoff\u001b[0m\u001b[0;34m/\u001b[0m\u001b[0mlen\u001b[0m\u001b[0;34m(\u001b[0m\u001b[0mbcs\u001b[0m\u001b[0;34m)\u001b[0m\u001b[0;34m)\u001b[0m\u001b[0;34m\u001b[0m\u001b[0;34m\u001b[0m\u001b[0m\n\u001b[1;32m      5\u001b[0m     \u001b[0;31m# dict of series expansions at each cusp\u001b[0m\u001b[0;34m\u001b[0m\u001b[0;34m\u001b[0m\u001b[0;34m\u001b[0m\u001b[0m\n\u001b[0;32m----> 6\u001b[0;31m     \u001b[0mall\u001b[0m \u001b[0;34m=\u001b[0m \u001b[0;34m{\u001b[0m\u001b[0mbc\u001b[0m\u001b[0;34m:\u001b[0m\u001b[0mE2Series_list\u001b[0m\u001b[0;34m(\u001b[0m\u001b[0mr\u001b[0m\u001b[0;34m,\u001b[0m\u001b[0mbc\u001b[0m\u001b[0;34m,\u001b[0m\u001b[0mN\u001b[0m\u001b[0;34m,\u001b[0m\u001b[0mcusp_cut\u001b[0m\u001b[0;34m)\u001b[0m \u001b[0;32mfor\u001b[0m \u001b[0mbc\u001b[0m \u001b[0;32min\u001b[0m \u001b[0mbcs\u001b[0m\u001b[0;34m}\u001b[0m\u001b[0;34m\u001b[0m\u001b[0;34m\u001b[0m\u001b[0m\n\u001b[0m\u001b[1;32m      7\u001b[0m     \u001b[0;31m# flatten lists of coefficients and order by index/exponent\u001b[0m\u001b[0;34m\u001b[0m\u001b[0;34m\u001b[0m\u001b[0;34m\u001b[0m\u001b[0m\n\u001b[1;32m      8\u001b[0m     \u001b[0mout\u001b[0m \u001b[0;34m=\u001b[0m \u001b[0;34m[\u001b[0m\u001b[0mall\u001b[0m\u001b[0;34m[\u001b[0m\u001b[0mbc\u001b[0m\u001b[0;34m]\u001b[0m\u001b[0;34m[\u001b[0m\u001b[0mi\u001b[0m\u001b[0;34m]\u001b[0m \u001b[0;32mfor\u001b[0m \u001b[0mbc\u001b[0m \u001b[0;32min\u001b[0m \u001b[0mbcs\u001b[0m \u001b[0;32mfor\u001b[0m \u001b[0mi\u001b[0m \u001b[0;32min\u001b[0m \u001b[0mrange\u001b[0m\u001b[0;34m(\u001b[0m\u001b[0mcusp_cut\u001b[0m\u001b[0;34m)\u001b[0m\u001b[0;34m]\u001b[0m\u001b[0;34m[\u001b[0m\u001b[0;34m:\u001b[0m\u001b[0mcutoff\u001b[0m\u001b[0;34m]\u001b[0m\u001b[0;34m\u001b[0m\u001b[0;34m\u001b[0m\u001b[0m\n",
      "\u001b[0;32m<ipython-input-56-c42f07a09629>\u001b[0m in \u001b[0;36mE2Series_list\u001b[0;34m(r, biCusp, N, deg)\u001b[0m\n\u001b[1;32m     13\u001b[0m         \u001b[0;32mreturn\u001b[0m \u001b[0ml\u001b[0m\u001b[0;34m[\u001b[0m\u001b[0;34m:\u001b[0m\u001b[0mdeg\u001b[0m\u001b[0;34m]\u001b[0m\u001b[0;34m\u001b[0m\u001b[0;34m\u001b[0m\u001b[0m\n\u001b[1;32m     14\u001b[0m     \u001b[0;32melse\u001b[0m\u001b[0;34m:\u001b[0m \u001b[0;31m# len(l) < deg\u001b[0m\u001b[0;34m\u001b[0m\u001b[0;34m\u001b[0m\u001b[0m\n\u001b[0;32m---> 15\u001b[0;31m         \u001b[0;32mraise\u001b[0m \u001b[0mValueError\u001b[0m\u001b[0;34m\u001b[0m\u001b[0;34m\u001b[0m\u001b[0m\n\u001b[0m\u001b[1;32m     16\u001b[0m         \u001b[0;32mreturn\u001b[0m \u001b[0ml\u001b[0m \u001b[0;34m+\u001b[0m\u001b[0;34m[\u001b[0m\u001b[0mInteger\u001b[0m\u001b[0;34m(\u001b[0m\u001b[0;36m0\u001b[0m\u001b[0;34m)\u001b[0m\u001b[0;34m]\u001b[0m\u001b[0;34m*\u001b[0m\u001b[0;34m(\u001b[0m\u001b[0mdeg\u001b[0m\u001b[0;34m-\u001b[0m\u001b[0mlen\u001b[0m\u001b[0;34m(\u001b[0m\u001b[0ml\u001b[0m\u001b[0;34m)\u001b[0m\u001b[0;34m)\u001b[0m\u001b[0;34m\u001b[0m\u001b[0;34m\u001b[0m\u001b[0m\n\u001b[1;32m     17\u001b[0m \u001b[0;34m\u001b[0m\u001b[0m\n",
      "\u001b[0;31mValueError\u001b[0m: "
     ]
    }
   ],
   "source": [
    "stats(T^3)"
   ]
  },
  {
   "cell_type": "code",
   "execution_count": null,
   "metadata": {},
   "outputs": [],
   "source": [
    "stats(T^3+1)"
   ]
  },
  {
   "cell_type": "code",
   "execution_count": null,
   "metadata": {},
   "outputs": [],
   "source": [
    "stats(T^3+T^2)"
   ]
  },
  {
   "cell_type": "code",
   "execution_count": null,
   "metadata": {},
   "outputs": [],
   "source": [
    "stats(T^3+T^2+1)"
   ]
  },
  {
   "cell_type": "markdown",
   "metadata": {},
   "source": [
    "## $q = 2$, $\\deg N = 4$"
   ]
  },
  {
   "cell_type": "code",
   "execution_count": 41,
   "metadata": {},
   "outputs": [
    {
     "name": "stdout",
     "output_type": "stream",
     "text": [
      "Forming set of Eisenstein pairs"
     ]
    }
   ],
   "source": [
    "stats(T*(T+1)*(T^2+T+1))"
   ]
  },
  {
   "cell_type": "markdown",
   "metadata": {},
   "source": [
    "## $q = 3$, $\\deg N = 2$"
   ]
  },
  {
   "cell_type": "code",
   "execution_count": 23,
   "metadata": {},
   "outputs": [
    {
     "name": "stdout",
     "output_type": "stream",
     "text": [
      "Full rank of weight 2 modular forms is 117\n",
      "Rank of matrix is 116\n"
     ]
    },
    {
     "data": {
      "text/plain": [
       "{'q': 3,\n",
       " 'N': T^2,\n",
       " 'N, factored': T^2,\n",
       " 'number of cusps': 36,\n",
       " 'finalMatrix': 430 x 162 dense matrix over Function field in e defined by e^6 + 2*T*e^4 + T^2*e^2 + T,\n",
       " 'number of nonzero entries': 8522,\n",
       " 'fraction of nonzero entries': 0.12233706574791846,\n",
       " 'rank': 116,\n",
       " 'full rank of weight 2 D-modular forms': 117,\n",
       " 'time taken': '0:00:47.419983'}"
      ]
     },
     "execution_count": 23,
     "metadata": {},
     "output_type": "execute_result"
    }
   ],
   "source": [
    "stats(T^2)"
   ]
  },
  {
   "cell_type": "code",
   "execution_count": 24,
   "metadata": {},
   "outputs": [
    {
     "name": "stdout",
     "output_type": "stream",
     "text": [
      "Full rank of weight 2 modular forms is 104\n",
      "Rank of matrix is 90\n"
     ]
    },
    {
     "data": {
      "text/plain": [
       "{'q': 3,\n",
       " 'N': T^2 + T,\n",
       " 'N, factored': T * (T + 1),\n",
       " 'number of cusps': 32,\n",
       " 'finalMatrix': 430 x 144 dense matrix over Function field in e defined by e^4 + (T + 2)*e^2 + 1,\n",
       " 'number of nonzero entries': 7429,\n",
       " 'fraction of nonzero entries': 0.11997739018087855,\n",
       " 'rank': 90,\n",
       " 'full rank of weight 2 D-modular forms': 104,\n",
       " 'time taken': '0:00:20.484308'}"
      ]
     },
     "execution_count": 24,
     "metadata": {},
     "output_type": "execute_result"
    }
   ],
   "source": [
    "stats(T^2+T)"
   ]
  },
  {
   "cell_type": "code",
   "execution_count": 25,
   "metadata": {},
   "outputs": [
    {
     "name": "stdout",
     "output_type": "stream",
     "text": [
      "Full rank of weight 2 modular forms is 130\n",
      "Rank of matrix is 130\n"
     ]
    },
    {
     "data": {
      "text/plain": [
       "{'q': 3,\n",
       " 'N': T^2 + 1,\n",
       " 'N, factored': T^2 + 1,\n",
       " 'number of cusps': 40,\n",
       " 'finalMatrix': 430 x 180 dense matrix over Function field in e defined by e^8 + (T^3 + T)*e^2 + T^2 + 1,\n",
       " 'number of nonzero entries': 9563,\n",
       " 'fraction of nonzero entries': 0.1235529715762274,\n",
       " 'rank': 130,\n",
       " 'full rank of weight 2 D-modular forms': 130,\n",
       " 'time taken': '0:04:30.281822'}"
      ]
     },
     "execution_count": 25,
     "metadata": {},
     "output_type": "execute_result"
    }
   ],
   "source": [
    "stats(T^2+1)"
   ]
  },
  {
   "cell_type": "markdown",
   "metadata": {},
   "source": [
    "## $q = 4$, $\\deg N = 2$"
   ]
  },
  {
   "cell_type": "code",
   "execution_count": null,
   "metadata": {},
   "outputs": [],
   "source": [
    "stats(T^2)"
   ]
  },
  {
   "cell_type": "code",
   "execution_count": null,
   "metadata": {},
   "outputs": [],
   "source": [
    "stats(T^2+g)"
   ]
  },
  {
   "cell_type": "code",
   "execution_count": null,
   "metadata": {},
   "outputs": [],
   "source": [
    "stats(T^2+T)"
   ]
  },
  {
   "cell_type": "code",
   "execution_count": null,
   "metadata": {},
   "outputs": [],
   "source": [
    "stats(T^2+T+g)"
   ]
  },
  {
   "cell_type": "code",
   "execution_count": null,
   "metadata": {},
   "outputs": [],
   "source": [
    "stats(T^2+g*T)"
   ]
  },
  {
   "cell_type": "code",
   "execution_count": null,
   "metadata": {},
   "outputs": [],
   "source": [
    "stats(T^2+g*T+g)"
   ]
  },
  {
   "cell_type": "code",
   "execution_count": null,
   "metadata": {},
   "outputs": [],
   "source": [
    "stats(T^2+(g+1)*T)"
   ]
  },
  {
   "cell_type": "code",
   "execution_count": null,
   "metadata": {},
   "outputs": [],
   "source": [
    "stats(T^2+(g+1)*T+g)"
   ]
  },
  {
   "source": [
    "# Exotic Relations"
   ],
   "cell_type": "markdown",
   "metadata": {}
  },
  {
   "cell_type": "code",
   "execution_count": 52,
   "metadata": {},
   "outputs": [],
   "source": [
    "import time\n",
    "import datetime\n",
    "\n",
    "def printTemp(*args):\n",
    "    print(\"\\r\", *args, end='')\n",
    "\n",
    "def exoticRelations(N):\n",
    "    start = time.time()\n",
    "\n",
    "    N = FqT(N)\n",
    "    printTemp(f\"Beginning calculation of statistics for {N}\")\n",
    "\n",
    "    printTemp(\"Forming set of Eisenstein pairs\")\n",
    "    redTwoPairs = reducedTwoPairs(N)\n",
    "\n",
    "    printTemp(\"Calculating t-expansions of Eisenstein pairs\")\n",
    "    cutoff = 2 * qNorm(N) * EulerPhi(2,N) / (q^2-1)\n",
    "    cuts = [E2SeriesAllCusps(r, N, cutoff) for r in redTwoPairs]\n",
    "    printTemp(\"Creating final matrix of coefficients\")\n",
    "    mat = matrix(cuts)\n",
    "    r, c = mat.nrows(), mat.ncols()\n",
    "    printTemp(f\"Matrix has dimensions {r}×{c}\")\n",
    "\n",
    "    printTemp(\"Finding exotic relations between products\",\n",
    "              \"of two Eisenstein series\")\n",
    "    rel_coeffs = mat.kernel().basis()\n",
    "    print(f\"\\r{len(rel_coeffs)} relations:\")\n",
    "    ind_R2P = {i:r for i,r in enumerate(redTwoPairs)}\n",
    "    rel_strings = [\n",
    "        f\"{ri+1}: 0 = \" + \" + \".join(\n",
    "            f\"({c!s}) * E2[{ind_R2P[i][0]!s}] * E2[{ind_R2P[i][1]!s}]\"\n",
    "            for i,c in enumerate(coeff_list) if c != 0\n",
    "        ) for ri, coeff_list in enumerate(rel_coeffs)\n",
    "    ]\n",
    "    for eqn in rel_strings: print(eqn)\n",
    "    # rank of products of two Eisenstein series\n",
    "    E2rank = mat.nrows() - len(rel_coeffs)\n",
    "\n",
    "    n_nnz = sum(map(\n",
    "        lambda row: sum(map(lambda entry: entry != 0, row)),\n",
    "        mat\n",
    "    ))\n",
    "    n_mat = mat.nrows() * mat.ncols()\n",
    "\n",
    "    end = time.time()\n",
    "\n",
    "\n",
    "    return {\n",
    "        \"q\": q,\n",
    "        \"N\": N,\n",
    "        \"N, factored\": N.factor(),\n",
    "        \"number of cusps\": len(biCusps(N)),\n",
    "        \"redTwoPairs\": redTwoPairs,\n",
    "        \"finalMatrix\": mat,\n",
    "        \"number of nonzero entries\": n_nnz,\n",
    "        \"fraction of nonzero entries\": n_nnz / n_mat,\n",
    "        \"rank\": E2rank,\n",
    "        \"time taken\": str(datetime.timedelta(seconds=end-start))\n",
    "    }"
   ]
  },
  {
   "source": [
    "## $q = 2$, $\\deg N = 2$"
   ],
   "cell_type": "markdown",
   "metadata": {}
  },
  {
   "cell_type": "code",
   "execution_count": 54,
   "metadata": {},
   "outputs": [
    {
     "output_type": "stream",
     "name": "stdout",
     "text": [
      "16 relations:\n",
      "1: 0 = (1) * E2[(1, T + 1)] * E2[(0, T)] + (1/T*e + 1) * E2[(1, T + 1)] * E2[(0, T + 1)] + (1/T*e) * E2[(T + 1, T)] * E2[(T, T + 1)] + (1/T*e) * E2[(T + 1, T)] * E2[(T + 1, 1)] + (1/T) * E2[(T + 1, T + 1)] * E2[(1, T)] + (1/T) * E2[(T + 1, T + 1)] * E2[(1, T + 1)] + (1/T) * E2[(T + 1, T + 1)] * E2[(T, 1)] + (1/T*e + (T + 1)/T) * E2[(T + 1, T + 1)] * E2[(T, T + 1)] + (1/T*e + 1/T) * E2[(T + 1, T + 1)] * E2[(T + 1, 1)] + (1/T*e + (T + 1)/T) * E2[(T + 1, T + 1)] * E2[(T + 1, T)]\n",
      "2: 0 = (1) * E2[(1, T + 1)] * E2[(1, T)] + (e + T + 1) * E2[(T + 1, 1)] * E2[(T, T + 1)] + (e + T) * E2[(T + 1, T + 1)] * E2[(0, T)] + (1) * E2[(T + 1, T + 1)] * E2[(0, T + 1)] + (1/T*e) * E2[(T + 1, T + 1)] * E2[(1, T)] + (((T + 1)/T)*e + T + 1) * E2[(T + 1, T + 1)] * E2[(1, T + 1)] + (1/T*e + 1) * E2[(T + 1, T + 1)] * E2[(T, 1)] + (((T + 1)/T)*e + T) * E2[(T + 1, T + 1)] * E2[(T, T + 1)] + (((T + 1)/T)*e + T) * E2[(T + 1, T + 1)] * E2[(T + 1, 1)] + (((T + 1)/T)*e + T) * E2[(T + 1, T + 1)] * E2[(T + 1, T)]\n",
      "3: 0 = (1) * E2[(T, T + 1)] * E2[(0, T)] + (1/T) * E2[(T, T + 1)] * E2[(T, 1)] + (1/T) * E2[(T, T + 1)] * E2[(T, T + 1)] + (1/T*e + 1) * E2[(T + 1, T + 1)] * E2[(0, T)] + (1/T) * E2[(T + 1, T + 1)] * E2[(0, T + 1)] + (1/T^2*e) * E2[(T + 1, T + 1)] * E2[(1, T)] + (1/T^2*e + 1/T) * E2[(T + 1, T + 1)] * E2[(1, T + 1)] + (1/T^2*e + 1/T) * E2[(T + 1, T + 1)] * E2[(T, 1)] + (1/T^2*e + 1/T) * E2[(T + 1, T + 1)] * E2[(T, T + 1)] + (1/T^2*e) * E2[(T + 1, T + 1)] * E2[(T + 1, 1)] + (1/T^2*e + 1/T) * E2[(T + 1, T + 1)] * E2[(T + 1, T)]\n",
      "4: 0 = (1) * E2[(T, T + 1)] * E2[(0, T + 1)] + (1) * E2[(T + 1, T + 1)] * E2[(0, T)] + (1/T*e) * E2[(T + 1, T + 1)] * E2[(0, T + 1)] + (1/T*e) * E2[(T + 1, T + 1)] * E2[(1, T)] + (1/T*e + 1) * E2[(T + 1, T + 1)] * E2[(T, T + 1)] + (1/T*e + 1) * E2[(T + 1, T + 1)] * E2[(T + 1, T)]\n",
      "5: 0 = (1) * E2[(T + 1, 0)] * E2[(1, T + 1)] + (e + T + 1) * E2[(T + 1, 1)] * E2[(T, T + 1)] + (1/T*e + 1) * E2[(T + 1, T + 1)] * E2[(1, T)] + (1/T*e) * E2[(T + 1, T + 1)] * E2[(1, T + 1)] + (1/T*e) * E2[(T + 1, T + 1)] * E2[(T, 1)] + (((T + 1)/T)*e + T) * E2[(T + 1, T + 1)] * E2[(T, T + 1)] + (1) * E2[(T + 1, T + 1)] * E2[(T + 1, 0)] + (((T + 1)/T)*e + T + 1) * E2[(T + 1, T + 1)] * E2[(T + 1, 1)] + (((T + 1)/T)*e + T) * E2[(T + 1, T + 1)] * E2[(T + 1, T)]\n",
      "6: 0 = (1) * E2[(T + 1, 0)] * E2[(T, T)] + (1/T*e + 1) * E2[(T + 1, 1)] * E2[(T, T + 1)] + (1) * E2[(T + 1, T + 1)] * E2[(T, 0)] + (1/T*e + 1) * E2[(T + 1, T + 1)] * E2[(T, T + 1)] + (1/T*e) * E2[(T + 1, T + 1)] * E2[(T + 1, 0)] + (1) * E2[(T + 1, T + 1)] * E2[(T + 1, 1)] + (1/T*e + 1) * E2[(T + 1, T + 1)] * E2[(T + 1, T)]\n",
      "7: 0 = (1) * E2[(T + 1, 0)] * E2[(T, T + 1)] + (e + T) * E2[(T + 1, T)] * E2[(T, T)] + (1) * E2[(T + 1, T)] * E2[(T, T + 1)] + (1) * E2[(T + 1, T)] * E2[(T + 1, 1)] + (1) * E2[(T + 1, T + 1)] * E2[(T, 1)] + (e + T + 1) * E2[(T + 1, T + 1)] * E2[(T, T + 1)] + (1) * E2[(T + 1, T + 1)] * E2[(T + 1, 0)]\n",
      "8: 0 = (1) * E2[(T + 1, 1)] * E2[(1, T)] + (1) * E2[(T + 1, 1)] * E2[(T, T + 1)] + (e) * E2[(T + 1, T)] * E2[(T, T)] + (e + 1) * E2[(T + 1, T)] * E2[(T + 1, 1)] + (1) * E2[(T + 1, T + 1)] * E2[(1, T + 1)] + (1) * E2[(T + 1, T + 1)] * E2[(T, T + 1)] + (e + 1) * E2[(T + 1, T + 1)] * E2[(T + 1, 1)]\n",
      "9: 0 = (1) * E2[(T + 1, 1)] * E2[(1, T + 1)] + (T) * E2[(T + 1, 1)] * E2[(T, T)] + (1) * E2[(T + 1, 1)] * E2[(T + 1, 1)] + (1) * E2[(T + 1, T + 1)] * E2[(1, T)] + (e + T) * E2[(T + 1, T + 1)] * E2[(T, 0)] + (1) * E2[(T + 1, T + 1)] * E2[(T + 1, 0)]\n",
      "10: 0 = (1) * E2[(T + 1, 1)] * E2[(T, 0)] + (1/T*e + 1) * E2[(T + 1, 1)] * E2[(T, T + 1)] + (1/T*e + 1) * E2[(T + 1, 1)] * E2[(T + 1, 0)] + (1) * E2[(T + 1, T)] * E2[(T, T)] + (1/T*e) * E2[(T + 1, T)] * E2[(T + 1, 1)] + (1/T*e + 1) * E2[(T + 1, T + 1)] * E2[(T, T + 1)] + (1) * E2[(T + 1, T + 1)] * E2[(T + 1, 1)]\n",
      "11: 0 = (1) * E2[(T + 1, 1)] * E2[(T, 1)] + (e + T) * E2[(T + 1, T)] * E2[(T, T)] + (e + T) * E2[(T + 1, T + 1)] * E2[(T, 0)] + (1) * E2[(T + 1, T + 1)] * E2[(T, 1)] + (1) * E2[(T + 1, T + 1)] * E2[(T + 1, 0)] + (e + T) * E2[(T + 1, T + 1)] * E2[(T + 1, 1)] + (e + T + 1) * E2[(T + 1, T + 1)] * E2[(T + 1, T)]\n",
      "12: 0 = (1) * E2[(T + 1, T)] * E2[(0, T + 1)] + (e + T) * E2[(T + 1, T)] * E2[(T, T)] + (1) * E2[(T + 1, T)] * E2[(T + 1, 1)] + (1) * E2[(T + 1, T + 1)] * E2[(0, T + 1)] + (1) * E2[(T + 1, T + 1)] * E2[(1, T)] + (1) * E2[(T + 1, T + 1)] * E2[(1, T + 1)] + (1) * E2[(T + 1, T + 1)] * E2[(T + 1, 1)] + (e + T + 1) * E2[(T + 1, T + 1)] * E2[(T + 1, T)]\n",
      "13: 0 = (1) * E2[(T + 1, T)] * E2[(1, T)] + (T) * E2[(T + 1, T)] * E2[(T, 0)] + (1) * E2[(T + 1, T)] * E2[(T + 1, T)] + (1/T*e + 1) * E2[(T + 1, T + 1)] * E2[(1, T)] + (1/T*e) * E2[(T + 1, T + 1)] * E2[(1, T + 1)] + (e + T) * E2[(T + 1, T + 1)] * E2[(T, 0)] + (1/T*e) * E2[(T + 1, T + 1)] * E2[(T, 1)] + (1/T*e + 1) * E2[(T + 1, T + 1)] * E2[(T, T + 1)] + (1) * E2[(T + 1, T + 1)] * E2[(T + 1, 0)] + (1/T*e + 1) * E2[(T + 1, T + 1)] * E2[(T + 1, 1)] + (1/T*e + 1) * E2[(T + 1, T + 1)] * E2[(T + 1, T)]\n",
      "14: 0 = (1) * E2[(T + 1, T)] * E2[(1, T + 1)] + (e) * E2[(T + 1, T)] * E2[(T, T)] + (1/T*e) * E2[(T + 1, T + 1)] * E2[(1, T)] + (1/T*e + 1) * E2[(T + 1, T + 1)] * E2[(1, T + 1)] + (1/T*e) * E2[(T + 1, T + 1)] * E2[(T, 1)] + (1/T*e + 1) * E2[(T + 1, T + 1)] * E2[(T, T + 1)] + (1/T*e) * E2[(T + 1, T + 1)] * E2[(T + 1, 1)] + (1/T*e) * E2[(T + 1, T + 1)] * E2[(T + 1, T)]\n",
      "15: 0 = (1) * E2[(T + 1, T)] * E2[(T, 1)] + (e) * E2[(T + 1, T)] * E2[(T, T)] + (e + 1) * E2[(T + 1, T)] * E2[(T, T + 1)] + (e + 1) * E2[(T + 1, T)] * E2[(T + 1, 1)] + (e) * E2[(T + 1, T + 1)] * E2[(T + 1, 1)] + (1) * E2[(T + 1, T + 1)] * E2[(T + 1, T)]\n",
      "16: 0 = (1) * E2[(T + 1, T)] * E2[(T + 1, 0)] + (1) * E2[(T + 1, T + 1)] * E2[(T, 0)] + (1/T*e) * E2[(T + 1, T + 1)] * E2[(T, 1)] + (1/T*e + 1) * E2[(T + 1, T + 1)] * E2[(T, T + 1)] + (1/T*e) * E2[(T + 1, T + 1)] * E2[(T + 1, 0)] + (1/T*e + 1) * E2[(T + 1, T + 1)] * E2[(T + 1, T)]\n"
     ]
    },
    {
     "output_type": "execute_result",
     "data": {
      "text/plain": [
       "{'q': 2,\n",
       " 'N': T^2,\n",
       " 'N, factored': T^2,\n",
       " 'number of cusps': 12,\n",
       " 'redTwoPairs': [((0, T + 1), (0, T)),\n",
       "  ((0, T + 1), (0, T + 1)),\n",
       "  ((1, T + 1), (0, T)),\n",
       "  ((1, T + 1), (0, T + 1)),\n",
       "  ((1, T + 1), (1, T)),\n",
       "  ((T, T + 1), (0, T)),\n",
       "  ((T, T + 1), (0, T + 1)),\n",
       "  ((T, T + 1), (T, 1)),\n",
       "  ((T, T + 1), (T, T + 1)),\n",
       "  ((T + 1, 0), (1, T + 1)),\n",
       "  ((T + 1, 0), (T, 0)),\n",
       "  ((T + 1, 0), (T, T)),\n",
       "  ((T + 1, 0), (T, T + 1)),\n",
       "  ((T + 1, 0), (T + 1, 0)),\n",
       "  ((T + 1, 1), (1, T)),\n",
       "  ((T + 1, 1), (1, T + 1)),\n",
       "  ((T + 1, 1), (T, 0)),\n",
       "  ((T + 1, 1), (T, 1)),\n",
       "  ((T + 1, 1), (T, T)),\n",
       "  ((T + 1, 1), (T, T + 1)),\n",
       "  ((T + 1, 1), (T + 1, 0)),\n",
       "  ((T + 1, 1), (T + 1, 1)),\n",
       "  ((T + 1, T), (0, T + 1)),\n",
       "  ((T + 1, T), (1, T)),\n",
       "  ((T + 1, T), (1, T + 1)),\n",
       "  ((T + 1, T), (T, 0)),\n",
       "  ((T + 1, T), (T, 1)),\n",
       "  ((T + 1, T), (T, T)),\n",
       "  ((T + 1, T), (T, T + 1)),\n",
       "  ((T + 1, T), (T + 1, 0)),\n",
       "  ((T + 1, T), (T + 1, 1)),\n",
       "  ((T + 1, T), (T + 1, T)),\n",
       "  ((T + 1, T + 1), (0, T)),\n",
       "  ((T + 1, T + 1), (0, T + 1)),\n",
       "  ((T + 1, T + 1), (1, T)),\n",
       "  ((T + 1, T + 1), (1, T + 1)),\n",
       "  ((T + 1, T + 1), (T, 0)),\n",
       "  ((T + 1, T + 1), (T, 1)),\n",
       "  ((T + 1, T + 1), (T, T)),\n",
       "  ((T + 1, T + 1), (T, T + 1)),\n",
       "  ((T + 1, T + 1), (T + 1, 0)),\n",
       "  ((T + 1, T + 1), (T + 1, 1)),\n",
       "  ((T + 1, T + 1), (T + 1, T)),\n",
       "  ((T + 1, T + 1), (T + 1, T + 1))],\n",
       " 'finalMatrix': 44 x 32 dense matrix over Function field in e defined by e^2 + T*e + T,\n",
       " 'number of nonzero entries': 231,\n",
       " 'fraction of nonzero entries': 0.1640625,\n",
       " 'rank': 28,\n",
       " 'time taken': '0:00:00.949094'}"
      ]
     },
     "metadata": {},
     "execution_count": 54
    }
   ],
   "source": [
    "exoticRelations(T^2)"
   ]
  },
  {
   "cell_type": "code",
   "execution_count": 55,
   "metadata": {},
   "outputs": [
    {
     "output_type": "stream",
     "name": "stdout",
     "text": [
      "0 relations:\n"
     ]
    },
    {
     "output_type": "execute_result",
     "data": {
      "text/plain": [
       "{'q': 2,\n",
       " 'N': T^2 + T,\n",
       " 'N, factored': T * (T + 1),\n",
       " 'number of cusps': 9,\n",
       " 'redTwoPairs': [((0, T + 1), (0, T + 1)),\n",
       "  ((1, T + 1), (0, T + 1)),\n",
       "  ((T, T), (T, T)),\n",
       "  ((T, T + 1), (T, T + 1)),\n",
       "  ((T + 1, 0), (T, T)),\n",
       "  ((T + 1, 0), (T + 1, 0)),\n",
       "  ((T + 1, 1), (T, T)),\n",
       "  ((T + 1, 1), (T + 1, 0)),\n",
       "  ((T + 1, T), (T, 1)),\n",
       "  ((T + 1, T), (T, T)),\n",
       "  ((T + 1, T), (T, T + 1)),\n",
       "  ((T + 1, T), (T + 1, T)),\n",
       "  ((T + 1, T + 1), (0, T + 1)),\n",
       "  ((T + 1, T + 1), (1, T + 1)),\n",
       "  ((T + 1, T + 1), (T, 1)),\n",
       "  ((T + 1, T + 1), (T, T)),\n",
       "  ((T + 1, T + 1), (T, T + 1)),\n",
       "  ((T + 1, T + 1), (T + 1, 0)),\n",
       "  ((T + 1, T + 1), (T + 1, 1)),\n",
       "  ((T + 1, T + 1), (T + 1, T)),\n",
       "  ((T + 1, T + 1), (T + 1, T + 1))],\n",
       " 'finalMatrix': 21 x 24 dense matrix over Function field in e defined by e + 1,\n",
       " 'number of nonzero entries': 94,\n",
       " 'fraction of nonzero entries': 0.1865079365079365,\n",
       " 'rank': 21,\n",
       " 'time taken': '0:00:01.050159'}"
      ]
     },
     "metadata": {},
     "execution_count": 55
    }
   ],
   "source": [
    "exoticRelations(T^2+T)"
   ]
  },
  {
   "cell_type": "markdown",
   "metadata": {},
   "source": [
    "# Rough Work"
   ]
  },
  {
   "cell_type": "code",
   "execution_count": 35,
   "metadata": {},
   "outputs": [
    {
     "output_type": "stream",
     "name": "stdout",
     "text": [
      "32\n12\n{((0, 1), (1, 0)): T^2*X^3 + O(X^4), ((0, T + 1), (T + 1, 0)): T^2*X^3 + O(X^4), ((1, 0), (0, 1)): O(X^4), ((1, 1), (1, 0)): T^2*X^3 + O(X^4), ((1, T), (0, 1)): O(X^4), ((1, T + 1), (T + 1, 0)): T^2*X^3 + O(X^4), ((T, 1), (1, 0)): T^2*X^3 + O(X^4), ((T, T + 1), (T + 1, 0)): T^2*X^3 + O(X^4), ((T + 1, 0), (0, T + 1)): O(X^4), ((T + 1, 1), (1, 0)): T^2*X^3 + O(X^4), ((T + 1, T), (1, 1)): T^2*X^3 + O(X^4), ((T + 1, T + 1), (T + 1, 0)): T^2*X^3 + O(X^4)}\n[0, 0, 0, 0, 0, 0, 0, 0, 0, 0, 0, 0, 0, 0, 0, 0, 0, 0, 0, 0, 0, 0, 0, 0, 0, 0, 0, 0, 0, 0, 0, 0]\n"
     ]
    }
   ],
   "source": [
    "N = T^2\n",
    "r = ((T,T+1), (T,1))\n",
    "cutoff = 2 * qNorm(N) * EulerPhi(2,N) / (q^2-1)\n",
    "# cusp_cut = ceil(cutoff/len(biCusps(N)))\n",
    "print(cutoff)\n",
    "print(len(biCusps(N)))\n",
    "print({bc:E2Series(r,bc,N) for bc in biCusps(N)})\n",
    "print(E2SeriesAllCusps(r, N, cutoff))"
   ]
  },
  {
   "cell_type": "code",
   "execution_count": 30,
   "metadata": {},
   "outputs": [
    {
     "output_type": "execute_result",
     "data": {
      "text/plain": [
       "[\n",
       "(0, 0, 1, 1/T*e + 1, 0, 0, 0, 0, 0, 0, 0, 0, 0, 0, 0, 0, 0, 0, 0, 0, 0, 0, 0, 0, 0, 0, 0, 0, 1/T*e, 0, 1/T*e, 0, 0, 0, 1/T, 1/T, 0, 1/T, 0, 1/T*e + (T + 1)/T, 0, 1/T*e + 1/T, 1/T*e + (T + 1)/T, 0),\n",
       "(0, 0, 0, 0, 1, 0, 0, 0, 0, 0, 0, 0, 0, 0, 0, 0, 0, 0, 0, e + T + 1, 0, 0, 0, 0, 0, 0, 0, 0, 0, 0, 0, 0, e + T, 1, 1/T*e, ((T + 1)/T)*e + T + 1, 0, 1/T*e + 1, 0, ((T + 1)/T)*e + T, 0, ((T + 1)/T)*e + T, ((T + 1)/T)*e + T, 0),\n",
       "(0, 0, 0, 0, 0, 1, 0, 0, 1/T, 0, 0, 0, 0, 0, 0, 0, 0, 0, 0, 0, 0, 0, 0, 0, 0, 0, 0, 0, 0, 0, 0, 0, 1/T*e + 1, 1/T, 1/T^2*e, 1/T^2*e + 1/T, 0, 1/T^2*e + 1/T, 0, 1/T^2*e + 1/T, 0, 1/T^2*e, 1/T^2*e + 1/T, 0),\n",
       "(0, 0, 0, 0, 0, 0, 1, 0, 0, 0, 0, 0, 0, 0, 0, 0, 0, 0, 0, 0, 0, 0, 0, 0, 0, 0, 0, 0, 0, 0, 0, 0, 1, 1/T*e, 1/T*e, 0, 0, 0, 0, 1/T*e + 1, 0, 0, 1/T*e + 1, 0),\n",
       "(0, 0, 0, 0, 0, 0, 0, 1, 0, 0, 0, 0, 0, 0, 0, 0, 0, 0, 0, 0, 0, 0, 0, 0, 0, 0, 0, 0, 0, 0, 0, 0, 0, 0, 0, 0, 0, 0, 0, 0, 0, 0, 0, 0),\n",
       "(0, 0, 0, 0, 0, 0, 0, 0, 0, 1, 0, 0, 0, 0, 0, 0, 0, 0, 0, e + T + 1, 0, 0, 0, 0, 0, 0, 0, 0, 0, 0, 0, 0, 0, 0, 1/T*e + 1, 1/T*e, 0, 1/T*e, 0, ((T + 1)/T)*e + T, 1, ((T + 1)/T)*e + T + 1, ((T + 1)/T)*e + T, 0),\n",
       "(0, 0, 0, 0, 0, 0, 0, 0, 0, 0, 0, 1, 0, 0, 0, 0, 0, 0, 0, 1/T*e + 1, 0, 0, 0, 0, 0, 0, 0, 0, 0, 0, 0, 0, 0, 0, 0, 0, 1, 0, 0, 1/T*e + 1, 1/T*e, 1, 1/T*e + 1, 0),\n",
       "(0, 0, 0, 0, 0, 0, 0, 0, 0, 0, 0, 0, 1, 0, 0, 0, 0, 0, 0, 0, 0, 0, 0, 0, 0, 0, 0, e + T, 1, 0, 1, 0, 0, 0, 0, 0, 0, 1, 0, e + T + 1, 1, 0, 0, 0),\n",
       "(0, 0, 0, 0, 0, 0, 0, 0, 0, 0, 0, 0, 0, 0, 1, 0, 0, 0, 0, 1, 0, 0, 0, 0, 0, 0, 0, e, 0, 0, e + 1, 0, 0, 0, 0, 1, 0, 0, 0, 1, 0, e + 1, 0, 0),\n",
       "(0, 0, 0, 0, 0, 0, 0, 0, 0, 0, 0, 0, 0, 0, 0, 1, 0, 0, T, 0, 0, 1, 0, 0, 0, 0, 0, 0, 0, 0, 0, 0, 0, 0, 1, 0, e + T, 0, 0, 0, 1, 0, 0, 0),\n",
       "(0, 0, 0, 0, 0, 0, 0, 0, 0, 0, 0, 0, 0, 0, 0, 0, 1, 0, 0, 1/T*e + 1, 1/T*e + 1, 0, 0, 0, 0, 0, 0, 1, 0, 0, 1/T*e, 0, 0, 0, 0, 0, 0, 0, 0, 1/T*e + 1, 0, 1, 0, 0),\n",
       "(0, 0, 0, 0, 0, 0, 0, 0, 0, 0, 0, 0, 0, 0, 0, 0, 0, 1, 0, 0, 0, 0, 0, 0, 0, 0, 0, e + T, 0, 0, 0, 0, 0, 0, 0, 0, e + T, 1, 0, 0, 1, e + T, e + T + 1, 0),\n",
       "(0, 0, 0, 0, 0, 0, 0, 0, 0, 0, 0, 0, 0, 0, 0, 0, 0, 0, 0, 0, 0, 0, 1, 0, 0, 0, 0, e + T, 0, 0, 1, 0, 0, 1, 1, 1, 0, 0, 0, 0, 0, 1, e + T + 1, 0),\n",
       "(0, 0, 0, 0, 0, 0, 0, 0, 0, 0, 0, 0, 0, 0, 0, 0, 0, 0, 0, 0, 0, 0, 0, 1, 0, T, 0, 0, 0, 0, 0, 1, 0, 0, 1/T*e + 1, 1/T*e, e + T, 1/T*e, 0, 1/T*e + 1, 1, 1/T*e + 1, 1/T*e + 1, 0),\n",
       "(0, 0, 0, 0, 0, 0, 0, 0, 0, 0, 0, 0, 0, 0, 0, 0, 0, 0, 0, 0, 0, 0, 0, 0, 1, 0, 0, e, 0, 0, 0, 0, 0, 0, 1/T*e, 1/T*e + 1, 0, 1/T*e, 0, 1/T*e + 1, 0, 1/T*e, 1/T*e, 0),\n",
       "(0, 0, 0, 0, 0, 0, 0, 0, 0, 0, 0, 0, 0, 0, 0, 0, 0, 0, 0, 0, 0, 0, 0, 0, 0, 0, 1, e, e + 1, 0, e + 1, 0, 0, 0, 0, 0, 0, 0, 0, 0, 0, e, 1, 0),\n",
       "(0, 0, 0, 0, 0, 0, 0, 0, 0, 0, 0, 0, 0, 0, 0, 0, 0, 0, 0, 0, 0, 0, 0, 0, 0, 0, 0, 0, 0, 1, 0, 0, 0, 0, 0, 0, 1, 1/T*e, 0, 1/T*e + 1, 1/T*e, 0, 1/T*e + 1, 0)\n",
       "]"
      ]
     },
     "metadata": {},
     "execution_count": 30
    }
   ],
   "source": [
    "calculation[\"finalMatrix\"].kernel().basis()"
   ]
  },
  {
   "cell_type": "code",
   "execution_count": 34,
   "metadata": {},
   "outputs": [
    {
     "output_type": "execute_result",
     "data": {
      "text/plain": [
       "[((0, T + 1), (0, T)),\n",
       " ((0, T + 1), (0, T + 1)),\n",
       " ((1, T + 1), (0, T)),\n",
       " ((1, T + 1), (0, T + 1)),\n",
       " ((1, T + 1), (1, T)),\n",
       " ((T, T + 1), (0, T)),\n",
       " ((T, T + 1), (0, T + 1)),\n",
       " ((T, T + 1), (T, 1)),\n",
       " ((T, T + 1), (T, T + 1)),\n",
       " ((T + 1, 0), (1, T + 1)),\n",
       " ((T + 1, 0), (T, 0)),\n",
       " ((T + 1, 0), (T, T)),\n",
       " ((T + 1, 0), (T, T + 1)),\n",
       " ((T + 1, 0), (T + 1, 0)),\n",
       " ((T + 1, 1), (1, T)),\n",
       " ((T + 1, 1), (1, T + 1)),\n",
       " ((T + 1, 1), (T, 0)),\n",
       " ((T + 1, 1), (T, 1)),\n",
       " ((T + 1, 1), (T, T)),\n",
       " ((T + 1, 1), (T, T + 1)),\n",
       " ((T + 1, 1), (T + 1, 0)),\n",
       " ((T + 1, 1), (T + 1, 1)),\n",
       " ((T + 1, T), (0, T + 1)),\n",
       " ((T + 1, T), (1, T)),\n",
       " ((T + 1, T), (1, T + 1)),\n",
       " ((T + 1, T), (T, 0)),\n",
       " ((T + 1, T), (T, 1)),\n",
       " ((T + 1, T), (T, T)),\n",
       " ((T + 1, T), (T, T + 1)),\n",
       " ((T + 1, T), (T + 1, 0)),\n",
       " ((T + 1, T), (T + 1, 1)),\n",
       " ((T + 1, T), (T + 1, T)),\n",
       " ((T + 1, T + 1), (0, T)),\n",
       " ((T + 1, T + 1), (0, T + 1)),\n",
       " ((T + 1, T + 1), (1, T)),\n",
       " ((T + 1, T + 1), (1, T + 1)),\n",
       " ((T + 1, T + 1), (T, 0)),\n",
       " ((T + 1, T + 1), (T, 1)),\n",
       " ((T + 1, T + 1), (T, T)),\n",
       " ((T + 1, T + 1), (T, T + 1)),\n",
       " ((T + 1, T + 1), (T + 1, 0)),\n",
       " ((T + 1, T + 1), (T + 1, 1)),\n",
       " ((T + 1, T + 1), (T + 1, T)),\n",
       " ((T + 1, T + 1), (T + 1, T + 1))]"
      ]
     },
     "metadata": {},
     "execution_count": 34
    }
   ],
   "source": [
    "calculation[\"redTwoPairs\"]"
   ]
  },
  {
   "cell_type": "code",
   "execution_count": 31,
   "metadata": {},
   "outputs": [
    {
     "output_type": "execute_result",
     "data": {
      "text/plain": [
       "'[                0                 0                 0                 0                 0                 0                 e                 0                 0                 0                 0                 0                 e                 0                 0                 0                 0                 0                 0                 0                 0                 0                 0                 0             e + T                 0                 0                 0                 0                 0                 0                 0]\\n[                0                 0                 0                 0                 0               T^2           T*e + T                 0                 0                 0                 0                 0           T*e + T                 0                 0                 0                 0               T^2                 0                 0                 0                 0                 0               T^2     T*e + T^2 + T                 0                 0                 0                 0                 0                 0                 0]\\n[                0                 0                 0                 0                 0                 0                 0                 T         T*e + T^2                 0                 0                 0                 0                 T               T*e                 0                 0               T*e                 0                 0                 0                 0                 0                 0                 0                 0                 T                 0                 0         T*e + T^2                 0                 0]\\n[                0                 0                 0                 0                 0               T^2                 0               T*e               T^2                 0                 0                 0                 0               T*e       T^2*e + T^2                 0               T*e                 0                 0                 0                 0                 0                 0                 0                 0                 0         T*e + T^2                 0                 0         T*e + T^2                 0                 0]\\n[                0                 0                 0                 0                 0                 0                 0                 0               T^2                 0                 0                 0                 0                 0               T^2                 0                 0               T*e                 0         T*e + T^2               T^2                 0                 0               T*e                 0                 0                 0                 0         T*e + T^2               T^2                 0         T*e + T^2]\\n[                0                 0                 0                 0                 0                 0                 0                 0                 T                 0                 0                 0                 0                 0                 T                 0                 0                 0                 0                 0                 0                 0                 0                 0                 0                 0                 T                 0                 0                 0                 0                 0]\\n[                0                 0                 0                 0                 0               T^2                 0                 0               T*e                 0                 0                 0                 0                 0               T*e                 0                 0                 0                 0                 0                 0                 0                 0               T^2                 0                 0         T*e + T^2                 0                 0                 0                 0                 0]\\n[                0                 0                 0                 0                 0                 0                 0                 0                 0                 0                 0                 0                 0                 0                 0                 0                 0                 0                 0                 0                 0                 0                 0                 0                 0                 0                 0                 0                 0                 0                 0                 0]\\n[                0                 0                 0                 0                 0               T^2                 0                 0                 0                 0                 0               T^2                 0                 0                 0                 0                 0                 0                 0                 0                 0                 0                 0               T^2                 0                 0                 0                 0                 0               T^2                 0                 0]\\n[                0                 0               T*e                 0         T*e + T^2 T^2*e + T^3 + T^2                 0                 0                 0                 0                 0                 0                 0                 0                 0                 0                 0               T*e                 0                 0                 0                 0                 0                 0                 0                 0                 0                 0         T*e + T^2 T^2*e + T^3 + T^2                 0         T*e + T^2]\\n[                e                 0                 0             e + T                 0                 0                 0                 0                 0                 0                 0                 0                 0                 0                 0                 0                 0                 0                 0                 0                 T                 0                 0                 T                 0                 0                 0                 0                 0                 0                 0                 0]\\n[                0                 0               T*e                 0                 0         T*e + T^2                 0                 0                 0                 0                 0                 T                 0                 0                 0                 0                 0                 T                 0                 0                 0                 0                 0                 0                 0                 0                 0                 0                 T         T*e + T^2                 0                 T]\\n[                0                 0               T*e                 0         T*e + T^2       T^2*e + T^3                 0                 0                 0                 0                 0                 0                 0                 0                 0                 0                 0                 0                 0                 0                 0                 0                 0                 0                 0                 0                 0                 0                 0               T^2                 0                 0]\\n[          T*e + T                 0                 0     T*e + T^2 + T                 0                 0                 0                 0                 0                 0                 0                 0                 0                 0                 0                 0                 0                 0                 0                 0                 0                 0                 0                 0                 0                 0               T^2                 0                 0               T^2                 0                 0]\\n[                0                 0                 0                 0                 0                 0                 0                 0                 0                 0                 0                 0                 0                 0                 0                 0                 0         T*e + T^2                 0                 0         T*e + T^2                 0               T*e       T^2*e + T^2                 0                 0                 0                 0               T*e       T^2*e + T^2                 0               T*e]\\n[                0                 0                 0                 0                 0                 0                 0                 0                 0                 0                 0                 0                 0                 0                 0                 T                 0                 0                 0                 0                 0                 0                 0                 0                 0                 0                 0                 T                 0                 0                 T                 0]\\n[                0                 T         T*e + T^2                 0                 0                 T                 0                 0                 0                 0                 0                 0                 0                 0                 0                 0                 0         T*e + T^2                 0                 0                 T                 0                 T               T*e                 0                 0                 0                 0                 0               T*e                 0                 0]\\n[                0                 0               T^2                 0                 0                 0                 0                 0                 0                 0                 0                 0                 0                 0                 0                 0         T*e + T^2       T^2*e + T^3                 0                 0                 0                 0                 0                 0                 0                 0                 0                 0                 0               T*e                 0                 0]\\n[                0                 0                 0                 0                 0                 0                 0                 0                 0                 0                 0                 T                 0                 0                 0             e + T                 0                 0                 0                 0                 0                 0                 0                 0                 0                 0                 0                 e                 0                 0                 e                 0]\\n[                0                 0                 0                 0                 0                 0                 0                 0                 0                 0                 0                 0                 0                 0                 0                 0                 0         T*e + T^2                 0                 0                 0                 0                 0               T^2                 0                 0                 0                 0               T*e             T^2*e                 0               T*e]\\n[                0               T*e               T^2                 0                 0         T*e + T^2                 0                 0                 0                 0                 0                 0                 0                 0                 0                 0                 0         T*e + T^2                 0                 0                 0                 0                 0                 0                 0                 0               T^2                 0               T*e               T^2                 0               T*e]\\n[                0                 0               T^2                 0                 0                 0                 0                 0                 0                 0                 0                 0                 0                 0                 0     T*e + T^2 + T                 0                 0                 0                 0                 0                 0                 0               T^2                 0                 0               T^2           T*e + T                 0                 0           T*e + T                 0]\\n[                0                 0                 0                 0                 0                 0                 0                 0               T*e                 0                 0                 0                 0                 0               T*e                 0                 0               T^2                 0                 0               T*e                 0         T*e + T^2                 0                 0         T*e + T^2       T^2*e + T^3                 0                 0                 0                 0                 0]\\n[                0                 0                 0                 0                 0                 0                 0                 0                 0                 0                 0                 0                 0                 0                 0                 0                 0                 0                 T                 0                 0                 T                 0                 0                 0                 0                 0                 0                 0                 0                 0                 0]\\n[                0                 0                 0                 0                 0                 0                 0                 0                 0                 0                 0                 0                 0                 0                 0                 0               T*e       T^2*e + T^2                 0               T*e       T^2*e + T^2                 0                 0         T*e + T^2                 0                 0                 0                 0                 0         T*e + T^2                 0                 0]\\n[                0                 0                 T                 0                 0                 T                 0                 0                 0                 0                 0                 0                 0                 0                 0                 0                 0                 0                 e                 0                 0             e + T                 0                 0                 0                 0                 0                 0                 0                 0                 0                 0]\\n[                0                 0                 0                 0                 0                 0                 0                 0                 0                 0                 0                 0                 0                 0                 0                 0                 0               T^2                 0               T*e             T^2*e                 0                 0         T*e + T^2                 0                 0                 0                 0                 0                 0                 0                 0]\\n[                0                 0                 0                 0                 0                 0                 0                 0                 0                 0                 T         T*e + T^2                 0                 0                 0                 0                 T               T*e                 0                 0               T*e                 0                 0         T*e + T^2                 0                 0                 0                 0                 0                 T                 0                 0]\\n[                0                 0                 0                 0                 0                 0                 0                 0                 0                 0                 0               T^2                 0                 0                 0                 0                 0                 0                 0                 0               T*e                 0         T*e + T^2       T^2*e + T^3                 0                 0                 0                 0                 0                 0                 0                 0]\\n[                0                 0               T*e                 0                 0         T*e + T^2                 0                 0                 0                 0                 0                 0                 0                 0                 0                 0                 0                 0                 0                 0               T*e                 0                 0         T*e + T^2                 0                 0               T^2                 0                 0                 0                 0                 0]\\n[                0                 0                 0                 0                 0                 0                 0                 0                 0                 0                 0                 0                 0                 0                 0                 0         T*e + T^2               T^2                 0                 0               T*e                 0         T*e + T^2               T^2                 0                 0               T^2                 0                 0               T*e                 0                 0]\\n[                0                 0                 0                 0                 0                 0                 0                 0                 0                 0                 0               T^2                 0                 0                 0                 0                 0               T^2           T*e + T                 0                 0     T*e + T^2 + T                 0                 0                 0                 0               T^2                 0                 0                 0                 0                 0]\\n[                0                 0                 0                 0                 0                 0                 0                 0                 T                 0                 0               T*e                 0                 0                 T                 0                 0                 0                 0                 0                 0                 0                 0                 0                 0                 T               T*e                 0                 0                 0                 0                 0]\\n[                0                 0                 0                 0                 0               T^2                 0                 0               T*e                 0                 0               T*e                 0                 0               T*e                 0                 0                 0                 0                 0                 0                 0                 0                 0                 0         T*e + T^2               T^2                 0                 0                 0                 0                 0]\\n[                0                 0                 0                 0                 0                 0                 0                 0                 0                 0                 0               T*e                 0                 0                 0                 0                 0                 0                 0         T*e + T^2 T^2*e + T^3 + T^2                 0                 0               T*e                 0                 0                 0                 0                 0                 0                 0                 0]\\n[                0                 0                 0                 0                 0               T^2                 0                 0                 0                 0                 0               T*e                 0                 0                 0                 0                 0               T*e                 0                 0               T^2                 0                 0                 0                 0                 0                 0                 0                 0         T*e + T^2                 0                 0]\\n[                0                 0                 T                 0                 T               T*e                 0                 0                 0                 0                 0               T*e                 0                 0                 0                 0                 0                 0                 0                 T         T*e + T^2                 0                 0                 T                 0                 0                 0                 0                 0                 0                 0                 0]\\n[                0                 0                 0                 0                 0                 0                 0                 0                 0                 0                 0               T*e                 0                 0                 0                 0                 0                 0                 0                 0               T^2                 0                 0                 0                 0                 0                 0                 0                 0                 0                 0                 0]\\n[                0                 0                 0                 0                 0                 0                 0                 0                 0                 e                 0                 0                 0                 0                 0                 0                 0                 T                 0                 0                 0                 0                 0                 0                 0                 0                 0                 0                 0                 T                 0                 0]\\n[                0                 0                 0                 0                 0               T^2                 0                 0                 0                 0               T*e             T^2*e                 0                 0                 0                 0                 0                 0                 0                 0                 0                 0                 0                 0                 0                 0                 0                 0                 0                 0                 0                 0]\\n[                0                 0               T*e                 0         T*e + T^2               T^2                 0                 0                 0                 0                 0               T*e                 0                 0                 0                 0                 0                 0                 0                 0                 0                 0                 0                 0                 0                 0               T^2                 0                 0                 0                 0                 0]\\n[                0                 0                 0                 0                 0                 0                 0                 0                 0                 0                 0               T*e                 0                 0                 0                 0                 0         T*e + T^2                 0                 0                 0                 0                 0                 0                 0                 0               T^2                 0                 0               T*e                 0                 0]\\n[                0                 0                 0                 0                 0                 0                 0                 0                 0                 0               T*e               T^2                 0                 0                 0                 0                 0                 0                 0               T*e               T^2                 0                 0         T*e + T^2                 0                 0               T^2                 0                 0                 0                 0                 0]\\n[                0                 0                 0                 0                 0               T^2                 0                 0                 0           T*e + T                 0                 0                 0                 0                 0                 0                 0                 0                 0                 0               T^2                 0                 0                 0                 0                 0               T^2                 0                 0                 0                 0                 0]'"
      ]
     },
     "metadata": {},
     "execution_count": 31
    }
   ],
   "source": [
    "str(calculation[\"finalMatrix\"])"
   ]
  }
 ],
 "metadata": {
  "kernelspec": {
   "display_name": "SageMath 9.0 for VSCode",
   "language": "python",
   "name": "sagemath-vscode"
  }
 },
 "nbformat": 4,
 "nbformat_minor": 4
}