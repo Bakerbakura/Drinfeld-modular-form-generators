{
 "cells": [
  {
   "cell_type": "markdown",
   "metadata": {},
   "source": [
    "# Defining the field $\\mathbb{F}_q$ and the polynomial ring $\\mathbb{F}_q[T]$"
   ]
  },
  {
   "cell_type": "markdown",
   "metadata": {},
   "source": [
    "Define base field:"
   ]
  },
  {
   "cell_type": "code",
   "execution_count": 60,
   "metadata": {},
   "outputs": [],
   "source": [
    "# Define base field by prime power:\n",
    "q = 2"
   ]
  },
  {
   "cell_type": "markdown",
   "metadata": {},
   "source": [
    "Calculate the field $F_q$:\n",
    "\n",
    "($g$ is a generator of the multiplicative group of $F_q$)"
   ]
  },
  {
   "cell_type": "code",
   "execution_count": 61,
   "metadata": {},
   "outputs": [],
   "source": [
    "Fq = GF(q,'g')\n",
    "g = Fq.gen()"
   ]
  },
  {
   "cell_type": "markdown",
   "metadata": {},
   "source": [
    "Define the polynomial rings $\\mathbb{F}_q[T]$, $\\mathbb{F}_q[T,X]$, and $\\mathbb{F}_q[T][X]$:"
   ]
  },
  {
   "cell_type": "code",
   "execution_count": 62,
   "metadata": {},
   "outputs": [],
   "source": [
    "FqT.<T> = Fq[]\n",
    "FFqT.<T> = FunctionField(Fq)\n",
    "FqTX.<T,X> = Fq[]\n",
    "FFqT_X.<X> = FFqT[]\n",
    "sep_TX = FqTX.hom([T,X],FFqT_X)"
   ]
  },
  {
   "cell_type": "markdown",
   "metadata": {},
   "source": [
    "# Helper Functions"
   ]
  },
  {
   "source": [
    "## Polynomial algebra and number theory"
   ],
   "cell_type": "markdown",
   "metadata": {}
  },
  {
   "cell_type": "markdown",
   "metadata": {},
   "source": [
    "Factors of a polynomial:"
   ]
  },
  {
   "cell_type": "code",
   "execution_count": 63,
   "metadata": {},
   "outputs": [],
   "source": [
    "def prime_factors(p):\n",
    "    return set(pr for pr,n in list(p.factor()))\n",
    "def cross_multiply(l):\n",
    "    if len(l) == 0:\n",
    "        return set(1)\n",
    "    else:\n",
    "        return set(p*q for p in l[0] for q in cross_multiply(l[1:]))\n",
    "def all_factors(p):\n",
    "    list_of_powers = [set(pr^i for i in range(n+1)) for pr,n in list(p.factor())]\n",
    "    return cross_multiply(list_of_powers)\n",
    "def is_monicList(l):\n",
    "    for p in l:\n",
    "        if p != 0:\n",
    "            return p.is_monic()"
   ]
  },
  {
   "cell_type": "markdown",
   "metadata": {},
   "source": [
    "Euler $\\varphi$ function:"
   ]
  },
  {
   "cell_type": "code",
   "execution_count": 64,
   "metadata": {},
   "outputs": [],
   "source": [
    "from functools import reduce\n",
    "\n",
    "def qNorm(p):\n",
    "    return q^p.degree()\n",
    "def product(iterable):\n",
    "    return reduce(operator.mul, iterable, 1)\n",
    "def EulerPhi(n, p):\n",
    "    pfs = prime_factors(p)\n",
    "    pf_norms = [qNorm(pf) for pf in pfs]\n",
    "    return qNorm(p)^n * product(1-pfn^(-n) for pfn in pf_norms)"
   ]
  },
  {
   "cell_type": "markdown",
   "metadata": {},
   "source": [
    "Useful lists modulo a polynomial:"
   ]
  },
  {
   "cell_type": "code",
   "execution_count": 65,
   "metadata": {
    "tags": []
   },
   "outputs": [],
   "source": [
    "@cached_function\n",
    "def numsModDegree(n):\n",
    "    if n == 0:\n",
    "        return [0]\n",
    "    elif n > 0:\n",
    "        highMonos = [c*FqT(T)^(n-1) for c in Fq]\n",
    "        return [hm+num for hm in highMonos for num in numsModDegree(n-1)]\n",
    "    else:\n",
    "        raise ValueError\n",
    "def numsMod(p):\n",
    "    p = FqT(p)\n",
    "    return numsModDegree(p.degree())\n",
    "\n",
    "@cached_function\n",
    "def coprimesMod(p):\n",
    "    p = FqT(p)\n",
    "    return [num for num in numsMod(p) if p.gcd(num) == 1]\n",
    "\n",
    "@cached_function\n",
    "def pairsModDegree(n):\n",
    "    nums = numsModDegree(n)\n",
    "    return [(n1,n2) for n1 in nums for n2 in nums]\n",
    "def pairsMod(p):\n",
    "    p = FqT(p)\n",
    "    return pairsModDegree(p.degree())\n",
    "\n",
    "def reducedPairsDegree(n):\n",
    "    return [(n1,n2) for n1,n2 in pairsModDegree(n) if n1 != 0 or n2 != 0]\n",
    "def reducedPairs(p):\n",
    "    p = FqT(p)\n",
    "    return reducedPairsDegree(p.degree())\n",
    "\n",
    "@cached_function\n",
    "def monicPairsDegree(n):\n",
    "    return [pair for pair in reducedPairsDegree(n) if is_monicList(pair)]\n",
    "def monicPairs(p):\n",
    "    p = FqT(p)\n",
    "    return monicPairsDegree(p.degree())\n",
    "\n",
    "# @cached_function\n",
    "def ppairsDegree(n):\n",
    "    redPairs = reducedPairsDegree(n)\n",
    "    return [(p1,p2) for p1 in redPairs for p2 in redPairs if p1[0]+p2[0] != 0 or p1[1]+p2[1] != 0]\n",
    "def ppairs(p):\n",
    "    p = FqT(p)\n",
    "    return ppairsDegree(p.degree())\n",
    "\n",
    "@cached_function\n",
    "def monicPPairsDegree(n):\n",
    "    return [(p1,p2) for p1,p2 in ppairsDegree(n) if is_monicList(p1+p2)] # + is tuple concatenation\n",
    "def monicPPairs(p):\n",
    "    p = FqT(p)\n",
    "    return monicPPairsDegree(p.degree())\n",
    "\n",
    "@cached_function\n",
    "def cusps(p):\n",
    "    p = FqT(p)\n",
    "    return [(p1,p2) for p1,p2 in monicPairs(p) if p.gcd(p1).gcd(p2) == 1]\n",
    "\n",
    "def my_xgcd(l):\n",
    "    if len(l) < 2:\n",
    "        raise ValueError\n",
    "    elif len(l) == 2:\n",
    "        return l[0].xgcd(l[1])\n",
    "    else: # len(l) > 2\n",
    "        xgcd_rest = my_xgcd(l[1:])\n",
    "        pgcd = l[0].xgcd(xgcd_rest[0])\n",
    "        return pgcd[:2] + tuple(pgcd[2]*xgcd_rest[i] for i in range(1,len(l)))\n",
    "    \n",
    "@cached_function\n",
    "def biCusps(p):\n",
    "    p = FqT(p)\n",
    "    cc = cusps(p)\n",
    "    xgcd_coeffs = [my_xgcd(c+(p,))[1:] for c in cc]\n",
    "    return [(c,(-x[1],x[0])) for c,x in zip(cc,xgcd_coeffs)]\n",
    "\n",
    "# biCusps(T^2+T)"
   ]
  },
  {
   "source": [
    "## Drinfeld module functions"
   ],
   "cell_type": "markdown",
   "metadata": {}
  },
  {
   "cell_type": "markdown",
   "metadata": {},
   "source": [
    "Frobenius endomorphism and ring of skew polynomials:"
   ]
  },
  {
   "cell_type": "code",
   "execution_count": 66,
   "metadata": {},
   "outputs": [],
   "source": [
    "frob = FqTX.hom([FqTX(T)^q,FqTX(X)^q])\n",
    "frob\n",
    "SkewTX.<tau> = FqTX['tau',frob]\n",
    "# SkewTX\n",
    "# phiaT = T +T*tau +tau^2; phiaT(T)"
   ]
  },
  {
   "source": [
    "$\\varphi^{\\pi A}_p(x)$ for a polynomial $p \\in \\mathbb{F}_q[T]$, output in $\\mathbb{F}_q(T)[X]$:"
   ],
   "cell_type": "markdown",
   "metadata": {}
  },
  {
   "cell_type": "code",
   "execution_count": 67,
   "metadata": {},
   "outputs": [],
   "source": [
    "phi_hom = FqT.hom([T+tau],SkewTX)\n",
    "\n",
    "@cached_function\n",
    "def phiA(p):\n",
    "    return sep_TX(phi_hom(FqT(p)).operator_eval(X))\n",
    "\n",
    "# (phiA(T^2+T)/phiA(T+1)/phiA(T)*phiA(1))(1/X).parent()"
   ]
  },
  {
   "source": [
    "Most primitive factor of $\\varphi_p^{\\pi A}(x)$, output in $\\mathbb{F}_q(T)[X]$:"
   ],
   "cell_type": "markdown",
   "metadata": {}
  },
  {
   "cell_type": "code",
   "execution_count": 68,
   "metadata": {},
   "outputs": [],
   "source": [
    "@cached_function\n",
    "def primPhiA(p):\n",
    "    p = FqT(p)\n",
    "    primes = list(prime_factors(p))\n",
    "    return FFqT_X(phiA_inclExcl_div(p,primes))\n",
    "\n",
    "def phiA_inclExcl_div(p,l):\n",
    "    if len(l) == 0:\n",
    "        return phiA(p)\n",
    "    else:\n",
    "        first = l[0]\n",
    "        rest = l[1:]\n",
    "        return phiA_inclExcl_div(p,rest)/phiA_inclExcl_div(p/first,rest)\n",
    "\n",
    "# primPhiA(T^2+T) == phiA(T^2+T)/phiA(T+1)/phiA(T)*phiA(1)\n",
    "# primPhiA(T^2+T).parent()"
   ]
  },
  {
   "source": [
    "$\\pi e_A \\left(\\frac{r}{N}\\right) = e_{\\pi a} \\left(\\frac{\\pi r}{N}\\right)$"
   ],
   "cell_type": "markdown",
   "metadata": {}
  },
  {
   "cell_type": "code",
   "execution_count": 69,
   "metadata": {},
   "outputs": [],
   "source": [
    "@cached_function\n",
    "def FqT_adj(N):\n",
    "    # ext = FFqT_X.quotient(primPhiA(N), 'e1')\n",
    "    why.<e> = FFqT[]\n",
    "    poly = primPhiA(N)(e)\n",
    "    ext.<e> = FFqT.extension(poly)\n",
    "    return ext, e\n",
    "\n",
    "# FqT_N, e = FqT_adj(T^2+T); FqT_N"
   ]
  },
  {
   "cell_type": "code",
   "execution_count": 70,
   "metadata": {},
   "outputs": [],
   "source": [
    "@cached_function\n",
    "def eA(r,N):\n",
    "    ext, e1 = FqT_adj(N)\n",
    "    return phiA(r % N)(e1)\n",
    "\n",
    "\n",
    "# eA(T^3+T^2-T, T^2+T)\n",
    "# eA(T^3+T^2-T, T^2+T).parent()"
   ]
  },
  {
   "source": [
    "## Expansions of Eisenstein series"
   ],
   "cell_type": "markdown",
   "metadata": {}
  },
  {
   "source": [
    "Integrality factor"
   ],
   "cell_type": "markdown",
   "metadata": {}
  },
  {
   "cell_type": "code",
   "execution_count": 71,
   "metadata": {},
   "outputs": [],
   "source": [
    "@cached_function\n",
    "def int_factor(N):\n",
    "    return FqT(N).radical()\n",
    "\n",
    "# int_factor(T^2+T).parent()"
   ]
  },
  {
   "source": [
    "Expansion of an Eisenstein series at $\\infty$"
   ],
   "cell_type": "markdown",
   "metadata": {}
  },
  {
   "cell_type": "code",
   "execution_count": 72,
   "metadata": {},
   "outputs": [],
   "source": [
    "# X-expansion of an Eisenstein series at infinity to order 'omax', exclusive; currently only works if omax <= |N|\n",
    "# 1/(eA(r2,N)+phiA(r1,1/X))\n",
    "@cached_function\n",
    "def E2SeriesInfinity(r,omax,N):\n",
    "    r1,r2 = r\n",
    "    r1 %= N; r2 %= N\n",
    "    deg, lc = r1.degree(), r1.lc()\n",
    "\n",
    "    radical = int_factor(N)\n",
    "\n",
    "    if omax > qNorm(N):\n",
    "        print(f\"Warning: incomplete E-series expansion since omax, {omax}, is greater than the norm of N, {qNorm(N)}.\")\n",
    "    \n",
    "    if deg == -1:\n",
    "        # r1 == 0 mod N\n",
    "        return radical / eA(r2,N)\n",
    "    else:\n",
    "        frac = 1 -X^(q^deg) * (eA(r2,N)+phiA(r1)(1/X)) / lc\n",
    "        # return from fraction field to polynomial ring\n",
    "        fracfield = frac.parent()\n",
    "        section = fracfield.coerce_map_from(fracfield.ring()).section()\n",
    "        frac = section(frac)\n",
    "        imax = omax - q^deg\n",
    "        inexp = 0\n",
    "        for i in range(imax+1):\n",
    "            inexp += frac^i\n",
    "        return radical * X^(q^deg) * inexp / lc +O(X^omax)\n",
    "\n",
    "# E2SeriesInfinity((1,T), 6, T^2)\n",
    "# E2SeriesInfinity((1,T), 6, T^2).parent()"
   ]
  },
  {
   "source": [
    "Series expansion of a product of Eisenstein series at a cusp"
   ],
   "cell_type": "markdown",
   "metadata": {}
  },
  {
   "cell_type": "code",
   "execution_count": 73,
   "metadata": {},
   "outputs": [],
   "source": [
    "@cached_function\n",
    "def E2Series(r,biCusp,N):\n",
    "    ab,cd = biCusp; a,b = ab; c,d = cd\n",
    "    R = [((a*r1+c*r2) % N, (b*r1+d*r2) % N) for r1,r2 in r]\n",
    "    omax = (len(r) * qNorm(N) / (q+1) +1).floor()\n",
    "    series = product(E2SeriesInfinity(rbc,omax,N) for rbc in R) +O(X^omax)\n",
    "    return series\n",
    "\n",
    "def E2Series_list(r,biCusp,N,deg):\n",
    "    series = E2Series(r,biCusp,N)\n",
    "    l = series.list()\n",
    "    # return l\n",
    "    if len(l) >= deg:\n",
    "        return l[:deg]\n",
    "    else: # len(l) < deg\n",
    "        return l +[0]*(deg-len(l))\n",
    "\n",
    "# E2Series([(1,0),(T,2),(2,T+1)], ((0,1),(-1,0)), T^2+T)\n",
    "# E2Series_list(((1,0),(T,2),(2,T+1)), ((0,1),(-1,0)), T^2+T, 15)\n"
   ]
  },
  {
   "source": [
    "# Main function"
   ],
   "cell_type": "markdown",
   "metadata": {}
  },
  {
   "cell_type": "code",
   "execution_count": 81,
   "metadata": {},
   "outputs": [
    {
     "output_type": "error",
     "ename": "SyntaxError",
     "evalue": "invalid syntax (<ipython-input-81-46db81fdf137>, line 63)",
     "traceback": [
      "\u001b[0;36m  File \u001b[0;32m\"<ipython-input-81-46db81fdf137>\"\u001b[0;36m, line \u001b[0;32m63\u001b[0m\n\u001b[0;31m    \"time taken\": str(datetime.timedelta(seconds=end-start))\u001b[0m\n\u001b[0m               ^\u001b[0m\n\u001b[0;31mSyntaxError\u001b[0m\u001b[0;31m:\u001b[0m invalid syntax\n"
     ]
    }
   ],
   "source": [
    "from itertools import combinations_with_replacement\n",
    "import time\n",
    "import datetime\n",
    "log_level = 1\n",
    "mPrintFreq = 5\n",
    "\n",
    "def ifPrintTemp(n,*args):\n",
    "    if log_level >= n:\n",
    "        print(\"\\r\", *args, sep='', end='')\n",
    "\n",
    "def stats(N):\n",
    "    start = time.time()\n",
    "\n",
    "    N = FqT(N)\n",
    "    ifPrintTemp(1, \"Beginning calculation of statistics for\", N)\n",
    "\n",
    "    ifPrintTemp(1, \"Forming set of Eisenstein pairs\")\n",
    "    ReddPairs = reducedPairs(N)\n",
    "    Ppairs = list(combinations_with_replacement(ReddPairs,2))\n",
    "\n",
    "    ifPrintTemp(1, \"Calculating t-expansions of Eisenstein pairs\")\n",
    "    series_cutoff = ceil(2 * qNorm(N) / (q+1))\n",
    "    c_lists = [\n",
    "        [E2Series_list(r,bc,N,series_cutoff) for bc in biCusps(N)]\n",
    "        for r in Ppairs\n",
    "    ]\n",
    "    ifPrintTemp(1, \"Transposing nested sublists of coefficients\")\n",
    "    c_trans = [map(list, zip(*l)) for l in c_lists]\n",
    "    ifPrintTemp(1, \"Flattening nested sublists of coefficients\")\n",
    "    c_flats = [(coeff for il in mat for coeff in il) for mat in c_trans]\n",
    "    ifPrintTemp(1, \"Truncating flattened sublists\")\n",
    "    cutoff = 2 * qNorm(N) * EulerPhi(2,N) / (q^2-1)\n",
    "    c_cuts = [list(l)[:cutoff] for l in c_flats]\n",
    "    # c_cuts = [list(l) for l in c_flats]\n",
    "    ifPrintTemp(1, \"Creating final matrix of coefficients\")\n",
    "    mat = matrix(c_cuts)\n",
    "    r, c = mat.nrows(), mat.ncols()\n",
    "    ifPrintTemp(1, f\"Matrix has dimensions {r}×{c}\")\n",
    "\n",
    "    ifPrintTemp(1, \"Calculating full rank of weight 2 D-modular forms\")\n",
    "    W2rank = qNorm(N) * EulerPhi(2,N) / (q^2-1) + EulerPhi(2,N) / (q-1)\n",
    "    ifPrintTemp(1, f\"Full rank of weight 2 D-modular forms is {W2rank}\\n\")\n",
    "\n",
    "    ifPrintTemp(1, \"Calculating rank of the matrix of coefficients\")\n",
    "    rank = mat.rank()\n",
    "    ifPrintTemp(1, f\"Rank of matrix is {rank}\\n\")\n",
    "\n",
    "    n_nonzero = sum(map(lambda row: sum(map(lambda entry: entry != 0, row)), mat))\n",
    "\n",
    "    end = time.time()\n",
    "\n",
    "\n",
    "    return {\n",
    "        \"q\": q,\n",
    "        \"N\": N,\n",
    "        \"N, factored\": N.factor(),\n",
    "        \"number of cusps\": len(biCusps(N)),\n",
    "        \"finalMatrix\": mat,\n",
    "        \"number of nonzero entries\": n_nonzero,\n",
    "        \"fraction of nonzero entries\": n_nonzero / (mat.nrows()*mat.ncols()),\n",
    "        \"rank\": rank,\n",
    "        \"full rank of weight 2 D-modular forms\": W2rank\n",
    "        \"time taken\": str(datetime.timedelta(seconds=end-start))\n",
    "    }"
   ]
  },
  {
   "source": [
    "# Results"
   ],
   "cell_type": "markdown",
   "metadata": {}
  },
  {
   "source": [
    "## $q = 2$, $\\deg N = 2$"
   ],
   "cell_type": "markdown",
   "metadata": {}
  },
  {
   "cell_type": "code",
   "execution_count": 79,
   "metadata": {},
   "outputs": [
    {
     "output_type": "stream",
     "name": "stdout",
     "text": [
      "Full rank of weight 2 D-modular forms is 28\n",
      "Rank of matrix is 27\n"
     ]
    },
    {
     "output_type": "execute_result",
     "data": {
      "text/plain": [
       "{'q': 2,\n",
       " 'N': T^2,\n",
       " 'N, factored': T^2,\n",
       " 'number of cusps': 12,\n",
       " 'finalMatrix': 120 x 36 dense matrix over Function field in e defined by e^2 + T*e + T,\n",
       " 'number of nonzero entries': 732,\n",
       " 'fraction of nonzero entries': 0.16944444444444445,\n",
       " 'rank': 27,\n",
       " 'full rank of weight 2 D-modular forms': 28}"
      ]
     },
     "metadata": {},
     "execution_count": 79
    }
   ],
   "source": [
    "stats(T^2)"
   ]
  },
  {
   "cell_type": "code",
   "execution_count": 80,
   "metadata": {},
   "outputs": [
    {
     "output_type": "stream",
     "name": "stdout",
     "text": [
      "Full rank of weight 2 D-modular forms is 21\n",
      "Rank of matrix is 15\n"
     ]
    },
    {
     "output_type": "execute_result",
     "data": {
      "text/plain": [
       "{'q': 2,\n",
       " 'N': T^2 + T,\n",
       " 'N, factored': T * (T + 1),\n",
       " 'number of cusps': 9,\n",
       " 'finalMatrix': 120 x 27 dense matrix over Function field in e defined by e + 1,\n",
       " 'number of nonzero entries': 549,\n",
       " 'fraction of nonzero entries': 0.16944444444444445,\n",
       " 'rank': 15,\n",
       " 'full rank of weight 2 D-modular forms': 21}"
      ]
     },
     "metadata": {},
     "execution_count": 80
    }
   ],
   "source": [
    "stats(T^2+T)"
   ]
  },
  {
   "source": [
    "## $q = 2$, $\\deg N = 3$"
   ],
   "cell_type": "markdown",
   "metadata": {}
  },
  {
   "cell_type": "code",
   "execution_count": 75,
   "metadata": {},
   "outputs": [
    {
     "output_type": "stream",
     "name": "stdout",
     "text": [
      "Full rank of weight 2 D-modular forms is 176\n",
      "Rank of matrix is 176\n"
     ]
    },
    {
     "output_type": "execute_result",
     "data": {
      "text/plain": [
       "{'q': 2,\n",
       " 'N': T^3,\n",
       " 'N, factored': T^3,\n",
       " 'number of cusps': 48,\n",
       " 'finalMatrix': 2016 x 288 dense matrix over Function field in e defined by e^4 + (T^2 + T)*e^2 + T^2*e + T,\n",
       " 'number of nonzero entries': 91728,\n",
       " 'fraction of nonzero entries': 0.1579861111111111,\n",
       " 'rank': 176,\n",
       " 'full rank of weight 2 D-modular forms': 176}"
      ]
     },
     "metadata": {},
     "execution_count": 75
    }
   ],
   "source": [
    "stats(T^3)"
   ]
  },
  {
   "cell_type": "code",
   "execution_count": 76,
   "metadata": {},
   "outputs": [
    {
     "output_type": "stream",
     "name": "stdout",
     "text": [
      "Full rank of weight 2 D-modular forms is 165\n",
      "Rank of matrix is 165\n"
     ]
    },
    {
     "output_type": "execute_result",
     "data": {
      "text/plain": [
       "{'q': 2,\n",
       " 'N': T^3 + 1,\n",
       " 'N, factored': (T + 1) * (T^2 + T + 1),\n",
       " 'number of cusps': 45,\n",
       " 'finalMatrix': 2016 x 270 dense matrix over Function field in e defined by e^3 + (T + 1)*e^2 + T*e + 1,\n",
       " 'number of nonzero entries': 85995,\n",
       " 'fraction of nonzero entries': 0.1579861111111111,\n",
       " 'rank': 165,\n",
       " 'full rank of weight 2 D-modular forms': 165}"
      ]
     },
     "metadata": {},
     "execution_count": 76
    }
   ],
   "source": [
    "stats(T^3+1)"
   ]
  },
  {
   "cell_type": "code",
   "execution_count": 77,
   "metadata": {},
   "outputs": [
    {
     "output_type": "stream",
     "name": "stdout",
     "text": [
      "Full rank of weight 2 D-modular forms is 132\n",
      "Rank of matrix is 132\n"
     ]
    },
    {
     "output_type": "execute_result",
     "data": {
      "text/plain": [
       "{'q': 2,\n",
       " 'N': T^3 + T^2,\n",
       " 'N, factored': (T + 1) * T^2,\n",
       " 'number of cusps': 36,\n",
       " 'finalMatrix': 2016 x 216 dense matrix over Function field in e defined by e^2 + T*e + 1,\n",
       " 'number of nonzero entries': 68508,\n",
       " 'fraction of nonzero entries': 0.15732473544973544,\n",
       " 'rank': 132,\n",
       " 'full rank of weight 2 D-modular forms': 132}"
      ]
     },
     "metadata": {},
     "execution_count": 77
    }
   ],
   "source": [
    "stats(T^3+T^2)"
   ]
  },
  {
   "cell_type": "code",
   "execution_count": 78,
   "metadata": {},
   "outputs": [
    {
     "output_type": "stream",
     "name": "stdout",
     "text": [
      "Full rank of weight 2 D-modular forms is 231\n",
      "Rank of matrix is 231\n"
     ]
    },
    {
     "output_type": "execute_result",
     "data": {
      "text/plain": [
       "{'q': 2,\n",
       " 'N': T^3 + T^2 + 1,\n",
       " 'N, factored': T^3 + T^2 + 1,\n",
       " 'number of cusps': 63,\n",
       " 'finalMatrix': 2016 x 378 dense matrix over Function field in e defined by e^7 + (T^4 + T^2 + T + 1)*e^3 + (T^4 + T^3 + T)*e + T^3 + T^2 + 1,\n",
       " 'number of nonzero entries': 120897,\n",
       " 'fraction of nonzero entries': 0.15864748677248677,\n",
       " 'rank': 231,\n",
       " 'full rank of weight 2 D-modular forms': 231}"
      ]
     },
     "metadata": {},
     "execution_count": 78
    }
   ],
   "source": [
    "stats(T^3+T^2+1)"
   ]
  },
  {
   "source": [
    "## $q = 3$"
   ],
   "cell_type": "markdown",
   "metadata": {}
  },
  {
   "cell_type": "code",
   "execution_count": 38,
   "metadata": {},
   "outputs": [
    {
     "output_type": "stream",
     "name": "stdout",
     "text": [
      "Full rank of weight 2 D-modular forms is 117\n",
      "Rank of matrix is 116\n"
     ]
    },
    {
     "output_type": "execute_result",
     "data": {
      "text/plain": [
       "{'N': T^2,\n",
       " 'q': 3,\n",
       " 'N, factored': T^2,\n",
       " 'number of cusps': 36,\n",
       " 'finalMatrix': 3240 x 180 dense matrix over Function field in e defined by e^6 + 2*T*e^4 + T^2*e^2 + T,\n",
       " 'number of nonzero entries': 87660,\n",
       " 'fraction of nonzero entries': 0.15030864197530863,\n",
       " 'rank': 116,\n",
       " 'full rank of weight 2 D-modular forms': 117}"
      ]
     },
     "metadata": {},
     "execution_count": 38
    }
   ],
   "source": [
    "stats(T^2)"
   ]
  },
  {
   "cell_type": "code",
   "execution_count": 39,
   "metadata": {},
   "outputs": [
    {
     "output_type": "stream",
     "name": "stdout",
     "text": [
      "Full rank of weight 2 D-modular forms is 104\n",
      "Rank of matrix is 93\n"
     ]
    },
    {
     "output_type": "execute_result",
     "data": {
      "text/plain": [
       "{'N': T^2 + T,\n",
       " 'q': 3,\n",
       " 'N, factored': T * (T + 1),\n",
       " 'number of cusps': 32,\n",
       " 'finalMatrix': 3240 x 160 dense matrix over Function field in e defined by e^4 + (T + 2)*e^2 + 1,\n",
       " 'number of nonzero entries': 77920,\n",
       " 'fraction of nonzero entries': 0.15030864197530863,\n",
       " 'rank': 93,\n",
       " 'full rank of weight 2 D-modular forms': 104}"
      ]
     },
     "metadata": {},
     "execution_count": 39
    }
   ],
   "source": [
    "stats(T^2+T)"
   ]
  },
  {
   "cell_type": "code",
   "execution_count": 43,
   "metadata": {},
   "outputs": [
    {
     "output_type": "stream",
     "name": "stdout",
     "text": [
      "Full rank of weight 2 D-modular forms is 130\n",
      "Rank of matrix is 130\n"
     ]
    },
    {
     "output_type": "execute_result",
     "data": {
      "text/plain": [
       "{'q': 3,\n",
       " 'N': T^2 + 1,\n",
       " 'N, factored': T^2 + 1,\n",
       " 'number of cusps': 40,\n",
       " 'finalMatrix': 3240 x 200 dense matrix over Function field in e defined by e^8 + (T^3 + T)*e^2 + T^2 + 1,\n",
       " 'number of nonzero entries': 97400,\n",
       " 'fraction of nonzero entries': 0.15030864197530863,\n",
       " 'rank': 130,\n",
       " 'full rank of weight 2 D-modular forms': 130}"
      ]
     },
     "metadata": {},
     "execution_count": 43
    }
   ],
   "source": [
    "stats(T^2+1)"
   ]
  },
  {
   "source": [
    "# Rough Work"
   ],
   "cell_type": "markdown",
   "metadata": {}
  },
  {
   "cell_type": "code",
   "execution_count": 87,
   "metadata": {},
   "outputs": [
    {
     "output_type": "execute_result",
     "data": {
      "text/plain": [
       "Vector space of degree 3 and dimension 1 over Rational Field\n",
       "Basis matrix:\n",
       "[ 1 -2  1]"
      ]
     },
     "metadata": {},
     "execution_count": 87
    }
   ],
   "source": [
    "m = matrix(QQ,3,3,range(9))\n",
    "m.kernel()"
   ]
  },
  {
   "cell_type": "code",
   "execution_count": 88,
   "metadata": {},
   "outputs": [
    {
     "output_type": "execute_result",
     "data": {
      "text/plain": [
       "[ 1 -2  1]"
      ]
     },
     "metadata": {},
     "execution_count": 88
    }
   ],
   "source": [
    "m.kernel().basis_matrix()"
   ]
  },
  {
   "cell_type": "code",
   "execution_count": 89,
   "metadata": {},
   "outputs": [
    {
     "output_type": "execute_result",
     "data": {
      "text/plain": [
       "(0,)"
      ]
     },
     "metadata": {},
     "execution_count": 89
    }
   ],
   "source": [
    "m.kernel().basis_matrix().pivots()"
   ]
  },
  {
   "cell_type": "code",
   "execution_count": null,
   "metadata": {},
   "outputs": [],
   "source": []
  }
 ],
 "metadata": {
  "kernelspec": {
   "display_name": "SageMath 9.1 for VSCode",
   "language": "python",
   "name": "sagemath-vscode"
  },
  "language_info": {
   "codemirror_mode": {
    "name": "ipython",
    "version": 3
   },
   "file_extension": ".py",
   "mimetype": "text/x-python",
   "name": "python",
   "nbconvert_exporter": "python",
   "pygments_lexer": "ipython3",
   "version": "3.9.0-final"
  }
 },
 "nbformat": 4,
 "nbformat_minor": 4
}