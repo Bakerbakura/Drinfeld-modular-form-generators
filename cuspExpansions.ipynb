{
 "cells": [
  {
   "cell_type": "markdown",
   "metadata": {},
   "source": [
    "# Defining the field $\\mathbb{F}_q$ and the polynomial ring $\\mathbb{F}_q[T]$"
   ]
  },
  {
   "cell_type": "markdown",
   "metadata": {},
   "source": [
    "Define base field:"
   ]
  },
  {
   "cell_type": "code",
   "execution_count": 3,
   "metadata": {},
   "outputs": [],
   "source": [
    "# Define base field by prime power:\n",
    "q = 2"
   ]
  },
  {
   "cell_type": "markdown",
   "metadata": {},
   "source": [
    "Calculate the field $F_q$:\n",
    "\n",
    "($g$ is a generator of the multiplicative group of $F_q$)"
   ]
  },
  {
   "cell_type": "code",
   "execution_count": 4,
   "metadata": {},
   "outputs": [],
   "source": [
    "Fq = GF(q,'g')\n",
    "g = Fq.gen()"
   ]
  },
  {
   "cell_type": "markdown",
   "metadata": {},
   "source": [
    "Define the polynomial rings $\\mathbb{F}_q[T]$, $\\mathbb{F}_q[T,X]$, and $\\mathbb{F}_q[T][X]$:"
   ]
  },
  {
   "cell_type": "code",
   "execution_count": 5,
   "metadata": {},
   "outputs": [],
   "source": [
    "FqT.<T> = Fq[]\n",
    "FFqT.<T> = FunctionField(Fq)\n",
    "FqTX.<T,X> = Fq[]\n",
    "FFqT_X.<X> = FFqT[]\n",
    "sep_TX = FqTX.hom([T,X],FFqT_X)"
   ]
  },
  {
   "cell_type": "markdown",
   "metadata": {},
   "source": [
    "# Helper Functions"
   ]
  },
  {
   "cell_type": "markdown",
   "metadata": {},
   "source": [
    "## Polynomial algebra and number theory"
   ]
  },
  {
   "cell_type": "markdown",
   "metadata": {},
   "source": [
    "### Factors of a polynomial"
   ]
  },
  {
   "cell_type": "code",
   "execution_count": 6,
   "metadata": {},
   "outputs": [],
   "source": [
    "def prime_factors(p):\n",
    "    return set(pr for pr,n in list(p.factor()))\n",
    "def cross_multiply(l):\n",
    "    if len(l) == 0:\n",
    "        return set(1)\n",
    "    else:\n",
    "        return set(p*q for p in l[0] for q in cross_multiply(l[1:]))\n",
    "def all_factors(p):\n",
    "    list_of_powers = [set(pr^i for i in range(n+1)) for pr,n in list(p.factor())]\n",
    "    return cross_multiply(list_of_powers)\n",
    "def is_monicList(l):\n",
    "    for p in l:\n",
    "        if p != 0:\n",
    "            return p.is_monic()\n",
    "    return False"
   ]
  },
  {
   "cell_type": "markdown",
   "metadata": {},
   "source": [
    "### Euler $\\varphi$ function"
   ]
  },
  {
   "cell_type": "code",
   "execution_count": 7,
   "metadata": {},
   "outputs": [],
   "source": [
    "from functools import reduce\n",
    "\n",
    "def qNorm(p):\n",
    "    return q^p.degree()\n",
    "def product(iterable):\n",
    "    return reduce(operator.mul, iterable, 1)\n",
    "def EulerPhi(n, p):\n",
    "    pfs = prime_factors(p)\n",
    "    pf_norms = [qNorm(pf) for pf in pfs]\n",
    "    return qNorm(p)^n * product(1-pfn^(-n) for pfn in pf_norms)"
   ]
  },
  {
   "cell_type": "markdown",
   "metadata": {},
   "source": [
    "### Extended gcd of a list of polynomials"
   ]
  },
  {
   "cell_type": "code",
   "execution_count": 8,
   "metadata": {},
   "outputs": [],
   "source": [
    "def my_xgcd(l):\n",
    "    if len(l) < 2:\n",
    "        raise ValueError\n",
    "    elif len(l) == 2:\n",
    "        return l[0].xgcd(l[1])\n",
    "    else: # len(l) > 2\n",
    "        xgcd_rest = my_xgcd(l[1:])\n",
    "        pgcd = l[0].xgcd(xgcd_rest[0])\n",
    "        # + here is tuple concatenation:\n",
    "        return pgcd[:2] + tuple(pgcd[2]*xgcd_rest[i] for i in range(1,len(l)))\n"
   ]
  },
  {
   "cell_type": "markdown",
   "metadata": {},
   "source": [
    "### List of polynomials modulo a polynomial"
   ]
  },
  {
   "cell_type": "code",
   "execution_count": 9,
   "metadata": {
    "tags": []
   },
   "outputs": [],
   "source": [
    "@cached_function\n",
    "def numsMod_deg(n):\n",
    "    if n == 0:\n",
    "        return [0]\n",
    "    elif n > 0:\n",
    "        highMonos = [c*FqT(T)^(n-1) for c in Fq]\n",
    "        return [hm+num for hm in highMonos for num in numsMod_deg(n-1)]\n",
    "    else:\n",
    "        raise ValueError\n",
    "def numsMod(p):\n",
    "    p = FqT(p)\n",
    "    return numsMod_deg(p.degree())\n",
    "\n",
    "# numsMod(T^2+T)"
   ]
  },
  {
   "cell_type": "markdown",
   "metadata": {},
   "source": [
    "### Lists of pairs modulo a polynomial"
   ]
  },
  {
   "cell_type": "code",
   "execution_count": 10,
   "metadata": {},
   "outputs": [],
   "source": [
    "@cached_function\n",
    "def pairsMod_deg(n):\n",
    "    nums = numsMod_deg(n)\n",
    "    return [(n1,n2) for n1 in nums for n2 in nums]\n",
    "def pairsMod(p):\n",
    "    p = FqT(p)\n",
    "    return pairsMod_deg(p.degree())\n",
    "\n",
    "def nonzeroPairs_deg(n):\n",
    "    return [(n1,n2) for n1,n2 in pairsMod_deg(n) if (n1,n2) != (0,0)]\n",
    "def nonzeroPairs(p):\n",
    "    p = FqT(p)\n",
    "    return nonzeroPairs_deg(p.degree())\n",
    "\n",
    "@cached_function\n",
    "def monicPairs_deg(n):\n",
    "    return [pair for pair in nonzeroPairs_deg(n) if is_monicList(pair)]\n",
    "def monicPairs(p):\n",
    "    p = FqT(p)\n",
    "    return monicPairs_deg(p.degree())"
   ]
  },
  {
   "cell_type": "markdown",
   "metadata": {},
   "source": [
    "### Lists of cusps"
   ]
  },
  {
   "cell_type": "code",
   "execution_count": 11,
   "metadata": {},
   "outputs": [],
   "source": [
    "@cached_function\n",
    "def cusps(p):\n",
    "  p = FqT(p)\n",
    "  return [(p1,p2) for p1,p2 in monicPairs(p) if p.gcd(p1).gcd(p2) == 1]\n",
    "    \n",
    "@cached_function\n",
    "def biCusps(p):\n",
    "  p = FqT(p)\n",
    "  cc = cusps(p)\n",
    "  xgcd_coeffs = [my_xgcd(c+(p,))[1:] for c in cc]\n",
    "  return [(c,(-x[1],x[0])) for c,x in zip(cc,xgcd_coeffs)]\n",
    "\n",
    "# biCusps(T^2+T)"
   ]
  },
  {
   "cell_type": "markdown",
   "metadata": {},
   "source": [
    "### List of pairs congruent to another pair modulo a divisor of a polynomial"
   ]
  },
  {
   "cell_type": "code",
   "execution_count": 12,
   "metadata": {},
   "outputs": [],
   "source": [
    "# list of all pairs mod `p` which are congruent to the pair `r` modulo `m`,\n",
    "# where `m` is a divisor of `p`\n",
    "def pairsCongruentMod(r, m, p):\n",
    "\tm, p = FqT(m), FqT(p)\n",
    "\tif p % m != 0: raise ValueError\n",
    "\tn = FqT(p/m)\n",
    "\treturn [(m*t1+r[0], m*t2+r[1]) for t1,t2 in pairsMod(n)]\n",
    "\n",
    "# pairsCongruentMod((1,0), T, T^2+T)"
   ]
  },
  {
   "cell_type": "markdown",
   "metadata": {},
   "source": [
    "## Reduction of list of Eisenstein pairs using known relations"
   ]
  },
  {
   "cell_type": "code",
   "execution_count": 13,
   "metadata": {},
   "outputs": [],
   "source": [
    "import itertools\n",
    "\n",
    "def reducedTwoPairs(p):\n",
    "\tp = FqT(p)\n",
    "\t# list of (indices of) Eisenstein series of weight 1\n",
    "\tnnzPairs = nonzeroPairs(p)\n",
    "\t# list of products of two Eisenstein series of weight 1\n",
    "\tnnzTwoPairs = list(itertools.product(nnzPairs,repeat=2))\n",
    "\t\n",
    "\t# passing between products of two Eisenstein series and columns\n",
    "\tto_idx_dict = dict(zip(nnzTwoPairs,range(len(nnzTwoPairs))))\n",
    "\tto_twoPair_dict = dict(zip(range(len(nnzTwoPairs)),nnzTwoPairs))\n",
    "\t\n",
    "\t# constants\n",
    "\tzero, one = FqT.zero(), FqT.one()\n",
    "\t\n",
    "\t# dict-form of matrix of relations\n",
    "\tmatrix_dict = {}\n",
    "\tr = 0\n",
    "\tdef add_row(d): # `d` is a dict mapping twoPairs to matrix entries\n",
    "\t\tnonlocal r\n",
    "\t\tfor k,v in d.items():\n",
    "\t\t\tmatrix_dict[(r,to_idx_dict[k])] = v\n",
    "\t\tr += 1\n",
    "\t\n",
    "\t# scaling of left and right elements of product\n",
    "\tfor l in Fq:\n",
    "\t\tif l != zero and l != one:\n",
    "\t\t\tfor p1,p2 in nnzTwoPairs:\n",
    "\t\t\t\tlp1 = (l*p1[0], l*p1[1]) # l * p1\n",
    "\t\t\t\tadd_row({(lp1,p2): l, (p1,p2): -one})\n",
    "\t# print(r+1, \"scaling relations\")\n",
    "\t\n",
    "\t# swapping of elements of products of distinct elements\n",
    "\tfor p1,p2 in itertools.combinations(nnzPairs,2):\n",
    "\t\tadd_row({(p1,p2): one, (p2,p1): -one})\n",
    "\t# print(r+1, \"with swapping relations\")\n",
    "\t\n",
    "\t# relations arising from additivity of e_Lambda(z)\n",
    "\tfor pa,pb in nnzTwoPairs:\n",
    "\t\tpab = (pa[0]+pb[0], pa[1]+pb[1]) # pa + pb\n",
    "\t\tif pab == (zero, zero): continue\n",
    "\n",
    "\t\tif pa == pb:\n",
    "\t\t\tadd_row({(pa,pb): one, (pab,pb): -one-one})\n",
    "\t\telse:\n",
    "\t\t\tadd_row({(pa,pb): one, (pab,pb): -one, (pab,pa): -one})\n",
    "\t# print(r+1, \"with adding relations\")\n",
    "\t\n",
    "\t# linear relations arising from factorisation of `p`\n",
    "\tfor m in prime_factors(p):\n",
    "\t\tn = FqT(p/m)\n",
    "\t\tfor s in nonzeroPairs(n):\n",
    "\t\t\tfor k in nnzPairs:\n",
    "\t\t\t\td = {}\n",
    "\t\t\t\tfor t in pairsCongruentMod(s, n, p):\n",
    "\t\t\t\t\td[(t,k)] = one\n",
    "\t\t\t\n",
    "\t\t\t\tms = (m*s[0],m*s[1]) # m * s\n",
    "\t\t\t\tif (ms,k) in d.keys():\n",
    "\t\t\t\t\td[(ms,k)] = d[(ms,k)] - m\n",
    "\t\t\t\telse:\n",
    "\t\t\t\t\td[(ms,k)] = -m\n",
    "\t\t\t\n",
    "\t\t\t\tadd_row(d)\n",
    "\t# print(r+1, \"with linear factor relations\")\n",
    "\t\n",
    "\t# square quadratic relations arising from factorisation of `p`\n",
    "\tfor m in prime_factors(p):\n",
    "\t\tn = FqT(p/m)\n",
    "\t\tfor s in nonzeroPairs(n):\n",
    "\t\t\td = {}\n",
    "\t\t\tfor t in pairsCongruentMod(s, n, p):\n",
    "\t\t\t\td[(t,t)] = one\n",
    "\t\t\t\n",
    "\t\t\tms = (m*s[0],m*s[1]) # m * s\n",
    "\t\t\tif (ms,ms) in d.keys():\n",
    "\t\t\t\td[(ms,ms)] = d[(ms,ms)] - m^2\n",
    "\t\t\telse:\n",
    "\t\t\t\td[(ms,ms)] = -m^2\n",
    "\t\t\t\n",
    "\t\t\tadd_row(d)\n",
    "\n",
    "\t# other quadratic relations arising from factorisation of `p`, for `q = 2`\n",
    "\tif q == 2:\n",
    "\t\tfor m in prime_factors(p):\n",
    "\t\t\tn = FqT(p/m)\n",
    "\t\t\tfor s in nonzeroPairs(n):\n",
    "\t\t\t\td = {}\n",
    "\t\t\t\tfor t1,t2 in itertools.combinations(pairsCongruentMod(s, n, p), 2):\n",
    "\t\t\t\t\td[(t1,t2)] = one\n",
    "\t\t\t\t\n",
    "\t\t\t\tms = (m*s[0],m*s[1]) # m * s\n",
    "\t\t\t\tfor u in nonzeroPairs(m):\n",
    "\t\t\t\t\tnu = (n*u[0],n*u[1]) # n * u\n",
    "\t\t\t\t\tif (ms,nu) in d.keys():\n",
    "\t\t\t\t\t\td[(ms,nu)] = d[(ms,nu)] - m\n",
    "\t\t\t\t\telse:\n",
    "\t\t\t\t\t\td[(ms,nu)] = -m\n",
    "\t\t\t\t\n",
    "\t\t\t\tadd_row(d)\n",
    "\t\n",
    "\tnrows, ncols = r+1, len(nnzTwoPairs)\n",
    "\t# print(\"Matrix of relations dimensions:\", nrows, ncols)\n",
    "\tmat = matrix(FFqT, nrows, ncols, matrix_dict, sparse=True)\n",
    "\t# those which are not pivot columns of the echelonised form:\n",
    "\t# print(\"Calculating nonpivots:\")\n",
    "\tnon_pivots = mat.nonpivots()\n",
    "\tnon_pivot_twoPairs = [to_twoPair_dict[col] for col in non_pivots]\n",
    "\treturn non_pivot_twoPairs\n",
    "\n",
    "# reducedTwoPairs(T^2)"
   ]
  },
  {
   "cell_type": "markdown",
   "metadata": {},
   "source": [
    "## Drinfeld module functions"
   ]
  },
  {
   "cell_type": "markdown",
   "metadata": {},
   "source": [
    "### Frobenius endomorphism and ring of skew polynomials:"
   ]
  },
  {
   "cell_type": "code",
   "execution_count": 14,
   "metadata": {},
   "outputs": [],
   "source": [
    "frob = FqTX.hom([FqTX(T)^q,FqTX(X)^q])\n",
    "frob\n",
    "SkewTX.<tau> = FqTX['tau',frob]\n",
    "# SkewTX\n",
    "# phiaT = T +T*tau +tau^2; phiaT(T)"
   ]
  },
  {
   "cell_type": "markdown",
   "metadata": {},
   "source": [
    "### $\\varphi^{\\pi A}_p(x)$ for a polynomial $p \\in \\mathbb{F}_q[T]$, output in $\\mathbb{F}_q(T)[X]$:"
   ]
  },
  {
   "cell_type": "code",
   "execution_count": 15,
   "metadata": {},
   "outputs": [],
   "source": [
    "phi_hom = FqT.hom([T+tau],SkewTX)\n",
    "\n",
    "@cached_function\n",
    "def phiA(p):\n",
    "    return sep_TX(phi_hom(FqT(p)).operator_eval(X))\n",
    "\n",
    "# (phiA(T^2+T)/phiA(T+1)/phiA(T)*phiA(1))(1/X).parent()"
   ]
  },
  {
   "cell_type": "markdown",
   "metadata": {},
   "source": [
    "### Most primitive factor of $\\varphi_p^{\\pi A}(x)$, output in $\\mathbb{F}_q(T)[X]$:"
   ]
  },
  {
   "cell_type": "code",
   "execution_count": 16,
   "metadata": {},
   "outputs": [],
   "source": [
    "@cached_function\n",
    "def primPhiA(p):\n",
    "    p = FqT(p)\n",
    "    primes = list(prime_factors(p))\n",
    "    return FFqT_X(phiA_inclExcl_div(p,primes))\n",
    "\n",
    "def phiA_inclExcl_div(p,l):\n",
    "    if len(l) == 0:\n",
    "        return phiA(p)\n",
    "    else:\n",
    "        first, rest = l[0], l[1:]\n",
    "        num = phiA_inclExcl_div(p,rest)\n",
    "        denom = phiA_inclExcl_div(p/first,rest)\n",
    "        return num / denom\n",
    "\n",
    "# primPhiA(T^2+T) == phiA(T^2+T) / phiA(T+1) / phiA(T) * phiA(1)\n",
    "# primPhiA(T^2+T).parent()"
   ]
  },
  {
   "cell_type": "markdown",
   "metadata": {},
   "source": [
    "### $\\pi e_A \\left(\\frac{r}{N}\\right) = e_{\\pi a} \\left(\\frac{\\pi r}{N}\\right)$"
   ]
  },
  {
   "cell_type": "code",
   "execution_count": 17,
   "metadata": {},
   "outputs": [],
   "source": [
    "@cached_function\n",
    "def FqT_adj(N):\n",
    "    # ext = FFqT_X.quotient(primPhiA(N), 'e1')\n",
    "    why.<e> = FFqT[]\n",
    "    poly = primPhiA(N)(e)\n",
    "    ext.<e> = FFqT.extension(poly)\n",
    "    return ext, e\n",
    "\n",
    "# FqT_N, e = FqT_adj(T^2+T); FqT_N"
   ]
  },
  {
   "cell_type": "code",
   "execution_count": 18,
   "metadata": {},
   "outputs": [],
   "source": [
    "@cached_function\n",
    "def eA(r,N):\n",
    "    ext, e1 = FqT_adj(N)\n",
    "    return phiA(r % N)(e1)\n",
    "\n",
    "\n",
    "# eA(T^3+T^2-T, T^2+T)\n",
    "# eA(T^3+T^2-T, T^2+T).parent()"
   ]
  },
  {
   "cell_type": "markdown",
   "metadata": {},
   "source": [
    "## Expansions of Eisenstein series"
   ]
  },
  {
   "cell_type": "markdown",
   "metadata": {},
   "source": [
    "### Integrality factor"
   ]
  },
  {
   "cell_type": "code",
   "execution_count": 19,
   "metadata": {},
   "outputs": [],
   "source": [
    "@cached_function\n",
    "def int_factor(N):\n",
    "    return FqT(N).radical()\n",
    "\n",
    "# int_factor(T^2+T).parent()"
   ]
  },
  {
   "cell_type": "markdown",
   "metadata": {},
   "source": [
    "### Expansion of an Eisenstein series at $\\infty$"
   ]
  },
  {
   "cell_type": "code",
   "execution_count": 20,
   "metadata": {},
   "outputs": [],
   "source": [
    "# X-expansion of an Eisenstein series at infinity to order 'omax',\n",
    "# exclusive; currently only works if omax < |N|\n",
    "# 1 / (eA(r2,N) + phiA(r1,1/X))\n",
    "@cached_function\n",
    "def E2SeriesInfinity(r,omax,N):\n",
    "    r1,r2 = r\n",
    "    r1 %= N; r2 %= N\n",
    "    deg, lc = r1.degree(), r1.lc()\n",
    "\n",
    "    radical = int_factor(N)\n",
    "\n",
    "    if omax > qNorm(N):\n",
    "        print(\n",
    "            \"Warning: incomplete E-series expansion since omax,\"\n",
    "            f\"{omax}, is greater than the norm of N, {qNorm(N)}.\"\n",
    "        )\n",
    "    \n",
    "    if deg == -1: # r1 == 0 mod N\n",
    "        return radical / eA(r2,N)\n",
    "    else:\n",
    "        frac = 1 -X^(q^deg) * (eA(r2,N)+phiA(r1)(1/X)) / lc\n",
    "        # return from fraction field to polynomial ring\n",
    "        fracfield = frac.parent()\n",
    "        sect = fracfield.coerce_map_from(fracfield.ring()).section()\n",
    "        frac = sect(frac)\n",
    "        imax = omax - q^deg\n",
    "        inexp = 0\n",
    "        for i in range(imax+1):\n",
    "            inexp += frac^i\n",
    "        return radical * X^(q^deg) * inexp / lc +O(X^omax)\n",
    "\n",
    "# E2SeriesInfinity((1,T), 6, T^2)\n",
    "# E2SeriesInfinity((1,T), 6, T^2).parent()"
   ]
  },
  {
   "cell_type": "markdown",
   "metadata": {},
   "source": [
    "### Series expansion of a product of Eisenstein series at a cusp"
   ]
  },
  {
   "cell_type": "code",
   "execution_count": 21,
   "metadata": {},
   "outputs": [],
   "source": [
    "@cached_function\n",
    "def E2Series(r,biCusp,N):\n",
    "    ab,cd = biCusp; a,b = ab; c,d = cd\n",
    "    R = [((a*r1+c*r2) % N, (b*r1+d*r2) % N) for r1,r2 in r]\n",
    "    omax = (len(r) * qNorm(N) / (q+1) +1).floor()\n",
    "    p = product(E2SeriesInfinity(rbc,omax,N) for rbc in R) +O(X^omax)\n",
    "    return p\n",
    "\n",
    "def E2Series_list(r,biCusp,N,deg):\n",
    "    series = E2Series(r,biCusp,N)\n",
    "    l = series.list()\n",
    "    if len(l) >= deg:\n",
    "        return l[:deg]\n",
    "    else: # len(l) < deg\n",
    "        return l +[0]*(deg-len(l))\n",
    "\n",
    "# E2Series([(1,0),(T,2),(2,T+1)], ((0,1),(-1,0)), T^2+T)\n",
    "# E2Series_list(((1,0),(T,2),(2,T+1)), ((0,1),(-1,0)), T^2+T, 15)\n"
   ]
  },
  {
   "source": [
    "### Coefficients of a product of Eisenstein series at all cusps, flattened and ordered by the exponent of the parameter at $\\infty$"
   ],
   "cell_type": "markdown",
   "metadata": {}
  },
  {
   "cell_type": "code",
   "execution_count": 23,
   "metadata": {},
   "outputs": [],
   "source": [
    "def E2SeriesAllCusps(r, N, cutoff):\n",
    "    bcs = biCusps(N)\n",
    "    # cutoff for the expansion at each cusp\n",
    "    cusp_cut = ceil(cutoff/len(bcs))\n",
    "    # dict of series expansions at each cusp\n",
    "    all = {bc:E2Series_list(r,bc,N,cusp_cut) for bc in bcs}\n",
    "    # flatten lists of coefficients and order by index/exponent\n",
    "    out = [all[bc][i] for bc in bcs for i in range(cusp_cut)][:cutoff]\n",
    "    return out"
   ]
  },
  {
   "cell_type": "markdown",
   "metadata": {},
   "source": [
    "# Rank function"
   ]
  },
  {
   "cell_type": "code",
   "execution_count": 42,
   "metadata": {},
   "outputs": [],
   "source": [
    "import time\n",
    "import datetime\n",
    "\n",
    "def printTemp(*args):\n",
    "    print(\"\\r\", *args, end='')\n",
    "\n",
    "def stats(N):\n",
    "    start = time.time()\n",
    "\n",
    "    N = FqT(N)\n",
    "    printTemp(\"Beginning calculation of statistics for\", N)\n",
    "\n",
    "    printTemp(\"Forming set of Eisenstein pairs\")\n",
    "    redTwoPairs = reducedTwoPairs(N)\n",
    "\n",
    "    printTemp(\"Calculating t-expansions of Eisenstein pairs\")\n",
    "    cutoff = 2 * qNorm(N) * EulerPhi(2,N) / (q^2-1)\n",
    "    cuts = [E2SeriesAllCusps(r, N, cutoff) for r in redTwoPairs]\n",
    "    printTemp(\"Creating final matrix of coefficients\")\n",
    "    mat = matrix(cuts)\n",
    "    r, c = mat.nrows(), mat.ncols()\n",
    "    printTemp(f\"Matrix has dimensions {r}×{c}\")\n",
    "\n",
    "    rank2 = qNorm(N) * EulerPhi(2,N) / (q^2-1) + EulerPhi(2,N) / (q-1)\n",
    "    printTemp(f\"Rank of all weight 2 modular forms is {rank2}\\n\")\n",
    "\n",
    "    printTemp(\"Calculating rank of the matrix of coefficients,\",\n",
    "              f\"with {mat.nrows()} rows and {mat.ncols()} columns\")\n",
    "    E2rank = mat.rank()\n",
    "    printTemp(f\"Rank of matrix is {E2rank}\\n\")\n",
    "\n",
    "    n_nnz = sum(map(\n",
    "        lambda row: sum(map(lambda entry: entry != 0, row)),\n",
    "        mat\n",
    "    ))\n",
    "    n_mat = mat.nrows() * mat.ncols()\n",
    "\n",
    "    end = time.time()\n",
    "\n",
    "\n",
    "    return {\n",
    "        \"q\": q,\n",
    "        \"N\": N,\n",
    "        \"N, factored\": N.factor(),\n",
    "        \"number of cusps\": len(biCusps(N)),\n",
    "        \"finalMatrix\": mat,\n",
    "        \"number of nonzero entries\": n_nnz,\n",
    "        \"fraction of nonzero entries\": n_nnz / n_mat,\n",
    "        \"rank\": E2rank,\n",
    "        \"full rank of weight 2 D-modular forms\": rank,\n",
    "        \"time taken\": str(datetime.timedelta(seconds=end-start))\n",
    "    }"
   ]
  },
  {
   "cell_type": "markdown",
   "metadata": {},
   "source": [
    "# Rank Results"
   ]
  },
  {
   "cell_type": "markdown",
   "metadata": {},
   "source": [
    "## $q = 2$, $\\deg N = 2$"
   ]
  },
  {
   "cell_type": "code",
   "execution_count": 43,
   "metadata": {},
   "outputs": [
    {
     "output_type": "stream",
     "name": "stdout",
     "text": [
      " Rank of all weight 2 modular forms is 28\n",
      " Rank of matrix is 27\n"
     ]
    },
    {
     "output_type": "execute_result",
     "data": {
      "text/plain": [
       "{'q': 2,\n",
       " 'N': T^2,\n",
       " 'N, factored': T^2,\n",
       " 'number of cusps': 12,\n",
       " 'finalMatrix': 44 x 32 dense matrix over Function field in e defined by e^2 + T*e + T,\n",
       " 'number of nonzero entries': 221,\n",
       " 'fraction of nonzero entries': 0.15696022727272727,\n",
       " 'rank': 27,\n",
       " 'full rank of weight 2 D-modular forms': <function rank at 0x7f61830a38b0>,\n",
       " 'time taken': '0:00:00.790165'}"
      ]
     },
     "metadata": {},
     "execution_count": 43
    }
   ],
   "source": [
    "stats(T^2)"
   ]
  },
  {
   "cell_type": "code",
   "execution_count": 44,
   "metadata": {},
   "outputs": [
    {
     "output_type": "stream",
     "name": "stdout",
     "text": [
      " Rank of all weight 2 modular forms is 21\n",
      " Rank of matrix is 15\n"
     ]
    },
    {
     "output_type": "execute_result",
     "data": {
      "text/plain": [
       "{'q': 2,\n",
       " 'N': T^2 + T,\n",
       " 'N, factored': T * (T + 1),\n",
       " 'number of cusps': 9,\n",
       " 'finalMatrix': 21 x 24 dense matrix over Function field in e defined by e + 1,\n",
       " 'number of nonzero entries': 71,\n",
       " 'fraction of nonzero entries': 0.14087301587301587,\n",
       " 'rank': 15,\n",
       " 'full rank of weight 2 D-modular forms': <function rank at 0x7f61830a38b0>,\n",
       " 'time taken': '0:00:01.335028'}"
      ]
     },
     "metadata": {},
     "execution_count": 44
    }
   ],
   "source": [
    "stats(T^2+T)"
   ]
  },
  {
   "cell_type": "markdown",
   "metadata": {},
   "source": [
    "## $q = 2$, $\\deg N = 3$"
   ]
  },
  {
   "cell_type": "code",
   "execution_count": 28,
   "metadata": {},
   "outputs": [
    {
     "output_type": "stream",
     "name": "stdout",
     "text": [
      "Rank of all weight 2 modular forms is 176\n",
      "Calculating rank of the matrix of coefficients, with 560 rows and 256 columns"
     ]
    },
    {
     "output_type": "error",
     "ename": "KeyboardInterrupt",
     "evalue": "",
     "traceback": [
      "\u001b[0;31m---------------------------------------------------------------------------\u001b[0m",
      "\u001b[0;31mKeyboardInterrupt\u001b[0m                         Traceback (most recent call last)",
      "\u001b[0;32m<ipython-input-28-f8db40d310ce>\u001b[0m in \u001b[0;36m<module>\u001b[0;34m\u001b[0m\n\u001b[0;32m----> 1\u001b[0;31m \u001b[0mstats\u001b[0m\u001b[0;34m(\u001b[0m\u001b[0mT\u001b[0m\u001b[0;34m**\u001b[0m\u001b[0mInteger\u001b[0m\u001b[0;34m(\u001b[0m\u001b[0;36m3\u001b[0m\u001b[0;34m)\u001b[0m\u001b[0;34m)\u001b[0m\u001b[0;34m\u001b[0m\u001b[0;34m\u001b[0m\u001b[0m\n\u001b[0m",
      "\u001b[0;32m<ipython-input-24-9a995398620a>\u001b[0m in \u001b[0;36mstats\u001b[0;34m(N)\u001b[0m\n\u001b[1;32m     39\u001b[0m     printTemp(\"Calculating rank of the matrix of coefficients, \",\n\u001b[1;32m     40\u001b[0m               f\"with {mat.nrows()} rows and {mat.ncols()} columns\")\n\u001b[0;32m---> 41\u001b[0;31m     \u001b[0mrank\u001b[0m \u001b[0;34m=\u001b[0m \u001b[0mmat\u001b[0m\u001b[0;34m.\u001b[0m\u001b[0mrank\u001b[0m\u001b[0;34m(\u001b[0m\u001b[0;34m)\u001b[0m\u001b[0;34m\u001b[0m\u001b[0;34m\u001b[0m\u001b[0m\n\u001b[0m\u001b[1;32m     42\u001b[0m     \u001b[0mprintTemp\u001b[0m\u001b[0;34m(\u001b[0m\u001b[0;34mf\"Rank of matrix is {rank}\\n\"\u001b[0m\u001b[0;34m)\u001b[0m\u001b[0;34m\u001b[0m\u001b[0;34m\u001b[0m\u001b[0m\n\u001b[1;32m     43\u001b[0m \u001b[0;34m\u001b[0m\u001b[0m\n",
      "\u001b[0;32m/usr/lib/python3/dist-packages/sage/matrix/matrix0.pyx\u001b[0m in \u001b[0;36msage.matrix.matrix0.Matrix.rank (build/cythonized/sage/matrix/matrix0.c:29036)\u001b[0;34m()\u001b[0m\n\u001b[1;32m   4342\u001b[0m         \u001b[0;32mif\u001b[0m \u001b[0mself\u001b[0m\u001b[0;34m.\u001b[0m\u001b[0m_nrows\u001b[0m \u001b[0;34m==\u001b[0m \u001b[0;36m0\u001b[0m \u001b[0;32mor\u001b[0m \u001b[0mself\u001b[0m\u001b[0;34m.\u001b[0m\u001b[0m_ncols\u001b[0m \u001b[0;34m==\u001b[0m \u001b[0;36m0\u001b[0m\u001b[0;34m:\u001b[0m\u001b[0;34m\u001b[0m\u001b[0;34m\u001b[0m\u001b[0m\n\u001b[1;32m   4343\u001b[0m             \u001b[0;32mreturn\u001b[0m \u001b[0;36m0\u001b[0m\u001b[0;34m\u001b[0m\u001b[0;34m\u001b[0m\u001b[0m\n\u001b[0;32m-> 4344\u001b[0;31m         \u001b[0mr\u001b[0m \u001b[0;34m=\u001b[0m \u001b[0mlen\u001b[0m\u001b[0;34m(\u001b[0m\u001b[0mself\u001b[0m\u001b[0;34m.\u001b[0m\u001b[0mpivots\u001b[0m\u001b[0;34m(\u001b[0m\u001b[0;34m)\u001b[0m\u001b[0;34m)\u001b[0m\u001b[0;34m\u001b[0m\u001b[0;34m\u001b[0m\u001b[0m\n\u001b[0m\u001b[1;32m   4345\u001b[0m         \u001b[0mself\u001b[0m\u001b[0;34m.\u001b[0m\u001b[0mcache\u001b[0m\u001b[0;34m(\u001b[0m\u001b[0;34m'rank'\u001b[0m\u001b[0;34m,\u001b[0m \u001b[0mr\u001b[0m\u001b[0;34m)\u001b[0m\u001b[0;34m\u001b[0m\u001b[0;34m\u001b[0m\u001b[0m\n\u001b[1;32m   4346\u001b[0m         \u001b[0;32mreturn\u001b[0m \u001b[0mr\u001b[0m\u001b[0;34m\u001b[0m\u001b[0;34m\u001b[0m\u001b[0m\n",
      "\u001b[0;32m/usr/lib/python3/dist-packages/sage/matrix/matrix0.pyx\u001b[0m in \u001b[0;36msage.matrix.matrix0.Matrix.pivots (build/cythonized/sage/matrix/matrix0.c:28737)\u001b[0;34m()\u001b[0m\n\u001b[1;32m   4299\u001b[0m         \u001b[0mx\u001b[0m \u001b[0;34m=\u001b[0m \u001b[0mself\u001b[0m\u001b[0;34m.\u001b[0m\u001b[0mfetch\u001b[0m\u001b[0;34m(\u001b[0m\u001b[0;34m'pivots'\u001b[0m\u001b[0;34m)\u001b[0m\u001b[0;34m\u001b[0m\u001b[0;34m\u001b[0m\u001b[0m\n\u001b[1;32m   4300\u001b[0m         \u001b[0;32mif\u001b[0m \u001b[0;32mnot\u001b[0m \u001b[0mx\u001b[0m \u001b[0;32mis\u001b[0m \u001b[0;32mNone\u001b[0m\u001b[0;34m:\u001b[0m \u001b[0;32mreturn\u001b[0m \u001b[0mtuple\u001b[0m\u001b[0;34m(\u001b[0m\u001b[0mx\u001b[0m\u001b[0;34m)\u001b[0m\u001b[0;34m\u001b[0m\u001b[0;34m\u001b[0m\u001b[0m\n\u001b[0;32m-> 4301\u001b[0;31m         \u001b[0mself\u001b[0m\u001b[0;34m.\u001b[0m\u001b[0mechelon_form\u001b[0m\u001b[0;34m(\u001b[0m\u001b[0;34m)\u001b[0m\u001b[0;34m\u001b[0m\u001b[0;34m\u001b[0m\u001b[0m\n\u001b[0m\u001b[1;32m   4302\u001b[0m         \u001b[0mx\u001b[0m \u001b[0;34m=\u001b[0m \u001b[0mself\u001b[0m\u001b[0;34m.\u001b[0m\u001b[0mfetch\u001b[0m\u001b[0;34m(\u001b[0m\u001b[0;34m'pivots'\u001b[0m\u001b[0;34m)\u001b[0m\u001b[0;34m\u001b[0m\u001b[0;34m\u001b[0m\u001b[0m\n\u001b[1;32m   4303\u001b[0m         \u001b[0;32mif\u001b[0m \u001b[0mx\u001b[0m \u001b[0;32mis\u001b[0m \u001b[0;32mNone\u001b[0m\u001b[0;34m:\u001b[0m\u001b[0;34m\u001b[0m\u001b[0;34m\u001b[0m\u001b[0m\n",
      "\u001b[0;32m/usr/lib/python3/dist-packages/sage/matrix/matrix2.pyx\u001b[0m in \u001b[0;36msage.matrix.matrix2.Matrix.echelon_form (build/cythonized/sage/matrix/matrix2.c:49384)\u001b[0;34m()\u001b[0m\n\u001b[1;32m   6845\u001b[0m         \u001b[0mE\u001b[0m \u001b[0;34m=\u001b[0m \u001b[0mself\u001b[0m\u001b[0;34m.\u001b[0m\u001b[0m__copy__\u001b[0m\u001b[0;34m(\u001b[0m\u001b[0;34m)\u001b[0m\u001b[0;34m\u001b[0m\u001b[0;34m\u001b[0m\u001b[0m\n\u001b[1;32m   6846\u001b[0m         \u001b[0;32mif\u001b[0m \u001b[0malgorithm\u001b[0m \u001b[0;34m==\u001b[0m \u001b[0;34m'default'\u001b[0m\u001b[0;34m:\u001b[0m\u001b[0;34m\u001b[0m\u001b[0;34m\u001b[0m\u001b[0m\n\u001b[0;32m-> 6847\u001b[0;31m             \u001b[0mv\u001b[0m \u001b[0;34m=\u001b[0m \u001b[0mE\u001b[0m\u001b[0;34m.\u001b[0m\u001b[0mechelonize\u001b[0m\u001b[0;34m(\u001b[0m\u001b[0mcutoff\u001b[0m\u001b[0;34m=\u001b[0m\u001b[0mcutoff\u001b[0m\u001b[0;34m,\u001b[0m \u001b[0;34m**\u001b[0m\u001b[0mkwds\u001b[0m\u001b[0;34m)\u001b[0m\u001b[0;34m\u001b[0m\u001b[0;34m\u001b[0m\u001b[0m\n\u001b[0m\u001b[1;32m   6848\u001b[0m         \u001b[0;32melse\u001b[0m\u001b[0;34m:\u001b[0m\u001b[0;34m\u001b[0m\u001b[0;34m\u001b[0m\u001b[0m\n\u001b[1;32m   6849\u001b[0m             \u001b[0mv\u001b[0m \u001b[0;34m=\u001b[0m \u001b[0mE\u001b[0m\u001b[0;34m.\u001b[0m\u001b[0mechelonize\u001b[0m\u001b[0;34m(\u001b[0m\u001b[0malgorithm\u001b[0m \u001b[0;34m=\u001b[0m \u001b[0malgorithm\u001b[0m\u001b[0;34m,\u001b[0m \u001b[0mcutoff\u001b[0m\u001b[0;34m=\u001b[0m\u001b[0mcutoff\u001b[0m\u001b[0;34m,\u001b[0m \u001b[0;34m**\u001b[0m\u001b[0mkwds\u001b[0m\u001b[0;34m)\u001b[0m\u001b[0;34m\u001b[0m\u001b[0;34m\u001b[0m\u001b[0m\n",
      "\u001b[0;32m/usr/lib/python3/dist-packages/sage/matrix/matrix2.pyx\u001b[0m in \u001b[0;36msage.matrix.matrix2.Matrix.echelonize (build/cythonized/sage/matrix/matrix2.c:48770)\u001b[0;34m()\u001b[0m\n\u001b[1;32m   6742\u001b[0m             \u001b[0;32mif\u001b[0m \u001b[0mself\u001b[0m\u001b[0;34m.\u001b[0m\u001b[0mbase_ring\u001b[0m\u001b[0;34m(\u001b[0m\u001b[0;34m)\u001b[0m \u001b[0;32min\u001b[0m \u001b[0m_Fields\u001b[0m\u001b[0;34m:\u001b[0m\u001b[0;34m\u001b[0m\u001b[0;34m\u001b[0m\u001b[0m\n\u001b[1;32m   6743\u001b[0m                 \u001b[0;32mif\u001b[0m \u001b[0malgorithm\u001b[0m \u001b[0;32min\u001b[0m \u001b[0;34m[\u001b[0m\u001b[0;34m'classical'\u001b[0m\u001b[0;34m,\u001b[0m \u001b[0;34m'partial_pivoting'\u001b[0m\u001b[0;34m,\u001b[0m \u001b[0;34m'scaled_partial_pivoting'\u001b[0m\u001b[0;34m,\u001b[0m \u001b[0;34m'scaled_partial_pivoting_valuation'\u001b[0m\u001b[0;34m]\u001b[0m\u001b[0;34m:\u001b[0m\u001b[0;34m\u001b[0m\u001b[0;34m\u001b[0m\u001b[0m\n\u001b[0;32m-> 6744\u001b[0;31m                     \u001b[0mself\u001b[0m\u001b[0;34m.\u001b[0m\u001b[0m_echelon_in_place\u001b[0m\u001b[0;34m(\u001b[0m\u001b[0malgorithm\u001b[0m\u001b[0;34m)\u001b[0m\u001b[0;34m\u001b[0m\u001b[0;34m\u001b[0m\u001b[0m\n\u001b[0m\u001b[1;32m   6745\u001b[0m                 \u001b[0;32melif\u001b[0m \u001b[0malgorithm\u001b[0m \u001b[0;34m==\u001b[0m \u001b[0;34m'strassen'\u001b[0m\u001b[0;34m:\u001b[0m\u001b[0;34m\u001b[0m\u001b[0;34m\u001b[0m\u001b[0m\n\u001b[1;32m   6746\u001b[0m                     \u001b[0mself\u001b[0m\u001b[0;34m.\u001b[0m\u001b[0m_echelon_strassen\u001b[0m\u001b[0;34m(\u001b[0m\u001b[0mcutoff\u001b[0m\u001b[0;34m)\u001b[0m\u001b[0;34m\u001b[0m\u001b[0;34m\u001b[0m\u001b[0m\n",
      "\u001b[0;32m/usr/lib/python3/dist-packages/sage/matrix/matrix2.pyx\u001b[0m in \u001b[0;36msage.matrix.matrix2.Matrix._echelon_in_place (build/cythonized/sage/matrix/matrix2.c:50516)\u001b[0;34m()\u001b[0m\n\u001b[1;32m   7016\u001b[0m                                 \u001b[0;32mif\u001b[0m \u001b[0mA\u001b[0m\u001b[0;34m.\u001b[0m\u001b[0mget_unsafe\u001b[0m\u001b[0;34m(\u001b[0m\u001b[0mi\u001b[0m\u001b[0;34m,\u001b[0m \u001b[0mc\u001b[0m\u001b[0;34m)\u001b[0m\u001b[0;34m:\u001b[0m\u001b[0;34m\u001b[0m\u001b[0;34m\u001b[0m\u001b[0m\n\u001b[1;32m   7017\u001b[0m                                     \u001b[0mminus_b\u001b[0m \u001b[0;34m=\u001b[0m \u001b[0;34m-\u001b[0m\u001b[0mA\u001b[0m\u001b[0;34m.\u001b[0m\u001b[0mget_unsafe\u001b[0m\u001b[0;34m(\u001b[0m\u001b[0mi\u001b[0m\u001b[0;34m,\u001b[0m \u001b[0mc\u001b[0m\u001b[0;34m)\u001b[0m\u001b[0;34m\u001b[0m\u001b[0;34m\u001b[0m\u001b[0m\n\u001b[0;32m-> 7018\u001b[0;31m                                     \u001b[0mA\u001b[0m\u001b[0;34m.\u001b[0m\u001b[0madd_multiple_of_row\u001b[0m\u001b[0;34m(\u001b[0m\u001b[0mi\u001b[0m\u001b[0;34m,\u001b[0m \u001b[0mstart_row\u001b[0m\u001b[0;34m,\u001b[0m \u001b[0mminus_b\u001b[0m\u001b[0;34m,\u001b[0m \u001b[0mc\u001b[0m\u001b[0;34m)\u001b[0m\u001b[0;34m\u001b[0m\u001b[0;34m\u001b[0m\u001b[0m\n\u001b[0m\u001b[1;32m   7019\u001b[0m                         \u001b[0mstart_row\u001b[0m \u001b[0;34m=\u001b[0m \u001b[0mstart_row\u001b[0m \u001b[0;34m+\u001b[0m \u001b[0;36m1\u001b[0m\u001b[0;34m\u001b[0m\u001b[0;34m\u001b[0m\u001b[0m\n\u001b[1;32m   7020\u001b[0m                         \u001b[0;32mbreak\u001b[0m\u001b[0;34m\u001b[0m\u001b[0;34m\u001b[0m\u001b[0m\n",
      "\u001b[0;32m/usr/lib/python3/dist-packages/sage/matrix/matrix0.pyx\u001b[0m in \u001b[0;36msage.matrix.matrix0.Matrix.add_multiple_of_row (build/cythonized/sage/matrix/matrix0.c:19394)\u001b[0;34m()\u001b[0m\n\u001b[1;32m   2805\u001b[0m         \u001b[0;32mtry\u001b[0m\u001b[0;34m:\u001b[0m\u001b[0;34m\u001b[0m\u001b[0;34m\u001b[0m\u001b[0m\n\u001b[1;32m   2806\u001b[0m             \u001b[0ms\u001b[0m \u001b[0;34m=\u001b[0m \u001b[0mself\u001b[0m\u001b[0;34m.\u001b[0m\u001b[0m_coerce_element\u001b[0m\u001b[0;34m(\u001b[0m\u001b[0ms\u001b[0m\u001b[0;34m)\u001b[0m\u001b[0;34m\u001b[0m\u001b[0;34m\u001b[0m\u001b[0m\n\u001b[0;32m-> 2807\u001b[0;31m             \u001b[0mself\u001b[0m\u001b[0;34m.\u001b[0m\u001b[0madd_multiple_of_row_c\u001b[0m\u001b[0;34m(\u001b[0m\u001b[0mi\u001b[0m\u001b[0;34m,\u001b[0m \u001b[0mj\u001b[0m\u001b[0;34m,\u001b[0m \u001b[0ms\u001b[0m\u001b[0;34m,\u001b[0m \u001b[0mstart_col\u001b[0m\u001b[0;34m)\u001b[0m\u001b[0;34m\u001b[0m\u001b[0;34m\u001b[0m\u001b[0m\n\u001b[0m\u001b[1;32m   2808\u001b[0m         \u001b[0;32mexcept\u001b[0m \u001b[0mTypeError\u001b[0m\u001b[0;34m:\u001b[0m\u001b[0;34m\u001b[0m\u001b[0;34m\u001b[0m\u001b[0m\n\u001b[1;32m   2809\u001b[0m             \u001b[0;32mraise\u001b[0m \u001b[0mTypeError\u001b[0m\u001b[0;34m(\u001b[0m\u001b[0;34m'Multiplying row by %s element cannot be done over %s, use change_ring or with_added_multiple_of_row instead.'\u001b[0m \u001b[0;34m%\u001b[0m \u001b[0;34m(\u001b[0m\u001b[0ms\u001b[0m\u001b[0;34m.\u001b[0m\u001b[0mparent\u001b[0m\u001b[0;34m(\u001b[0m\u001b[0;34m)\u001b[0m\u001b[0;34m,\u001b[0m \u001b[0mself\u001b[0m\u001b[0;34m.\u001b[0m\u001b[0mbase_ring\u001b[0m\u001b[0;34m(\u001b[0m\u001b[0;34m)\u001b[0m\u001b[0;34m)\u001b[0m\u001b[0;34m)\u001b[0m\u001b[0;34m\u001b[0m\u001b[0;34m\u001b[0m\u001b[0m\n",
      "\u001b[0;32m/usr/lib/python3/dist-packages/sage/matrix/matrix0.pyx\u001b[0m in \u001b[0;36msage.matrix.matrix0.Matrix.add_multiple_of_row_c (build/cythonized/sage/matrix/matrix0.c:19572)\u001b[0;34m()\u001b[0m\n\u001b[1;32m   2812\u001b[0m         \u001b[0mcdef\u001b[0m \u001b[0mPy_ssize_t\u001b[0m \u001b[0mc\u001b[0m\u001b[0;34m\u001b[0m\u001b[0;34m\u001b[0m\u001b[0m\n\u001b[1;32m   2813\u001b[0m         \u001b[0;32mfor\u001b[0m \u001b[0mc\u001b[0m \u001b[0;32mfrom\u001b[0m \u001b[0mstart_col\u001b[0m \u001b[0;34m<=\u001b[0m \u001b[0mc\u001b[0m \u001b[0;34m<\u001b[0m \u001b[0mself\u001b[0m\u001b[0;34m.\u001b[0m\u001b[0m_ncols\u001b[0m\u001b[0;34m:\u001b[0m\u001b[0;34m\u001b[0m\u001b[0;34m\u001b[0m\u001b[0m\n\u001b[0;32m-> 2814\u001b[0;31m             \u001b[0mself\u001b[0m\u001b[0;34m.\u001b[0m\u001b[0mset_unsafe\u001b[0m\u001b[0;34m(\u001b[0m\u001b[0mi\u001b[0m\u001b[0;34m,\u001b[0m \u001b[0mc\u001b[0m\u001b[0;34m,\u001b[0m \u001b[0mself\u001b[0m\u001b[0;34m.\u001b[0m\u001b[0mget_unsafe\u001b[0m\u001b[0;34m(\u001b[0m\u001b[0mi\u001b[0m\u001b[0;34m,\u001b[0m \u001b[0mc\u001b[0m\u001b[0;34m)\u001b[0m \u001b[0;34m+\u001b[0m \u001b[0ms\u001b[0m\u001b[0;34m*\u001b[0m\u001b[0mself\u001b[0m\u001b[0;34m.\u001b[0m\u001b[0mget_unsafe\u001b[0m\u001b[0;34m(\u001b[0m\u001b[0mj\u001b[0m\u001b[0;34m,\u001b[0m \u001b[0mc\u001b[0m\u001b[0;34m)\u001b[0m\u001b[0;34m)\u001b[0m\u001b[0;34m\u001b[0m\u001b[0;34m\u001b[0m\u001b[0m\n\u001b[0m\u001b[1;32m   2815\u001b[0m \u001b[0;34m\u001b[0m\u001b[0m\n\u001b[1;32m   2816\u001b[0m     \u001b[0;32mdef\u001b[0m \u001b[0mwith_added_multiple_of_row\u001b[0m\u001b[0;34m(\u001b[0m\u001b[0mself\u001b[0m\u001b[0;34m,\u001b[0m \u001b[0mPy_ssize_t\u001b[0m \u001b[0mi\u001b[0m\u001b[0;34m,\u001b[0m \u001b[0mPy_ssize_t\u001b[0m \u001b[0mj\u001b[0m\u001b[0;34m,\u001b[0m    \u001b[0ms\u001b[0m\u001b[0;34m,\u001b[0m   \u001b[0mPy_ssize_t\u001b[0m \u001b[0mstart_col\u001b[0m\u001b[0;34m=\u001b[0m\u001b[0;36m0\u001b[0m\u001b[0;34m)\u001b[0m\u001b[0;34m:\u001b[0m\u001b[0;34m\u001b[0m\u001b[0;34m\u001b[0m\u001b[0m\n",
      "\u001b[0;32m/usr/lib/python3/dist-packages/sage/structure/element.pyx\u001b[0m in \u001b[0;36msage.structure.element.Element.__mul__ (build/cythonized/sage/structure/element.c:11993)\u001b[0;34m()\u001b[0m\n\u001b[1;32m   1513\u001b[0m         \u001b[0mcdef\u001b[0m \u001b[0mint\u001b[0m \u001b[0mcl\u001b[0m \u001b[0;34m=\u001b[0m \u001b[0mclassify_elements\u001b[0m\u001b[0;34m(\u001b[0m\u001b[0mleft\u001b[0m\u001b[0;34m,\u001b[0m \u001b[0mright\u001b[0m\u001b[0;34m)\u001b[0m\u001b[0;34m\u001b[0m\u001b[0;34m\u001b[0m\u001b[0m\n\u001b[1;32m   1514\u001b[0m         \u001b[0;32mif\u001b[0m \u001b[0mHAVE_SAME_PARENT\u001b[0m\u001b[0;34m(\u001b[0m\u001b[0mcl\u001b[0m\u001b[0;34m)\u001b[0m\u001b[0;34m:\u001b[0m\u001b[0;34m\u001b[0m\u001b[0;34m\u001b[0m\u001b[0m\n\u001b[0;32m-> 1515\u001b[0;31m             \u001b[0;32mreturn\u001b[0m \u001b[0;34m(\u001b[0m\u001b[0;34m<\u001b[0m\u001b[0mElement\u001b[0m\u001b[0;34m>\u001b[0m\u001b[0mleft\u001b[0m\u001b[0;34m)\u001b[0m\u001b[0;34m.\u001b[0m\u001b[0m_mul_\u001b[0m\u001b[0;34m(\u001b[0m\u001b[0mright\u001b[0m\u001b[0;34m)\u001b[0m\u001b[0;34m\u001b[0m\u001b[0;34m\u001b[0m\u001b[0m\n\u001b[0m\u001b[1;32m   1516\u001b[0m         \u001b[0;32mif\u001b[0m \u001b[0mBOTH_ARE_ELEMENT\u001b[0m\u001b[0;34m(\u001b[0m\u001b[0mcl\u001b[0m\u001b[0;34m)\u001b[0m\u001b[0;34m:\u001b[0m\u001b[0;34m\u001b[0m\u001b[0;34m\u001b[0m\u001b[0m\n\u001b[1;32m   1517\u001b[0m             \u001b[0;32mreturn\u001b[0m \u001b[0mcoercion_model\u001b[0m\u001b[0;34m.\u001b[0m\u001b[0mbin_op\u001b[0m\u001b[0;34m(\u001b[0m\u001b[0mleft\u001b[0m\u001b[0;34m,\u001b[0m \u001b[0mright\u001b[0m\u001b[0;34m,\u001b[0m \u001b[0mmul\u001b[0m\u001b[0;34m)\u001b[0m\u001b[0;34m\u001b[0m\u001b[0;34m\u001b[0m\u001b[0m\n",
      "\u001b[0;32m/usr/lib/python3/dist-packages/sage/rings/function_field/element.pyx\u001b[0m in \u001b[0;36msage.rings.function_field.element.FunctionFieldElement_polymod._mul_ (build/cythonized/sage/rings/function_field/element.c:7980)\u001b[0;34m()\u001b[0m\n\u001b[1;32m    790\u001b[0m         \"\"\"\n\u001b[1;32m    791\u001b[0m         \u001b[0mcdef\u001b[0m \u001b[0mFunctionFieldElement\u001b[0m \u001b[0mres\u001b[0m \u001b[0;34m=\u001b[0m \u001b[0mself\u001b[0m\u001b[0;34m.\u001b[0m\u001b[0m_new_c\u001b[0m\u001b[0;34m(\u001b[0m\u001b[0;34m)\u001b[0m\u001b[0;34m\u001b[0m\u001b[0;34m\u001b[0m\u001b[0m\n\u001b[0;32m--> 792\u001b[0;31m         \u001b[0mres\u001b[0m\u001b[0;34m.\u001b[0m\u001b[0m_x\u001b[0m \u001b[0;34m=\u001b[0m \u001b[0;34m(\u001b[0m\u001b[0mself\u001b[0m\u001b[0;34m.\u001b[0m\u001b[0m_x\u001b[0m \u001b[0;34m*\u001b[0m \u001b[0;34m(\u001b[0m\u001b[0;34m<\u001b[0m\u001b[0mFunctionFieldElement\u001b[0m\u001b[0;34m>\u001b[0m\u001b[0mright\u001b[0m\u001b[0;34m)\u001b[0m\u001b[0;34m.\u001b[0m\u001b[0m_x\u001b[0m\u001b[0;34m)\u001b[0m \u001b[0;34m%\u001b[0m \u001b[0mself\u001b[0m\u001b[0;34m.\u001b[0m\u001b[0m_parent\u001b[0m\u001b[0;34m.\u001b[0m\u001b[0mpolynomial\u001b[0m\u001b[0;34m(\u001b[0m\u001b[0;34m)\u001b[0m\u001b[0;34m\u001b[0m\u001b[0;34m\u001b[0m\u001b[0m\n\u001b[0m\u001b[1;32m    793\u001b[0m         \u001b[0;32mreturn\u001b[0m \u001b[0mres\u001b[0m\u001b[0;34m\u001b[0m\u001b[0;34m\u001b[0m\u001b[0m\n\u001b[1;32m    794\u001b[0m \u001b[0;34m\u001b[0m\u001b[0m\n",
      "\u001b[0;32m/usr/lib/python3/dist-packages/sage/structure/element.pyx\u001b[0m in \u001b[0;36msage.structure.element.Element.__mul__ (build/cythonized/sage/structure/element.c:11993)\u001b[0;34m()\u001b[0m\n\u001b[1;32m   1513\u001b[0m         \u001b[0mcdef\u001b[0m \u001b[0mint\u001b[0m \u001b[0mcl\u001b[0m \u001b[0;34m=\u001b[0m \u001b[0mclassify_elements\u001b[0m\u001b[0;34m(\u001b[0m\u001b[0mleft\u001b[0m\u001b[0;34m,\u001b[0m \u001b[0mright\u001b[0m\u001b[0;34m)\u001b[0m\u001b[0;34m\u001b[0m\u001b[0;34m\u001b[0m\u001b[0m\n\u001b[1;32m   1514\u001b[0m         \u001b[0;32mif\u001b[0m \u001b[0mHAVE_SAME_PARENT\u001b[0m\u001b[0;34m(\u001b[0m\u001b[0mcl\u001b[0m\u001b[0;34m)\u001b[0m\u001b[0;34m:\u001b[0m\u001b[0;34m\u001b[0m\u001b[0;34m\u001b[0m\u001b[0m\n\u001b[0;32m-> 1515\u001b[0;31m             \u001b[0;32mreturn\u001b[0m \u001b[0;34m(\u001b[0m\u001b[0;34m<\u001b[0m\u001b[0mElement\u001b[0m\u001b[0;34m>\u001b[0m\u001b[0mleft\u001b[0m\u001b[0;34m)\u001b[0m\u001b[0;34m.\u001b[0m\u001b[0m_mul_\u001b[0m\u001b[0;34m(\u001b[0m\u001b[0mright\u001b[0m\u001b[0;34m)\u001b[0m\u001b[0;34m\u001b[0m\u001b[0;34m\u001b[0m\u001b[0m\n\u001b[0m\u001b[1;32m   1516\u001b[0m         \u001b[0;32mif\u001b[0m \u001b[0mBOTH_ARE_ELEMENT\u001b[0m\u001b[0;34m(\u001b[0m\u001b[0mcl\u001b[0m\u001b[0;34m)\u001b[0m\u001b[0;34m:\u001b[0m\u001b[0;34m\u001b[0m\u001b[0;34m\u001b[0m\u001b[0m\n\u001b[1;32m   1517\u001b[0m             \u001b[0;32mreturn\u001b[0m \u001b[0mcoercion_model\u001b[0m\u001b[0;34m.\u001b[0m\u001b[0mbin_op\u001b[0m\u001b[0;34m(\u001b[0m\u001b[0mleft\u001b[0m\u001b[0;34m,\u001b[0m \u001b[0mright\u001b[0m\u001b[0;34m,\u001b[0m \u001b[0mmul\u001b[0m\u001b[0;34m)\u001b[0m\u001b[0;34m\u001b[0m\u001b[0;34m\u001b[0m\u001b[0m\n",
      "\u001b[0;32m/usr/lib/python3/dist-packages/sage/rings/polynomial/polynomial_element.pyx\u001b[0m in \u001b[0;36msage.rings.polynomial.polynomial_element.Polynomial._mul_ (build/cythonized/sage/rings/polynomial/polynomial_element.c:17356)\u001b[0;34m()\u001b[0m\n\u001b[1;32m   1703\u001b[0m \u001b[0;34m\u001b[0m\u001b[0m\n\u001b[1;32m   1704\u001b[0m         \u001b[0;32melif\u001b[0m \u001b[0mself\u001b[0m\u001b[0;34m.\u001b[0m\u001b[0m_parent\u001b[0m\u001b[0;34m.\u001b[0m\u001b[0mis_exact\u001b[0m\u001b[0;34m(\u001b[0m\u001b[0;34m)\u001b[0m\u001b[0;34m:\u001b[0m\u001b[0;34m\u001b[0m\u001b[0;34m\u001b[0m\u001b[0m\n\u001b[0;32m-> 1705\u001b[0;31m             \u001b[0;32mreturn\u001b[0m \u001b[0mself\u001b[0m\u001b[0;34m.\u001b[0m\u001b[0m_mul_karatsuba\u001b[0m\u001b[0;34m(\u001b[0m\u001b[0mright\u001b[0m\u001b[0;34m)\u001b[0m\u001b[0;34m\u001b[0m\u001b[0;34m\u001b[0m\u001b[0m\n\u001b[0m\u001b[1;32m   1706\u001b[0m         \u001b[0;32melse\u001b[0m\u001b[0;34m:\u001b[0m\u001b[0;34m\u001b[0m\u001b[0;34m\u001b[0m\u001b[0m\n\u001b[1;32m   1707\u001b[0m             \u001b[0;32mreturn\u001b[0m \u001b[0mself\u001b[0m\u001b[0;34m.\u001b[0m\u001b[0m_mul_generic\u001b[0m\u001b[0;34m(\u001b[0m\u001b[0mright\u001b[0m\u001b[0;34m)\u001b[0m\u001b[0;34m\u001b[0m\u001b[0;34m\u001b[0m\u001b[0m\n",
      "\u001b[0;32m/usr/lib/python3/dist-packages/sage/rings/polynomial/polynomial_element.pyx\u001b[0m in \u001b[0;36msage.rings.polynomial.polynomial_element.Polynomial._mul_karatsuba (build/cythonized/sage/rings/polynomial/polynomial_element.c:30395)\u001b[0;34m()\u001b[0m\n\u001b[1;32m   3138\u001b[0m             \u001b[0mK_threshold\u001b[0m \u001b[0;34m=\u001b[0m \u001b[0mself\u001b[0m\u001b[0;34m.\u001b[0m\u001b[0m_parent\u001b[0m\u001b[0;34m.\u001b[0m\u001b[0m_Karatsuba_threshold\u001b[0m\u001b[0;34m\u001b[0m\u001b[0;34m\u001b[0m\u001b[0m\n\u001b[1;32m   3139\u001b[0m         \u001b[0;32mif\u001b[0m \u001b[0mn\u001b[0m \u001b[0;34m<=\u001b[0m \u001b[0mK_threshold\u001b[0m \u001b[0;32mor\u001b[0m \u001b[0mm\u001b[0m \u001b[0;34m<=\u001b[0m \u001b[0mK_threshold\u001b[0m\u001b[0;34m:\u001b[0m\u001b[0;34m\u001b[0m\u001b[0;34m\u001b[0m\u001b[0m\n\u001b[0;32m-> 3140\u001b[0;31m             \u001b[0;32mreturn\u001b[0m \u001b[0mself\u001b[0m\u001b[0;34m.\u001b[0m\u001b[0m_new_generic\u001b[0m\u001b[0;34m(\u001b[0m\u001b[0mdo_schoolbook_product\u001b[0m\u001b[0;34m(\u001b[0m\u001b[0mf\u001b[0m\u001b[0;34m,\u001b[0m \u001b[0mg\u001b[0m\u001b[0;34m,\u001b[0m \u001b[0;34m-\u001b[0m\u001b[0;36m1\u001b[0m\u001b[0;34m)\u001b[0m\u001b[0;34m)\u001b[0m\u001b[0;34m\u001b[0m\u001b[0;34m\u001b[0m\u001b[0m\n\u001b[0m\u001b[1;32m   3141\u001b[0m         \u001b[0;32mif\u001b[0m \u001b[0mn\u001b[0m \u001b[0;34m==\u001b[0m \u001b[0mm\u001b[0m\u001b[0;34m:\u001b[0m\u001b[0;34m\u001b[0m\u001b[0;34m\u001b[0m\u001b[0m\n\u001b[1;32m   3142\u001b[0m             \u001b[0;32mreturn\u001b[0m \u001b[0mself\u001b[0m\u001b[0;34m.\u001b[0m\u001b[0m_new_generic\u001b[0m\u001b[0;34m(\u001b[0m\u001b[0mdo_karatsuba\u001b[0m\u001b[0;34m(\u001b[0m\u001b[0mf\u001b[0m\u001b[0;34m,\u001b[0m\u001b[0mg\u001b[0m\u001b[0;34m,\u001b[0m \u001b[0mK_threshold\u001b[0m\u001b[0;34m,\u001b[0m \u001b[0;36m0\u001b[0m\u001b[0;34m,\u001b[0m \u001b[0;36m0\u001b[0m\u001b[0;34m,\u001b[0m \u001b[0mn\u001b[0m\u001b[0;34m)\u001b[0m\u001b[0;34m)\u001b[0m\u001b[0;34m\u001b[0m\u001b[0;34m\u001b[0m\u001b[0m\n",
      "\u001b[0;32m/usr/lib/python3/dist-packages/sage/rings/polynomial/polynomial_element.pyx\u001b[0m in \u001b[0;36msage.rings.polynomial.polynomial_element.Polynomial._new_generic (build/cythonized/sage/rings/polynomial/polynomial_element.c:6415)\u001b[0;34m()\u001b[0m\n\u001b[1;32m    265\u001b[0m             \u001b[0;32mdel\u001b[0m \u001b[0mcoeffs\u001b[0m\u001b[0;34m[\u001b[0m\u001b[0mn\u001b[0m\u001b[0;34m]\u001b[0m\u001b[0;34m\u001b[0m\u001b[0;34m\u001b[0m\u001b[0m\n\u001b[1;32m    266\u001b[0m             \u001b[0mn\u001b[0m \u001b[0;34m-=\u001b[0m \u001b[0;36m1\u001b[0m\u001b[0;34m\u001b[0m\u001b[0;34m\u001b[0m\u001b[0m\n\u001b[0;32m--> 267\u001b[0;31m         \u001b[0;32mreturn\u001b[0m \u001b[0mtype\u001b[0m\u001b[0;34m(\u001b[0m\u001b[0mself\u001b[0m\u001b[0;34m)\u001b[0m\u001b[0;34m(\u001b[0m\u001b[0mself\u001b[0m\u001b[0;34m.\u001b[0m\u001b[0m_parent\u001b[0m\u001b[0;34m,\u001b[0m \u001b[0mcoeffs\u001b[0m\u001b[0;34m,\u001b[0m \u001b[0mcheck\u001b[0m\u001b[0;34m=\u001b[0m\u001b[0;32mFalse\u001b[0m\u001b[0;34m)\u001b[0m\u001b[0;34m\u001b[0m\u001b[0;34m\u001b[0m\u001b[0m\n\u001b[0m\u001b[1;32m    268\u001b[0m \u001b[0;34m\u001b[0m\u001b[0m\n\u001b[1;32m    269\u001b[0m     \u001b[0mcpdef\u001b[0m \u001b[0m_add_\u001b[0m\u001b[0;34m(\u001b[0m\u001b[0mself\u001b[0m\u001b[0;34m,\u001b[0m \u001b[0mright\u001b[0m\u001b[0;34m)\u001b[0m\u001b[0;34m:\u001b[0m\u001b[0;34m\u001b[0m\u001b[0;34m\u001b[0m\u001b[0m\n",
      "\u001b[0;32m/usr/lib/python3/dist-packages/sage/rings/polynomial/polynomial_element_generic.py\u001b[0m in \u001b[0;36m__init__\u001b[0;34m(self, parent, x, check, is_gen, construct)\u001b[0m\n\u001b[1;32m   1064\u001b[0m \u001b[0;34m\u001b[0m\u001b[0m\n\u001b[1;32m   1065\u001b[0m \u001b[0;32mclass\u001b[0m \u001b[0mPolynomial_generic_dense_field\u001b[0m\u001b[0;34m(\u001b[0m\u001b[0mPolynomial_generic_dense\u001b[0m\u001b[0;34m,\u001b[0m \u001b[0mPolynomial_generic_field\u001b[0m\u001b[0;34m)\u001b[0m\u001b[0;34m:\u001b[0m\u001b[0;34m\u001b[0m\u001b[0;34m\u001b[0m\u001b[0m\n\u001b[0;32m-> 1066\u001b[0;31m     \u001b[0;32mdef\u001b[0m \u001b[0m__init__\u001b[0m\u001b[0;34m(\u001b[0m\u001b[0mself\u001b[0m\u001b[0;34m,\u001b[0m \u001b[0mparent\u001b[0m\u001b[0;34m,\u001b[0m \u001b[0mx\u001b[0m\u001b[0;34m=\u001b[0m\u001b[0;32mNone\u001b[0m\u001b[0;34m,\u001b[0m \u001b[0mcheck\u001b[0m\u001b[0;34m=\u001b[0m\u001b[0;32mTrue\u001b[0m\u001b[0;34m,\u001b[0m \u001b[0mis_gen\u001b[0m \u001b[0;34m=\u001b[0m \u001b[0;32mFalse\u001b[0m\u001b[0;34m,\u001b[0m \u001b[0mconstruct\u001b[0m\u001b[0;34m=\u001b[0m\u001b[0;32mFalse\u001b[0m\u001b[0;34m)\u001b[0m\u001b[0;34m:\u001b[0m\u001b[0;34m\u001b[0m\u001b[0;34m\u001b[0m\u001b[0m\n\u001b[0m\u001b[1;32m   1067\u001b[0m         \u001b[0mPolynomial_generic_dense\u001b[0m\u001b[0;34m.\u001b[0m\u001b[0m__init__\u001b[0m\u001b[0;34m(\u001b[0m\u001b[0mself\u001b[0m\u001b[0;34m,\u001b[0m \u001b[0mparent\u001b[0m\u001b[0;34m,\u001b[0m \u001b[0mx\u001b[0m\u001b[0;34m,\u001b[0m \u001b[0mcheck\u001b[0m\u001b[0;34m,\u001b[0m \u001b[0mis_gen\u001b[0m\u001b[0;34m)\u001b[0m\u001b[0;34m\u001b[0m\u001b[0;34m\u001b[0m\u001b[0m\n\u001b[1;32m   1068\u001b[0m \u001b[0;34m\u001b[0m\u001b[0m\n",
      "\u001b[0;32msrc/cysignals/signals.pyx\u001b[0m in \u001b[0;36mcysignals.signals.python_check_interrupt\u001b[0;34m()\u001b[0m\n",
      "\u001b[0;31mKeyboardInterrupt\u001b[0m: "
     ]
    }
   ],
   "source": [
    "stats(T^3)"
   ]
  },
  {
   "cell_type": "code",
   "execution_count": 38,
   "metadata": {},
   "outputs": [
    {
     "name": "stdout",
     "output_type": "stream",
     "text": [
      "Rank of all weight 2 modular forms is 165\n",
      "Rank of matrix is 165\n"
     ]
    },
    {
     "data": {
      "text/plain": "{'q': 2,\n 'N': T^3 + 1,\n 'N, factored': (T + 1) * (T^2 + T + 1),\n 'number of cusps': 45,\n 'finalMatrix': 425 x 240 dense matrix over Function field in e defined by e^3 + (T + 1)*e^2 + T*e + 1,\n 'number of nonzero entries': 12554,\n 'fraction of nonzero entries': 0.12307843137254902,\n 'rank': 165,\n 'full rank of weight 2 D-modular forms': 165,\n 'time taken': '1:08:46.759680'}"
     },
     "execution_count": 38,
     "metadata": {},
     "output_type": "execute_result"
    }
   ],
   "source": [
    "stats(T^3+1)"
   ]
  },
  {
   "cell_type": "code",
   "execution_count": 37,
   "metadata": {},
   "outputs": [
    {
     "name": "stdout",
     "output_type": "stream",
     "text": [
      "Rank of all weight 2 modular forms is 132\n",
      "Rank of matrix is 131\n"
     ]
    },
    {
     "data": {
      "text/plain": "{'q': 2,\n 'N': T^3 + T^2,\n 'N, factored': (T + 1) * T^2,\n 'number of cusps': 36,\n 'finalMatrix': 228 x 192 dense matrix over Function field in e defined by e^2 + T*e + 1,\n 'number of nonzero entries': 5101,\n 'fraction of nonzero entries': 0.1165250365497076,\n 'rank': 131,\n 'full rank of weight 2 D-modular forms': 132,\n 'time taken': '1:09:42.154271'}"
     },
     "execution_count": 37,
     "metadata": {},
     "output_type": "execute_result"
    }
   ],
   "source": [
    "stats(T^3+T^2)"
   ]
  },
  {
   "cell_type": "code",
   "execution_count": 40,
   "metadata": {},
   "outputs": [
    {
     "name": "stdout",
     "output_type": "stream",
     "text": [
      "Rank of all weight 2 modular forms is 231\n",
      "Rank of matrix is 231\n"
     ]
    },
    {
     "data": {
      "text/plain": "{'q': 2,\n 'N': T^3 + T^2 + 1,\n 'N, factored': T^3 + T^2 + 1,\n 'number of cusps': 63,\n 'finalMatrix': 1365 x 336 dense matrix over Function field in e defined by e^7 + (T^4 + T^2 + T + 1)*e^3 + (T^4 + T^3 + T)*e + T^3 + T^2 + 1,\n 'number of nonzero entries': 63836,\n 'fraction of nonzero entries': 0.13918541775684634,\n 'rank': 231,\n 'full rank of weight 2 D-modular forms': 231,\n 'time taken': '7:33:00.943177'}"
     },
     "execution_count": 40,
     "metadata": {},
     "output_type": "execute_result"
    }
   ],
   "source": [
    "stats(T^3+T^2+1)"
   ]
  },
  {
   "cell_type": "markdown",
   "metadata": {},
   "source": [
    "## $q = 2$, $\\deg N = 4$"
   ]
  },
  {
   "cell_type": "code",
   "execution_count": 41,
   "metadata": {},
   "outputs": [
    {
     "name": "stdout",
     "output_type": "stream",
     "text": [
      "Forming set of Eisenstein pairs"
     ]
    }
   ],
   "source": [
    "stats(T*(T+1)*(T^2+T+1))"
   ]
  },
  {
   "cell_type": "markdown",
   "metadata": {},
   "source": [
    "## $q = 3$, $\\deg N = 2$"
   ]
  },
  {
   "cell_type": "code",
   "execution_count": 23,
   "metadata": {},
   "outputs": [
    {
     "name": "stdout",
     "output_type": "stream",
     "text": [
      "Full rank of weight 2 modular forms is 117\n",
      "Rank of matrix is 116\n"
     ]
    },
    {
     "data": {
      "text/plain": [
       "{'q': 3,\n",
       " 'N': T^2,\n",
       " 'N, factored': T^2,\n",
       " 'number of cusps': 36,\n",
       " 'finalMatrix': 430 x 162 dense matrix over Function field in e defined by e^6 + 2*T*e^4 + T^2*e^2 + T,\n",
       " 'number of nonzero entries': 8522,\n",
       " 'fraction of nonzero entries': 0.12233706574791846,\n",
       " 'rank': 116,\n",
       " 'full rank of weight 2 D-modular forms': 117,\n",
       " 'time taken': '0:00:47.419983'}"
      ]
     },
     "execution_count": 23,
     "metadata": {},
     "output_type": "execute_result"
    }
   ],
   "source": [
    "stats(T^2)"
   ]
  },
  {
   "cell_type": "code",
   "execution_count": 24,
   "metadata": {},
   "outputs": [
    {
     "name": "stdout",
     "output_type": "stream",
     "text": [
      "Full rank of weight 2 modular forms is 104\n",
      "Rank of matrix is 90\n"
     ]
    },
    {
     "data": {
      "text/plain": [
       "{'q': 3,\n",
       " 'N': T^2 + T,\n",
       " 'N, factored': T * (T + 1),\n",
       " 'number of cusps': 32,\n",
       " 'finalMatrix': 430 x 144 dense matrix over Function field in e defined by e^4 + (T + 2)*e^2 + 1,\n",
       " 'number of nonzero entries': 7429,\n",
       " 'fraction of nonzero entries': 0.11997739018087855,\n",
       " 'rank': 90,\n",
       " 'full rank of weight 2 D-modular forms': 104,\n",
       " 'time taken': '0:00:20.484308'}"
      ]
     },
     "execution_count": 24,
     "metadata": {},
     "output_type": "execute_result"
    }
   ],
   "source": [
    "stats(T^2+T)"
   ]
  },
  {
   "cell_type": "code",
   "execution_count": 25,
   "metadata": {},
   "outputs": [
    {
     "name": "stdout",
     "output_type": "stream",
     "text": [
      "Full rank of weight 2 modular forms is 130\n",
      "Rank of matrix is 130\n"
     ]
    },
    {
     "data": {
      "text/plain": [
       "{'q': 3,\n",
       " 'N': T^2 + 1,\n",
       " 'N, factored': T^2 + 1,\n",
       " 'number of cusps': 40,\n",
       " 'finalMatrix': 430 x 180 dense matrix over Function field in e defined by e^8 + (T^3 + T)*e^2 + T^2 + 1,\n",
       " 'number of nonzero entries': 9563,\n",
       " 'fraction of nonzero entries': 0.1235529715762274,\n",
       " 'rank': 130,\n",
       " 'full rank of weight 2 D-modular forms': 130,\n",
       " 'time taken': '0:04:30.281822'}"
      ]
     },
     "execution_count": 25,
     "metadata": {},
     "output_type": "execute_result"
    }
   ],
   "source": [
    "stats(T^2+1)"
   ]
  },
  {
   "cell_type": "markdown",
   "metadata": {},
   "source": [
    "## $q = 4$, $\\deg N = 2$"
   ]
  },
  {
   "cell_type": "code",
   "execution_count": null,
   "metadata": {},
   "outputs": [],
   "source": [
    "stats(T^2)"
   ]
  },
  {
   "cell_type": "code",
   "execution_count": null,
   "metadata": {},
   "outputs": [],
   "source": [
    "stats(T^2+g)"
   ]
  },
  {
   "cell_type": "code",
   "execution_count": null,
   "metadata": {},
   "outputs": [],
   "source": [
    "stats(T^2+T)"
   ]
  },
  {
   "cell_type": "code",
   "execution_count": null,
   "metadata": {},
   "outputs": [],
   "source": [
    "stats(T^2+T+g)"
   ]
  },
  {
   "cell_type": "code",
   "execution_count": null,
   "metadata": {},
   "outputs": [],
   "source": [
    "stats(T^2+g*T)"
   ]
  },
  {
   "cell_type": "code",
   "execution_count": null,
   "metadata": {},
   "outputs": [],
   "source": [
    "stats(T^2+g*T+g)"
   ]
  },
  {
   "cell_type": "code",
   "execution_count": null,
   "metadata": {},
   "outputs": [],
   "source": [
    "stats(T^2+(g+1)*T)"
   ]
  },
  {
   "cell_type": "code",
   "execution_count": null,
   "metadata": {},
   "outputs": [],
   "source": [
    "stats(T^2+(g+1)*T+g)"
   ]
  },
  {
   "source": [
    "# Exotic Relations"
   ],
   "cell_type": "markdown",
   "metadata": {}
  },
  {
   "cell_type": "code",
   "execution_count": 46,
   "metadata": {},
   "outputs": [],
   "source": [
    "import time\n",
    "import datetime\n",
    "\n",
    "def printTemp(*args):\n",
    "    print(\"\\r\", *args, end='')\n",
    "\n",
    "def exoticRelations(N):\n",
    "    start = time.time()\n",
    "\n",
    "    N = FqT(N)\n",
    "    printTemp(f\"Beginning calculation of statistics for {N}\")\n",
    "\n",
    "    printTemp(\"Forming set of Eisenstein pairs\")\n",
    "    redTwoPairs = reducedTwoPairs(N)\n",
    "\n",
    "    printTemp(\"Calculating t-expansions of Eisenstein pairs\")\n",
    "    cutoff = 2 * qNorm(N) * EulerPhi(2,N) / (q^2-1)\n",
    "    cuts = [E2SeriesAllCusps(r, N, cutoff) for r in redTwoPairs]\n",
    "    printTemp(\"Creating final matrix of coefficients\")\n",
    "    mat = matrix(cuts)\n",
    "    r, c = mat.nrows(), mat.ncols()\n",
    "    printTemp(f\"Matrix has dimensions {r}×{c}\")\n",
    "\n",
    "    printTemp(\"Finding exotic relations between products\",\n",
    "              \"of two Eisenstein series\")\n",
    "    rel_coeffs = mat.kernel().basis()\n",
    "    print(f\"\\r{len(rel_coeffs)} relations:\")\n",
    "    ind_R2P = {i:r for i,r in enumerate(redTwoPairs)}\n",
    "    rel_strings = [\n",
    "        f\"{ri}: 0 = \" + \" + \".join(\n",
    "            f\"({c!s}) * E2[{ind_R2P[i][0]!s}] * E2[{ind_R2P[i][1]!s}]\"\n",
    "            for i,c in enumerate(coeff_list) if c != 0\n",
    "        ) for ri, coeff_list in enumerate(rel_coeffs)\n",
    "    ]\n",
    "    for eqn in rel_strings: print(eqn)\n",
    "    # rank of products of two Eisenstein series\n",
    "    E2rank = mat.nrows() - len(rel_coeffs)\n",
    "\n",
    "    n_nnz = sum(map(\n",
    "        lambda row: sum(map(lambda entry: entry != 0, row)),\n",
    "        mat\n",
    "    ))\n",
    "    n_mat = mat.nrows() * mat.ncols()\n",
    "\n",
    "    end = time.time()\n",
    "\n",
    "\n",
    "    return {\n",
    "        \"q\": q,\n",
    "        \"N\": N,\n",
    "        \"N, factored\": N.factor(),\n",
    "        \"number of cusps\": len(biCusps(N)),\n",
    "        \"finalMatrix\": mat,\n",
    "        \"number of nonzero entries\": n_nnz,\n",
    "        \"fraction of nonzero entries\": n_nnz / n_mat,\n",
    "        \"rank\": E2rank,\n",
    "        \"time taken\": str(datetime.timedelta(seconds=end-start))\n",
    "    }"
   ]
  },
  {
   "source": [
    "## $q = 2$, $\\deg N = 2$"
   ],
   "cell_type": "markdown",
   "metadata": {}
  },
  {
   "cell_type": "code",
   "execution_count": 47,
   "metadata": {},
   "outputs": [
    {
     "output_type": "stream",
     "name": "stdout",
     "text": [
      "17 relations:\n",
      "0: 0 = (1) * E2[(1, T + 1)] * E2[(0, T)] + (1/T*e + 1) * E2[(1, T + 1)] * E2[(0, T + 1)] + (1/T*e) * E2[(T + 1, T)] * E2[(T, T + 1)] + (1/T*e) * E2[(T + 1, T)] * E2[(T + 1, 1)] + (1/T) * E2[(T + 1, T + 1)] * E2[(1, T)] + (1/T) * E2[(T + 1, T + 1)] * E2[(1, T + 1)] + (1/T) * E2[(T + 1, T + 1)] * E2[(T, 1)] + (1/T*e + (T + 1)/T) * E2[(T + 1, T + 1)] * E2[(T, T + 1)] + (1/T*e + 1/T) * E2[(T + 1, T + 1)] * E2[(T + 1, 1)] + (1/T*e + (T + 1)/T) * E2[(T + 1, T + 1)] * E2[(T + 1, T)]\n",
      "1: 0 = (1) * E2[(1, T + 1)] * E2[(1, T)] + (e + T + 1) * E2[(T + 1, 1)] * E2[(T, T + 1)] + (e + T) * E2[(T + 1, T + 1)] * E2[(0, T)] + (1) * E2[(T + 1, T + 1)] * E2[(0, T + 1)] + (1/T*e) * E2[(T + 1, T + 1)] * E2[(1, T)] + (((T + 1)/T)*e + T + 1) * E2[(T + 1, T + 1)] * E2[(1, T + 1)] + (1/T*e + 1) * E2[(T + 1, T + 1)] * E2[(T, 1)] + (((T + 1)/T)*e + T) * E2[(T + 1, T + 1)] * E2[(T, T + 1)] + (((T + 1)/T)*e + T) * E2[(T + 1, T + 1)] * E2[(T + 1, 1)] + (((T + 1)/T)*e + T) * E2[(T + 1, T + 1)] * E2[(T + 1, T)]\n",
      "2: 0 = (1) * E2[(T, T + 1)] * E2[(0, T)] + (1/T) * E2[(T, T + 1)] * E2[(T, T + 1)] + (1/T*e + 1) * E2[(T + 1, T + 1)] * E2[(0, T)] + (1/T) * E2[(T + 1, T + 1)] * E2[(0, T + 1)] + (1/T^2*e) * E2[(T + 1, T + 1)] * E2[(1, T)] + (1/T^2*e + 1/T) * E2[(T + 1, T + 1)] * E2[(1, T + 1)] + (1/T^2*e + 1/T) * E2[(T + 1, T + 1)] * E2[(T, 1)] + (1/T^2*e + 1/T) * E2[(T + 1, T + 1)] * E2[(T, T + 1)] + (1/T^2*e) * E2[(T + 1, T + 1)] * E2[(T + 1, 1)] + (1/T^2*e + 1/T) * E2[(T + 1, T + 1)] * E2[(T + 1, T)]\n",
      "3: 0 = (1) * E2[(T, T + 1)] * E2[(0, T + 1)] + (1) * E2[(T + 1, T + 1)] * E2[(0, T)] + (1/T*e) * E2[(T + 1, T + 1)] * E2[(0, T + 1)] + (1/T*e) * E2[(T + 1, T + 1)] * E2[(1, T)] + (1/T*e + 1) * E2[(T + 1, T + 1)] * E2[(T, T + 1)] + (1/T*e + 1) * E2[(T + 1, T + 1)] * E2[(T + 1, T)]\n",
      "4: 0 = (1) * E2[(T, T + 1)] * E2[(T, 1)]\n",
      "5: 0 = (1) * E2[(T + 1, 0)] * E2[(1, T + 1)] + (e + T + 1) * E2[(T + 1, 1)] * E2[(T, T + 1)] + (1/T*e + 1) * E2[(T + 1, T + 1)] * E2[(1, T)] + (1/T*e) * E2[(T + 1, T + 1)] * E2[(1, T + 1)] + (1/T*e) * E2[(T + 1, T + 1)] * E2[(T, 1)] + (((T + 1)/T)*e + T) * E2[(T + 1, T + 1)] * E2[(T, T + 1)] + (1) * E2[(T + 1, T + 1)] * E2[(T + 1, 0)] + (((T + 1)/T)*e + T + 1) * E2[(T + 1, T + 1)] * E2[(T + 1, 1)] + (((T + 1)/T)*e + T) * E2[(T + 1, T + 1)] * E2[(T + 1, T)]\n",
      "6: 0 = (1) * E2[(T + 1, 0)] * E2[(T, T)] + (1/T*e + 1) * E2[(T + 1, 1)] * E2[(T, T + 1)] + (1) * E2[(T + 1, T + 1)] * E2[(T, 0)] + (1/T*e + 1) * E2[(T + 1, T + 1)] * E2[(T, T + 1)] + (1/T*e) * E2[(T + 1, T + 1)] * E2[(T + 1, 0)] + (1) * E2[(T + 1, T + 1)] * E2[(T + 1, 1)] + (1/T*e + 1) * E2[(T + 1, T + 1)] * E2[(T + 1, T)]\n",
      "7: 0 = (1) * E2[(T + 1, 0)] * E2[(T, T + 1)] + (e + T) * E2[(T + 1, T)] * E2[(T, T)] + (1) * E2[(T + 1, T)] * E2[(T, T + 1)] + (1) * E2[(T + 1, T)] * E2[(T + 1, 1)] + (1) * E2[(T + 1, T + 1)] * E2[(T, 1)] + (e + T + 1) * E2[(T + 1, T + 1)] * E2[(T, T + 1)] + (1) * E2[(T + 1, T + 1)] * E2[(T + 1, 0)]\n",
      "8: 0 = (1) * E2[(T + 1, 1)] * E2[(1, T)] + (1) * E2[(T + 1, 1)] * E2[(T, T + 1)] + (e) * E2[(T + 1, T)] * E2[(T, T)] + (e + 1) * E2[(T + 1, T)] * E2[(T + 1, 1)] + (1) * E2[(T + 1, T + 1)] * E2[(1, T + 1)] + (1) * E2[(T + 1, T + 1)] * E2[(T, T + 1)] + (e + 1) * E2[(T + 1, T + 1)] * E2[(T + 1, 1)]\n",
      "9: 0 = (1) * E2[(T + 1, 1)] * E2[(1, T + 1)] + (T) * E2[(T + 1, 1)] * E2[(T, T)] + (1) * E2[(T + 1, 1)] * E2[(T + 1, 1)] + (1) * E2[(T + 1, T + 1)] * E2[(1, T)] + (e + T) * E2[(T + 1, T + 1)] * E2[(T, 0)] + (1) * E2[(T + 1, T + 1)] * E2[(T + 1, 0)]\n",
      "10: 0 = (1) * E2[(T + 1, 1)] * E2[(T, 0)] + (1/T*e + 1) * E2[(T + 1, 1)] * E2[(T, T + 1)] + (1/T*e + 1) * E2[(T + 1, 1)] * E2[(T + 1, 0)] + (1) * E2[(T + 1, T)] * E2[(T, T)] + (1/T*e) * E2[(T + 1, T)] * E2[(T + 1, 1)] + (1/T*e + 1) * E2[(T + 1, T + 1)] * E2[(T, T + 1)] + (1) * E2[(T + 1, T + 1)] * E2[(T + 1, 1)]\n",
      "11: 0 = (1) * E2[(T + 1, 1)] * E2[(T, 1)] + (e + T) * E2[(T + 1, T)] * E2[(T, T)] + (e + T) * E2[(T + 1, T + 1)] * E2[(T, 0)] + (1) * E2[(T + 1, T + 1)] * E2[(T, 1)] + (1) * E2[(T + 1, T + 1)] * E2[(T + 1, 0)] + (e + T) * E2[(T + 1, T + 1)] * E2[(T + 1, 1)] + (e + T + 1) * E2[(T + 1, T + 1)] * E2[(T + 1, T)]\n",
      "12: 0 = (1) * E2[(T + 1, T)] * E2[(0, T + 1)] + (e + T) * E2[(T + 1, T)] * E2[(T, T)] + (1) * E2[(T + 1, T)] * E2[(T + 1, 1)] + (1) * E2[(T + 1, T + 1)] * E2[(0, T + 1)] + (1) * E2[(T + 1, T + 1)] * E2[(1, T)] + (1) * E2[(T + 1, T + 1)] * E2[(1, T + 1)] + (1) * E2[(T + 1, T + 1)] * E2[(T + 1, 1)] + (e + T + 1) * E2[(T + 1, T + 1)] * E2[(T + 1, T)]\n",
      "13: 0 = (1) * E2[(T + 1, T)] * E2[(1, T)] + (T) * E2[(T + 1, T)] * E2[(T, 0)] + (1) * E2[(T + 1, T)] * E2[(T + 1, T)] + (1/T*e + 1) * E2[(T + 1, T + 1)] * E2[(1, T)] + (1/T*e) * E2[(T + 1, T + 1)] * E2[(1, T + 1)] + (e + T) * E2[(T + 1, T + 1)] * E2[(T, 0)] + (1/T*e) * E2[(T + 1, T + 1)] * E2[(T, 1)] + (1/T*e + 1) * E2[(T + 1, T + 1)] * E2[(T, T + 1)] + (1) * E2[(T + 1, T + 1)] * E2[(T + 1, 0)] + (1/T*e + 1) * E2[(T + 1, T + 1)] * E2[(T + 1, 1)] + (1/T*e + 1) * E2[(T + 1, T + 1)] * E2[(T + 1, T)]\n",
      "14: 0 = (1) * E2[(T + 1, T)] * E2[(1, T + 1)] + (e) * E2[(T + 1, T)] * E2[(T, T)] + (1/T*e) * E2[(T + 1, T + 1)] * E2[(1, T)] + (1/T*e + 1) * E2[(T + 1, T + 1)] * E2[(1, T + 1)] + (1/T*e) * E2[(T + 1, T + 1)] * E2[(T, 1)] + (1/T*e + 1) * E2[(T + 1, T + 1)] * E2[(T, T + 1)] + (1/T*e) * E2[(T + 1, T + 1)] * E2[(T + 1, 1)] + (1/T*e) * E2[(T + 1, T + 1)] * E2[(T + 1, T)]\n",
      "15: 0 = (1) * E2[(T + 1, T)] * E2[(T, 1)] + (e) * E2[(T + 1, T)] * E2[(T, T)] + (e + 1) * E2[(T + 1, T)] * E2[(T, T + 1)] + (e + 1) * E2[(T + 1, T)] * E2[(T + 1, 1)] + (e) * E2[(T + 1, T + 1)] * E2[(T + 1, 1)] + (1) * E2[(T + 1, T + 1)] * E2[(T + 1, T)]\n",
      "16: 0 = (1) * E2[(T + 1, T)] * E2[(T + 1, 0)] + (1) * E2[(T + 1, T + 1)] * E2[(T, 0)] + (1/T*e) * E2[(T + 1, T + 1)] * E2[(T, 1)] + (1/T*e + 1) * E2[(T + 1, T + 1)] * E2[(T, T + 1)] + (1/T*e) * E2[(T + 1, T + 1)] * E2[(T + 1, 0)] + (1/T*e + 1) * E2[(T + 1, T + 1)] * E2[(T + 1, T)]\n"
     ]
    },
    {
     "output_type": "execute_result",
     "data": {
      "text/plain": [
       "{'q': 2,\n",
       " 'N': T^2,\n",
       " 'N, factored': T^2,\n",
       " 'number of cusps': 12,\n",
       " 'finalMatrix': 44 x 32 dense matrix over Function field in e defined by e^2 + T*e + T,\n",
       " 'number of nonzero entries': 221,\n",
       " 'fraction of nonzero entries': 0.15696022727272727,\n",
       " 'rank': 27,\n",
       " 'time taken': '0:00:01.006038'}"
      ]
     },
     "metadata": {},
     "execution_count": 47
    }
   ],
   "source": [
    "exoticRelations(T^2)"
   ]
  },
  {
   "cell_type": "code",
   "execution_count": 48,
   "metadata": {},
   "outputs": [
    {
     "output_type": "stream",
     "name": "stdout",
     "text": [
      "6 relations:\n",
      "0: 0 = (1) * E2[(T, T)] * E2[(T, T)] + (T/(T + 1)) * E2[(T + 1, 0)] * E2[(T, T)] + (1/(T^2 + 1)) * E2[(T + 1, T + 1)] * E2[(1, T + 1)] + (1) * E2[(T + 1, T + 1)] * E2[(T, T)] + (T/(T + 1)) * E2[(T + 1, T + 1)] * E2[(T + 1, 0)] + (1/(T + 1)) * E2[(T + 1, T + 1)] * E2[(T + 1, 1)] + (T/(T^2 + 1)) * E2[(T + 1, T + 1)] * E2[(T + 1, T + 1)]\n",
      "1: 0 = (1) * E2[(T, T + 1)] * E2[(T, T + 1)] + (1) * E2[(T + 1, T + 1)] * E2[(1, T + 1)] + (T + 1) * E2[(T + 1, T + 1)] * E2[(T, T)] + (T + 1) * E2[(T + 1, T + 1)] * E2[(T + 1, 1)] + (T) * E2[(T + 1, T + 1)] * E2[(T + 1, T + 1)]\n",
      "2: 0 = (1) * E2[(T + 1, T)] * E2[(T, 1)] + (1) * E2[(T + 1, T)] * E2[(T, T + 1)] + (T) * E2[(T + 1, T + 1)] * E2[(T + 1, 1)]\n",
      "3: 0 = (1) * E2[(T + 1, T)] * E2[(T, T)] + (1/(T + 1)) * E2[(T + 1, T)] * E2[(T, T + 1)] + (1/(T + 1)) * E2[(T + 1, T + 1)] * E2[(1, T + 1)] + (1) * E2[(T + 1, T + 1)] * E2[(T, T)] + (T/(T + 1)) * E2[(T + 1, T + 1)] * E2[(T, T + 1)] + (1/(T + 1)) * E2[(T + 1, T + 1)] * E2[(T + 1, 1)] + (T/(T + 1)) * E2[(T + 1, T + 1)] * E2[(T + 1, T + 1)]\n",
      "4: 0 = (1) * E2[(T + 1, T)] * E2[(T + 1, T)] + (T) * E2[(T + 1, T + 1)] * E2[(T + 1, 1)]\n",
      "5: 0 = (1) * E2[(T + 1, T + 1)] * E2[(T, 1)] + (1) * E2[(T + 1, T + 1)] * E2[(T, T + 1)] + (1) * E2[(T + 1, T + 1)] * E2[(T + 1, T)]\n"
     ]
    },
    {
     "output_type": "execute_result",
     "data": {
      "text/plain": [
       "{'q': 2,\n",
       " 'N': T^2 + T,\n",
       " 'N, factored': T * (T + 1),\n",
       " 'number of cusps': 9,\n",
       " 'finalMatrix': 21 x 24 dense matrix over Function field in e defined by e + 1,\n",
       " 'number of nonzero entries': 71,\n",
       " 'fraction of nonzero entries': 0.14087301587301587,\n",
       " 'rank': 15,\n",
       " 'time taken': '0:00:01.049307'}"
      ]
     },
     "metadata": {},
     "execution_count": 48
    }
   ],
   "source": [
    "exoticRelations(T^2+T)"
   ]
  },
  {
   "cell_type": "markdown",
   "metadata": {},
   "source": [
    "# Rough Work"
   ]
  },
  {
   "cell_type": "code",
   "execution_count": null,
   "metadata": {},
   "outputs": [],
   "source": []
  }
 ],
 "metadata": {
  "kernelspec": {
   "display_name": "SageMath 9.0 for VSCode",
   "language": "python",
   "name": "sagemath-vscode"
  }
 },
 "nbformat": 4,
 "nbformat_minor": 4
}